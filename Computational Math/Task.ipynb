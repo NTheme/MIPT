{
 "cells": [
  {
   "metadata": {},
   "cell_type": "markdown",
   "source": [
    "# 1. Метод Гаусса\n",
    "\n",
    "## 1.1. Метод Гаусса с выбором главного элемента по столбцу"
   ],
   "id": "99c539939a342a61"
  },
  {
   "metadata": {
    "collapsed": true,
    "ExecuteTime": {
     "end_time": "2025-03-09T21:27:40.680428Z",
     "start_time": "2025-03-09T21:27:40.676253Z"
    }
   },
   "cell_type": "code",
   "source": [
    "import numpy as np\n",
    "\n",
    "\n",
    "def gauss_lu_partial_pivot(A, b):\n",
    "    \"\"\"\n",
    "    Solves Ax = b system using Gauss method with selecting pivotal element on column.\n",
    "\n",
    "   :param A: (n x n) matrix;\n",
    "   :param b: (n x 1) vector.\n",
    "   :return: L, U, P: (n x n) matrices so LU = PA, x: (n x 1) solution.\n",
    "    \"\"\"\n",
    "\n",
    "    if A.shape[0] != A.shape[1] or A.shape[0] != b.shape[0]:\n",
    "        raise ValueError('Wrong parameters shape!')\n",
    "\n",
    "    A = A.copy()\n",
    "    b = b.copy()\n",
    "    n = A.shape[0]\n",
    "\n",
    "    L = np.eye(n, dtype=float)\n",
    "    U = A.copy()\n",
    "    P = np.eye(n, dtype=float)\n",
    "\n",
    "    for k in range(n):\n",
    "        pivot = k + np.argmax(np.abs(U[k:, k]))\n",
    "        if U[pivot, k] == 0:\n",
    "            raise ValueError(\"Error: Specific Matrix!\")\n",
    "\n",
    "        if pivot != k:\n",
    "            U[[k, pivot], :] = U[[pivot, k], :]\n",
    "            b[[k, pivot]] = b[[pivot, k]]\n",
    "            P[[k, pivot], :] = P[[pivot, k], :]\n",
    "            L[:, [k, pivot]] = L[:, [pivot, k]]\n",
    "            L[[k, pivot], :] = L[[pivot, k], :]\n",
    "\n",
    "        for i in range(k + 1, n):\n",
    "            L[i, k] = U[i, k] / U[k, k]\n",
    "            U[i, :] = U[i, :] - L[i, k] * U[k, :]\n",
    "\n",
    "    y = np.zeros(n, dtype=float)\n",
    "    for i in range(n):\n",
    "        y[i] = b[i]\n",
    "        for j in range(i):\n",
    "            y[i] -= L[i, j] * y[j]\n",
    "\n",
    "    x = np.zeros(n, dtype=float)\n",
    "    for i in reversed(range(n)):\n",
    "        x[i] = y[i] / U[i, i]\n",
    "        for j in range(i + 1, n):\n",
    "            x[i] -= U[i, j] * x[j] / U[i, i]\n",
    "\n",
    "    return L, U, P, x"
   ],
   "id": "initial_id",
   "outputs": [],
   "execution_count": 8
  },
  {
   "metadata": {
    "ExecuteTime": {
     "end_time": "2025-03-09T21:27:40.701706Z",
     "start_time": "2025-03-09T21:27:40.684364Z"
    }
   },
   "cell_type": "code",
   "source": [
    "from tqdm import tqdm\n",
    "\n",
    "\n",
    "def gen_general(size, max_val):\n",
    "    return (2 * max_val) * np.random.rand(size[0], size[1]) - max_val, (2 * max_val) * np.random.rand(size[1]) - max_val\n",
    "\n",
    "\n",
    "def test_gauss(t):\n",
    "    print('Testing Gauss Pivotal method...\\n')\n",
    "    for i in tqdm(range(1, t + 1)):\n",
    "        n = np.random.randint(1, 1000)\n",
    "        A_test, b_test = gen_general((n, n), 1e6)\n",
    "\n",
    "        L, U, P, x_gauss = gauss_lu_partial_pivot(A_test, b_test)\n",
    "        x_numpy = np.linalg.solve(A_test, b_test)\n",
    "\n",
    "        error = np.linalg.norm(x_gauss - x_numpy, ord=np.inf)\n",
    "\n",
    "        print(f\"--- Test {i} ---\\n--> Size: {n}\\n--> Error: {error}\\n\")\n"
   ],
   "id": "4c848a3d081167c0",
   "outputs": [],
   "execution_count": 9
  },
  {
   "metadata": {
    "ExecuteTime": {
     "end_time": "2025-03-09T21:27:43.103200Z",
     "start_time": "2025-03-09T21:27:40.731743Z"
    }
   },
   "cell_type": "code",
   "source": "test_gauss(5)",
   "id": "be435fcffe8318a",
   "outputs": [
    {
     "name": "stdout",
     "output_type": "stream",
     "text": [
      "Testing Gauss Pivotal method...\n",
      "\n"
     ]
    },
    {
     "name": "stderr",
     "output_type": "stream",
     "text": [
      "  0%|          | 0/5 [00:00<?, ?it/s]"
     ]
    },
    {
     "name": "stdout",
     "output_type": "stream",
     "text": [
      "--- Test 1 ---\n",
      "--> Size: 99\n",
      "--> Error: 6.084022174945858e-14\n",
      "\n",
      "--- Test 2 ---\n",
      "--> Size: 3\n",
      "--> Error: 8.881784197001252e-16\n",
      "\n"
     ]
    },
    {
     "name": "stderr",
     "output_type": "stream",
     "text": [
      " 60%|██████    | 3/5 [00:00<00:00,  3.66it/s]"
     ]
    },
    {
     "name": "stdout",
     "output_type": "stream",
     "text": [
      "--- Test 3 ---\n",
      "--> Size: 759\n",
      "--> Error: 1.5587531265737198e-12\n",
      "\n"
     ]
    },
    {
     "name": "stderr",
     "output_type": "stream",
     "text": [
      " 80%|████████  | 4/5 [00:01<00:00,  2.40it/s]"
     ]
    },
    {
     "name": "stdout",
     "output_type": "stream",
     "text": [
      "--- Test 4 ---\n",
      "--> Size: 759\n",
      "--> Error: 5.921663159824675e-11\n",
      "\n"
     ]
    },
    {
     "name": "stderr",
     "output_type": "stream",
     "text": [
      "100%|██████████| 5/5 [00:02<00:00,  2.11it/s]"
     ]
    },
    {
     "name": "stdout",
     "output_type": "stream",
     "text": [
      "--- Test 5 ---\n",
      "--> Size: 810\n",
      "--> Error: 3.7891911830456593e-13\n",
      "\n"
     ]
    },
    {
     "name": "stderr",
     "output_type": "stream",
     "text": [
      "\n"
     ]
    }
   ],
   "execution_count": 10
  },
  {
   "metadata": {},
   "cell_type": "markdown",
   "source": [
    "# 2. Итерационные методы решения линейных систем\n",
    "\n",
    "## 2.1. Метод Ричардсона"
   ],
   "id": "ce447776fdebea5a"
  },
  {
   "metadata": {
    "ExecuteTime": {
     "end_time": "2025-03-09T21:27:43.118597Z",
     "start_time": "2025-03-09T21:27:43.115670Z"
    }
   },
   "cell_type": "code",
   "source": [
    "def richardson(A, b, tau, max_iter=1000, tol=1e-8):\n",
    "    \"\"\"\n",
    "    Solves Ax = b system using Richardson method.\n",
    "\n",
    "   :param A: (n x n) matrix;\n",
    "   :param b: (n x 1) vector.\n",
    "   :param tau: iteration parameter.\n",
    "   :param max_iter: maximum number of iterations.\n",
    "   :param tol: tolerance.\n",
    "   :return: x: (n x 1) approximate solution, residuals: a list of norms from every iteration.\n",
    "    \"\"\"\n",
    "\n",
    "    if A.shape[0] != A.shape[1] or A.shape[0] != b.shape[0]:\n",
    "        raise ValueError('Wrong parameters shape!')\n",
    "\n",
    "    x = np.zeros(len(b))\n",
    "    residuals = []\n",
    "    for k in range(max_iter):\n",
    "        r = A @ x - b\n",
    "        residuals.append(np.linalg.norm(r))\n",
    "        if residuals[-1] < tol:\n",
    "            break\n",
    "        x = x - tau * r\n",
    "\n",
    "    return x, residuals\n",
    "\n",
    "\n",
    "def gershgorin_bounds(A):\n",
    "    \"\"\"\n",
    "    Calculates lower and upper bounds of Eigenvalues of matrix A according to Gershgorin's theorem.\n",
    "\n",
    "    :param A: (n x n) matrix;\n",
    "    :return: lambda_min, lambda_max: lower and upper bounds of Eigenvalues of matrix A.\n",
    "    \"\"\"\n",
    "\n",
    "    if A.shape[0] != A.shape[1]:\n",
    "        raise ValueError('Wrong parameters shape!')\n",
    "\n",
    "    lambda_min = float('inf')\n",
    "    lambda_max = -float('inf')\n",
    "\n",
    "    for i in range(A.shape[0]):\n",
    "        center = A[i, i]\n",
    "        radius = np.sum(np.abs(A[i, :])) - abs(A[i, i])\n",
    "\n",
    "        left = center - radius\n",
    "        right = center + radius\n",
    "\n",
    "        if left < lambda_min:\n",
    "            lambda_min = left\n",
    "        if right > lambda_max:\n",
    "            lambda_max = right\n",
    "\n",
    "    if lambda_min <= 0:\n",
    "        lambda_min = 1e-15\n",
    "\n",
    "    return lambda_min, lambda_max"
   ],
   "id": "60326f30febc4d9a",
   "outputs": [],
   "execution_count": 11
  },
  {
   "metadata": {
    "ExecuteTime": {
     "end_time": "2025-03-09T21:50:59.150727Z",
     "start_time": "2025-03-09T21:50:59.145594Z"
    }
   },
   "cell_type": "code",
   "source": [
    "import matplotlib.pyplot as plt\n",
    "import time\n",
    "\n",
    "\n",
    "def gen_symmetric(size, max_val):\n",
    "    ret_a, ret_b = gen_general(size, max_val)\n",
    "    return ret_a @ ret_a.T, ret_b * ret_b\n",
    "\n",
    "\n",
    "def measure_time(func, *args, **kwargs):\n",
    "    start = time.time()\n",
    "    result = func(*args, **kwargs)\n",
    "    end = time.time()\n",
    "    return end - start, result\n",
    "\n",
    "\n",
    "def test_richardson():\n",
    "    print('Testing Richardson Iteration method...\\n')\n",
    "    n = np.random.randint(1, 1000)\n",
    "    A, b = gen_symmetric((n, n), 1)\n",
    "\n",
    "    eigenvals = np.linalg.eigvals(A)\n",
    "    lambda_min_estim, lambda_max_estim = gershgorin_bounds(A)\n",
    "    lambda_min_exact, lambda_max_exact = np.min(eigenvals), np.max(eigenvals)\n",
    "\n",
    "    print(\"--- Eigenvalues ---\")\n",
    "    print(f\"--> Gershgorin: min: {lambda_min_estim:.6g}, max: {lambda_max_estim:.6g}\")\n",
    "    print(f\"--> Exact:      min: {lambda_min_exact:.6g}, max: {lambda_max_exact:.6g}\")\n",
    "\n",
    "    tau_upper_bound = 2.0 / lambda_max_exact\n",
    "    tau_anyof = 0.5 * tau_upper_bound\n",
    "    tau_gersh = 2.0 / (lambda_min_estim + lambda_max_estim)\n",
    "    tau_exact = 2.0 / (lambda_min_exact + lambda_max_exact)\n",
    "\n",
    "    print(\"\\n--- Tau:\")\n",
    "    print(f\"--> Tau Upper Bound: {tau_upper_bound:.6g}\")\n",
    "    print(f\"--> Tau Any of:      {tau_anyof:.6g}\")\n",
    "    print(f\"--> Tau Gershgorin:  {tau_gersh:.6g}\")\n",
    "    print(f\"--> Tau Exact     :  {tau_exact:.6g}\")\n",
    "\n",
    "    max_iter = 10000\n",
    "    tol = 1e-1\n",
    "\n",
    "    time_true, x_true = measure_time(np.linalg.solve, A, b)\n",
    "    time_anyof, (x_anyof, res_anyof) = measure_time(richardson, A, b, tau_anyof, max_iter, tol)\n",
    "    time_gersh, (x_gersh, res_gersh) = measure_time(richardson, A, b, tau_gersh, max_iter, tol)\n",
    "    time_exact, (x_exact, res_exact) = measure_time(richardson, A, b, tau_exact, max_iter, tol)\n",
    "\n",
    "    err_anyof = np.linalg.norm(x_anyof - x_true)\n",
    "    err_gersh = np.linalg.norm(x_gersh - x_true)\n",
    "    err_exact = np.linalg.norm(x_exact - x_true)\n",
    "\n",
    "    print(\"\\n--- Norm |x_approx - x_true| ---\")\n",
    "    print(\"Any of:     {:.6e}\".format(err_anyof))\n",
    "    print(\"Gershgorin: {:.6e}\".format(err_gersh))\n",
    "    print(\"Exact:      {:.6e}\".format(err_exact))\n",
    "\n",
    "    # 6) Время работы\n",
    "    print(\"\\n--- Time ---\")\n",
    "    print(f\"NumPy:      {time_true:.6f} sec\")\n",
    "    print(f\"Any of:     {time_anyof:.6f} sec\")\n",
    "    print(f\"Gershgorin: {time_gersh:.6f} sec\")\n",
    "    print(f\"Exact:      {time_exact:.6f} sec\")\n",
    "\n",
    "    plt.figure(figsize=(8, 6))\n",
    "    plt.plot(np.log10(res_anyof), label=\"Tau Any of\")\n",
    "    plt.plot(np.log10(res_gersh), label=\"Tau Gershgorin\")\n",
    "    plt.plot(np.log10(res_exact), label=\"Tau Exact\")\n",
    "    plt.xlabel(\"Iteration\")\n",
    "    plt.ylabel(rf\"$\\log_{{10}} ||A x_k - b||$\")\n",
    "    plt.title(\"Richardson approximation\")\n",
    "    plt.grid(True)\n",
    "    plt.legend()\n",
    "    plt.show()\n"
   ],
   "id": "8c464debbafe7133",
   "outputs": [],
   "execution_count": 31
  },
  {
   "metadata": {
    "ExecuteTime": {
     "end_time": "2025-03-09T21:51:06.668652Z",
     "start_time": "2025-03-09T21:51:06.005230Z"
    }
   },
   "cell_type": "code",
   "source": "test_richardson()",
   "id": "2735369b065c757d",
   "outputs": [
    {
     "name": "stdout",
     "output_type": "stream",
     "text": [
      "Testing Richardson Iteration method...\n",
      "\n",
      "--- Eigenvalues ---\n",
      "--> Gershgorin: min: 1e-15, max: 1851.56\n",
      "--> Exact:      min: 0.000803112, max: 424.249\n",
      "\n",
      "--- Tau:\n",
      "--> Tau Upper Bound: 0.00471422\n",
      "--> Tau Any of:      0.00235711\n",
      "--> Tau Gershgorin:  0.00108017\n",
      "--> Tau Exact     :  0.00471421\n",
      "\n",
      "--- Norm |x_approx - x_true| ---\n",
      "Any of:     4.437552e+02\n",
      "Gershgorin: 4.490732e+02\n",
      "Exact:      4.347032e+02\n",
      "\n",
      "--- Time ---\n",
      "NumPy:      0.000676 sec\n",
      "Any of:     0.194341 sec\n",
      "Gershgorin: 0.201958 sec\n",
      "Exact:      0.171776 sec\n"
     ]
    },
    {
     "data": {
      "text/plain": [
       "<Figure size 800x600 with 1 Axes>"
      ],
      "image/png": "[encoded data removed]"
     },
     "metadata": {},
     "output_type": "display_data"
    }
   ],
   "execution_count": 32
  }
 ],
 "metadata": {
  "kernelspec": {
   "display_name": "Python 3",
   "language": "python",
   "name": "python3"
  },
  "language_info": {
   "codemirror_mode": {
    "name": "ipython",
    "version": 2
   },
   "file_extension": ".py",
   "mimetype": "text/x-python",
   "name": "python",
   "nbconvert_exporter": "python",
   "pygments_lexer": "ipython2",
   "version": "2.7.6"
  }
 },
 "nbformat": 4,
 "nbformat_minor": 5
}
