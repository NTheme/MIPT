{
 "cells": [
  {
   "cell_type": "markdown",
   "id": "6eaad4c7",
   "metadata": {
    "id": "6eaad4c7"
   },
   "source": [
    "# <a href=\"https://miptstats.github.io/courses/ad_fivt.html\">Введение в анализ данных</a>\n",
    "## Домашнее задание 6. Основы обработки текстов\n"
   ]
  },
  {
   "cell_type": "markdown",
   "id": "7622f90a",
   "metadata": {
    "id": "7622f90a"
   },
   "source": [
    "**Правила, <font color=\"red\">прочитайте внимательно</font>:**\n",
    "\n",
    "* Выполненную работу нужно отправить телеграм-боту `@miptstats_ds24_bot`. Для начала работы с ботом каждый раз отправляйте `/start`. **Работы, присланные иным способом, не принимаются.**\n",
    "* Дедлайн см. в боте. После дедлайна работы не принимаются кроме случаев наличия уважительной причины.\n",
    "* Прислать нужно **ноутбук в формате `ipynb`**.\n",
    "* Следите за размером файлов. **Бот не может принимать файлы весом более 20 Мб.** Если файл получается больше, заранее разделите его на несколько.\n",
    "* Выполнять задание необходимо полностью самостоятельно. **При обнаружении списывания все участники списывания будут сдавать устный зачет.**\n",
    "* Решения, размещенные на каких-либо интернет-ресурсах, не принимаются. Кроме того, публикация решения в открытом доступе может быть приравнена к предоставлению возможности списать.\n",
    "* Для выполнения задания используйте этот ноутбук в качестве основы, ничего не удаляя из него. Можно добавлять необходимое количество ячеек.\n",
    "* Комментарии к решению пишите в markdown-ячейках.\n",
    "* Выполнение задания (ход решения, выводы и пр.) должно быть осуществлено на русском языке.\n",
    "* Если код будет не понятен проверяющему, оценка может быть снижена.\n",
    "* Никакой код из данного задания при проверке запускаться не будет. *Если код студента не выполнен, не дописан и т.д., то он не оценивается.*\n",
    "\n",
    "\n",
    "**Баллы за задание:**\n",
    "\n",
    "* Задача 1 &mdash; 100 баллов\n",
    "* Задача 2 &mdash; 50 баллов\n",
    "\n",
    "Баллы учитываются в <b><font color=\"green\">факультативной части</font></b> курса и не влияют на оценку по основной части."
   ]
  },
  {
   "cell_type": "code",
   "execution_count": null,
   "id": "3431050d",
   "metadata": {
    "ExecuteTime": {
     "end_time": "2024-04-15T01:22:48.347454Z",
     "start_time": "2024-04-15T01:22:48.345622Z"
    },
    "id": "3431050d"
   },
   "outputs": [],
   "source": [
    "# Bot check\n",
    "\n",
    "# HW_ID: fpmi_ad6\n",
    "# Бот проверит этот ID и предупредит, если случайно сдать что-то не то.\n",
    "\n",
    "# Status: final\n",
    "# Перед отправкой в финальном решении удали \"not\" в строчке выше.\n",
    "# Так бот проверит, что ты отправляешь финальную версию, а не промежуточную.\n",
    "# Никакие значения в этой ячейке не влияют на факт сдачи работы."
   ]
  },
  {
   "cell_type": "code",
   "id": "2ee3e8d8",
   "metadata": {
    "colab": {
     "base_uri": "https://localhost:8080/",
     "height": 72
    },
    "id": "2ee3e8d8",
    "outputId": "0c5a2208-fb44-4e7e-b63d-a5be2682fb3e",
    "ExecuteTime": {
     "end_time": "2025-01-22T02:14:10.967768Z",
     "start_time": "2025-01-22T02:14:10.849852Z"
    }
   },
   "source": [
    "import time\n",
    "import numpy\n",
    "import pandas\n",
    "import seaborn\n",
    "from string import punctuation\n",
    "import matplotlib.pyplot as matplt\n",
    "from collections import Counter, OrderedDict\n",
    "\n",
    "import torch\n",
    "import torch.nn as nn\n",
    "import torch.nn.functional as nnf\n",
    "from torch.utils.data import DataLoader, Dataset\n",
    "from torch.nn.utils.rnn import pad_sequence\n",
    "\n",
    "from sklearn.preprocessing import MinMaxScaler\n",
    "from sklearn.model_selection import train_test_split\n",
    "\n",
    "seaborn.set_theme(style='whitegrid', font_scale=1.3, palette='Set2')\n",
    "\n",
    "import torchtext\n",
    "from torchtext.data.utils import get_tokenizer\n",
    "\n",
    "import warnings\n",
    "\n",
    "warnings.filterwarnings(\"ignore\")\n",
    "\n",
    "import nltk\n",
    "\n",
    "nltk.download(\"stopwords\")\n",
    "\n",
    "device = (\n",
    "    \"mps\"\n",
    "    if torch.backends.mps.is_available()\n",
    "    else \"cuda\" if torch.cuda.is_available() else \"cpu\"\n",
    ")\n",
    "device"
   ],
   "outputs": [
    {
     "ename": "OSError",
     "evalue": "/home/ntheme/anaconda3/envs/PyHome/lib/python3.12/site-packages/torchtext/lib/libtorchtext.so: undefined symbol: _ZN5torch3jit17parseSchemaOrNameERKSs",
     "output_type": "error",
     "traceback": [
      "\u001B[0;31m---------------------------------------------------------------------------\u001B[0m",
      "\u001B[0;31mOSError\u001B[0m                                   Traceback (most recent call last)",
      "Cell \u001B[0;32mIn[3], line 20\u001B[0m\n\u001B[1;32m     16\u001B[0m \u001B[38;5;28;01mfrom\u001B[39;00m \u001B[38;5;21;01msklearn\u001B[39;00m\u001B[38;5;21;01m.\u001B[39;00m\u001B[38;5;21;01mmodel_selection\u001B[39;00m \u001B[38;5;28;01mimport\u001B[39;00m train_test_split\n\u001B[1;32m     18\u001B[0m seaborn\u001B[38;5;241m.\u001B[39mset_theme(style\u001B[38;5;241m=\u001B[39m\u001B[38;5;124m'\u001B[39m\u001B[38;5;124mwhitegrid\u001B[39m\u001B[38;5;124m'\u001B[39m, font_scale\u001B[38;5;241m=\u001B[39m\u001B[38;5;241m1.3\u001B[39m, palette\u001B[38;5;241m=\u001B[39m\u001B[38;5;124m'\u001B[39m\u001B[38;5;124mSet2\u001B[39m\u001B[38;5;124m'\u001B[39m)\n\u001B[0;32m---> 20\u001B[0m \u001B[38;5;28;01mimport\u001B[39;00m \u001B[38;5;21;01mtorchtext\u001B[39;00m\n\u001B[1;32m     21\u001B[0m \u001B[38;5;28;01mfrom\u001B[39;00m \u001B[38;5;21;01mtorchtext\u001B[39;00m\u001B[38;5;21;01m.\u001B[39;00m\u001B[38;5;21;01mdata\u001B[39;00m\u001B[38;5;21;01m.\u001B[39;00m\u001B[38;5;21;01mutils\u001B[39;00m \u001B[38;5;28;01mimport\u001B[39;00m get_tokenizer\n\u001B[1;32m     23\u001B[0m \u001B[38;5;28;01mimport\u001B[39;00m \u001B[38;5;21;01mwarnings\u001B[39;00m\n",
      "File \u001B[0;32m~/anaconda3/envs/PyHome/lib/python3.12/site-packages/torchtext/__init__.py:18\u001B[0m\n\u001B[1;32m     15\u001B[0m     _WARN \u001B[38;5;241m=\u001B[39m \u001B[38;5;28;01mFalse\u001B[39;00m\n\u001B[1;32m     17\u001B[0m \u001B[38;5;66;03m# the following import has to happen first in order to load the torchtext C++ library\u001B[39;00m\n\u001B[0;32m---> 18\u001B[0m \u001B[38;5;28;01mfrom\u001B[39;00m \u001B[38;5;21;01mtorchtext\u001B[39;00m \u001B[38;5;28;01mimport\u001B[39;00m _extension  \u001B[38;5;66;03m# noqa: F401\u001B[39;00m\n\u001B[1;32m     20\u001B[0m _TEXT_BUCKET \u001B[38;5;241m=\u001B[39m \u001B[38;5;124m\"\u001B[39m\u001B[38;5;124mhttps://download.pytorch.org/models/text/\u001B[39m\u001B[38;5;124m\"\u001B[39m\n\u001B[1;32m     22\u001B[0m _CACHE_DIR \u001B[38;5;241m=\u001B[39m os\u001B[38;5;241m.\u001B[39mpath\u001B[38;5;241m.\u001B[39mexpanduser(os\u001B[38;5;241m.\u001B[39mpath\u001B[38;5;241m.\u001B[39mjoin(_get_torch_home(), \u001B[38;5;124m\"\u001B[39m\u001B[38;5;124mtext\u001B[39m\u001B[38;5;124m\"\u001B[39m))\n",
      "File \u001B[0;32m~/anaconda3/envs/PyHome/lib/python3.12/site-packages/torchtext/_extension.py:64\u001B[0m\n\u001B[1;32m     59\u001B[0m     \u001B[38;5;66;03m# This import is for initializing the methods registered via PyBind11\u001B[39;00m\n\u001B[1;32m     60\u001B[0m     \u001B[38;5;66;03m# This has to happen after the base library is loaded\u001B[39;00m\n\u001B[1;32m     61\u001B[0m     \u001B[38;5;28;01mfrom\u001B[39;00m \u001B[38;5;21;01mtorchtext\u001B[39;00m \u001B[38;5;28;01mimport\u001B[39;00m _torchtext  \u001B[38;5;66;03m# noqa\u001B[39;00m\n\u001B[0;32m---> 64\u001B[0m _init_extension()\n",
      "File \u001B[0;32m~/anaconda3/envs/PyHome/lib/python3.12/site-packages/torchtext/_extension.py:58\u001B[0m, in \u001B[0;36m_init_extension\u001B[0;34m()\u001B[0m\n\u001B[1;32m     55\u001B[0m \u001B[38;5;28;01mif\u001B[39;00m \u001B[38;5;129;01mnot\u001B[39;00m _mod_utils\u001B[38;5;241m.\u001B[39mis_module_available(\u001B[38;5;124m\"\u001B[39m\u001B[38;5;124mtorchtext._torchtext\u001B[39m\u001B[38;5;124m\"\u001B[39m):\n\u001B[1;32m     56\u001B[0m     \u001B[38;5;28;01mraise\u001B[39;00m \u001B[38;5;167;01mImportError\u001B[39;00m(\u001B[38;5;124m\"\u001B[39m\u001B[38;5;124mtorchtext C++ Extension is not found.\u001B[39m\u001B[38;5;124m\"\u001B[39m)\n\u001B[0;32m---> 58\u001B[0m _load_lib(\u001B[38;5;124m\"\u001B[39m\u001B[38;5;124mlibtorchtext\u001B[39m\u001B[38;5;124m\"\u001B[39m)\n\u001B[1;32m     59\u001B[0m \u001B[38;5;66;03m# This import is for initializing the methods registered via PyBind11\u001B[39;00m\n\u001B[1;32m     60\u001B[0m \u001B[38;5;66;03m# This has to happen after the base library is loaded\u001B[39;00m\n\u001B[1;32m     61\u001B[0m \u001B[38;5;28;01mfrom\u001B[39;00m \u001B[38;5;21;01mtorchtext\u001B[39;00m \u001B[38;5;28;01mimport\u001B[39;00m _torchtext\n",
      "File \u001B[0;32m~/anaconda3/envs/PyHome/lib/python3.12/site-packages/torchtext/_extension.py:50\u001B[0m, in \u001B[0;36m_load_lib\u001B[0;34m(lib)\u001B[0m\n\u001B[1;32m     48\u001B[0m \u001B[38;5;28;01mif\u001B[39;00m \u001B[38;5;129;01mnot\u001B[39;00m path\u001B[38;5;241m.\u001B[39mexists():\n\u001B[1;32m     49\u001B[0m     \u001B[38;5;28;01mreturn\u001B[39;00m \u001B[38;5;28;01mFalse\u001B[39;00m\n\u001B[0;32m---> 50\u001B[0m torch\u001B[38;5;241m.\u001B[39mops\u001B[38;5;241m.\u001B[39mload_library(path)\n\u001B[1;32m     51\u001B[0m \u001B[38;5;28;01mreturn\u001B[39;00m \u001B[38;5;28;01mTrue\u001B[39;00m\n",
      "File \u001B[0;32m~/anaconda3/envs/PyHome/lib/python3.12/site-packages/torch/_ops.py:1350\u001B[0m, in \u001B[0;36m_Ops.load_library\u001B[0;34m(self, path)\u001B[0m\n\u001B[1;32m   1345\u001B[0m path \u001B[38;5;241m=\u001B[39m _utils_internal\u001B[38;5;241m.\u001B[39mresolve_library_path(path)\n\u001B[1;32m   1346\u001B[0m \u001B[38;5;28;01mwith\u001B[39;00m dl_open_guard():\n\u001B[1;32m   1347\u001B[0m     \u001B[38;5;66;03m# Import the shared library into the process, thus running its\u001B[39;00m\n\u001B[1;32m   1348\u001B[0m     \u001B[38;5;66;03m# static (global) initialization code in order to register custom\u001B[39;00m\n\u001B[1;32m   1349\u001B[0m     \u001B[38;5;66;03m# operators with the JIT.\u001B[39;00m\n\u001B[0;32m-> 1350\u001B[0m     ctypes\u001B[38;5;241m.\u001B[39mCDLL(path)\n\u001B[1;32m   1351\u001B[0m \u001B[38;5;28mself\u001B[39m\u001B[38;5;241m.\u001B[39mloaded_libraries\u001B[38;5;241m.\u001B[39madd(path)\n",
      "File \u001B[0;32m~/anaconda3/envs/PyHome/lib/python3.12/ctypes/__init__.py:379\u001B[0m, in \u001B[0;36mCDLL.__init__\u001B[0;34m(self, name, mode, handle, use_errno, use_last_error, winmode)\u001B[0m\n\u001B[1;32m    376\u001B[0m \u001B[38;5;28mself\u001B[39m\u001B[38;5;241m.\u001B[39m_FuncPtr \u001B[38;5;241m=\u001B[39m _FuncPtr\n\u001B[1;32m    378\u001B[0m \u001B[38;5;28;01mif\u001B[39;00m handle \u001B[38;5;129;01mis\u001B[39;00m \u001B[38;5;28;01mNone\u001B[39;00m:\n\u001B[0;32m--> 379\u001B[0m     \u001B[38;5;28mself\u001B[39m\u001B[38;5;241m.\u001B[39m_handle \u001B[38;5;241m=\u001B[39m _dlopen(\u001B[38;5;28mself\u001B[39m\u001B[38;5;241m.\u001B[39m_name, mode)\n\u001B[1;32m    380\u001B[0m \u001B[38;5;28;01melse\u001B[39;00m:\n\u001B[1;32m    381\u001B[0m     \u001B[38;5;28mself\u001B[39m\u001B[38;5;241m.\u001B[39m_handle \u001B[38;5;241m=\u001B[39m handle\n",
      "\u001B[0;31mOSError\u001B[0m: /home/ntheme/anaconda3/envs/PyHome/lib/python3.12/site-packages/torchtext/lib/libtorchtext.so: undefined symbol: _ZN5torch3jit17parseSchemaOrNameERKSs"
     ]
    }
   ],
   "execution_count": 3
  },
  {
   "cell_type": "markdown",
   "id": "f2a21b25",
   "metadata": {
    "id": "f2a21b25"
   },
   "source": [
    "Перед выполнением задания обязательно посмотрите <a href=\"https://miptstats.github.io/courses/ad_fivt/lecture6.pdf\" target=\"_blank\">презентацию</a>, [ноутбук](https://miptstats.github.io/courses/ad_fivt/nlp_sem.html) по RNN и [ноутбук](https://miptstats.github.io/courses/ad_fivt/nlp_sem_llama.html) по генерации текста."
   ]
  },
  {
   "cell_type": "markdown",
   "id": "9045cb13",
   "metadata": {
    "id": "9045cb13"
   },
   "source": [
    "---\n",
    "### Задача 1. Предсказание заработной платы\n"
   ]
  },
  {
   "cell_type": "markdown",
   "id": "66815083",
   "metadata": {
    "id": "66815083"
   },
   "source": [
    "В этой задаче вам предлагается решить задачу регрессии &mdash; по текстовому описанию вакансии определить заработную плату. Для решения такой задачи можно применять различные методы, в том числе и те, которые были рассмотрены на лекции.\n",
    "Мы будем решать эту задачу с помощью рекуррентной нейронной сети."
   ]
  },
  {
   "cell_type": "markdown",
   "id": "f1fc7637",
   "metadata": {
    "id": "f1fc7637"
   },
   "source": [
    "Датасет `salary_dataset.csv` лежит по <a target=\"_blank\" href=\"https://drive.google.com/file/d/1Q3lCw_8Uad_OzHCjvLeYRvamXR74UPbW/view?usp=sharing\">ссылке</a> (312.3 MB).\n",
    "\n",
    "Если вы работаете локально:\n",
    "\n",
    "> Просто скачайте этот файл и укажите пути к ним ниже.\n",
    "\n",
    "\n",
    "Если вы используете <a target=\"_blank\" href=\"https://colab.research.google.com/\">Colab</a>:\n",
    "> **Скачивать файл не обязательно**. Просто подключитесь к Google Drive:\n",
    ">\n",
    "> ```\n",
    "> from google.colab import drive\n",
    "> drive.mount('/content/drive/')\n",
    "> ```\n",
    ">\n",
    "> Перейдите по ссылке файла и добавьте shortcut на него в ваш собственный диск:\n",
    "> ![Screen Shot 2024-03-17 at 5.34.40 PM.png](data:image/png;base64,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)"
   ]
  },
  {
   "cell_type": "markdown",
   "id": "a2f8e4ae",
   "metadata": {
    "id": "a2f8e4ae"
   },
   "source": [
    "Скачаем данные для обучения и тестирования:"
   ]
  },
  {
   "cell_type": "code",
   "execution_count": 2,
   "id": "04bee2a7",
   "metadata": {
    "ExecuteTime": {
     "end_time": "2024-04-16T10:35:51.459765Z",
     "start_time": "2024-04-16T10:35:49.629879Z"
    },
    "id": "04bee2a7",
    "outputId": "d53fde2b-4110-4ef9-f48f-94b7d23986b3"
   },
   "outputs": [
    {
     "data": {
      "text/html": [
       "<div>\n",
       "<style scoped>\n",
       "    .dataframe tbody tr th:only-of-type {\n",
       "        vertical-align: middle;\n",
       "    }\n",
       "\n",
       "    .dataframe tbody tr th {\n",
       "        vertical-align: top;\n",
       "    }\n",
       "\n",
       "    .dataframe thead th {\n",
       "        text-align: right;\n",
       "    }\n",
       "</style>\n",
       "<table border=\"1\" class=\"dataframe\">\n",
       "  <thead>\n",
       "    <tr style=\"text-align: right;\">\n",
       "      <th></th>\n",
       "      <th>FullDescription</th>\n",
       "      <th>SalaryNormalized</th>\n",
       "    </tr>\n",
       "  </thead>\n",
       "  <tbody>\n",
       "    <tr>\n",
       "      <th>0</th>\n",
       "      <td>This is an exciting opportunity for a Recruite...</td>\n",
       "      <td>55000</td>\n",
       "    </tr>\n",
       "    <tr>\n",
       "      <th>1</th>\n",
       "      <td>Our client is looking for a .net web developer...</td>\n",
       "      <td>27500</td>\n",
       "    </tr>\n",
       "    <tr>\n",
       "      <th>2</th>\n",
       "      <td>MS SQL Database Administrator  Helsinki, Finla...</td>\n",
       "      <td>72098</td>\n",
       "    </tr>\n",
       "    <tr>\n",
       "      <th>3</th>\n",
       "      <td>ACADEMIC APPOINTMENTS A large secondary school...</td>\n",
       "      <td>32400</td>\n",
       "    </tr>\n",
       "    <tr>\n",
       "      <th>4</th>\n",
       "      <td>Head of User Experience  c. ****k / London A H...</td>\n",
       "      <td>67500</td>\n",
       "    </tr>\n",
       "  </tbody>\n",
       "</table>\n",
       "</div>"
      ],
      "text/plain": [
       "                                     FullDescription  SalaryNormalized\n",
       "0  This is an exciting opportunity for a Recruite...             55000\n",
       "1  Our client is looking for a .net web developer...             27500\n",
       "2  MS SQL Database Administrator  Helsinki, Finla...             72098\n",
       "3  ACADEMIC APPOINTMENTS A large secondary school...             32400\n",
       "4  Head of User Experience  c. ****k / London A H...             67500"
      ]
     },
     "execution_count": 2,
     "metadata": {},
     "output_type": "execute_result"
    }
   ],
   "source": [
    "dataset = pandas.read_csv('salary_dataset.csv', delimiter=',')\n",
    "dataset.head()"
   ]
  },
  {
   "cell_type": "markdown",
   "id": "62f7f530",
   "metadata": {
    "id": "62f7f530"
   },
   "source": [
    "Каждая строка содержит полное описание вакансии и соответствующую зарплату. При этом описания могут быть довольно длинными, например:"
   ]
  },
  {
   "cell_type": "code",
   "execution_count": null,
   "id": "7176a287",
   "metadata": {
    "ExecuteTime": {
     "end_time": "2024-04-15T01:22:56.227031Z",
     "start_time": "2024-04-15T01:22:56.224509Z"
    },
    "id": "7176a287",
    "outputId": "4d2d0136-6bf9-4f85-c053-7081db4ee8ea"
   },
   "outputs": [
    {
     "data": {
      "text/plain": [
       "'This is an exciting opportunity for a Recruiter to join a rapidly growing online retailer. You will be responsible for developing and executing recruiting plans across the company. Your key accountabilities will include creating job descriptions, working closely with hiring managers, reducing recruitment costs, coordinating and implementing university recruitment initiatives and networking with industry contacts. You should be of graduate calibre with a track record in recruitment ideally gained in a fast moving start up environment. Experience of working in an online company would be a distinct advantage. Our client is an online retailer operating in the UK and in Continental Europe. This job was originally posted as www.totaljobs.com/JobSeeking/RecruitmentManager_job****'"
      ]
     },
     "execution_count": 4,
     "metadata": {},
     "output_type": "execute_result"
    }
   ],
   "source": [
    "dataset.iloc[0][\"FullDescription\"]"
   ]
  },
  {
   "cell_type": "markdown",
   "id": "da5b0061",
   "metadata": {
    "id": "da5b0061"
   },
   "source": [
    "Для данной задачи нам не будут нужны служебные части речи и знаки пунктуации. Зададим токенизатор, списки стоп-слов и пунктуации."
   ]
  },
  {
   "cell_type": "code",
   "execution_count": 3,
   "id": "63fd6175",
   "metadata": {
    "ExecuteTime": {
     "end_time": "2024-04-16T10:36:06.757707Z",
     "start_time": "2024-04-16T10:36:06.189225Z"
    },
    "id": "63fd6175"
   },
   "outputs": [],
   "source": [
    "# Зададим токенизаторы\n",
    "tokenizer = get_tokenizer(\"spacy\", language=\"en_core_web_sm\")\n",
    "stop_words = nltk.corpus.stopwords.words(\"english\")  # стоп-слова\n",
    "punc = list(punctuation) + [\" \"]  # пунктуация"
   ]
  },
  {
   "cell_type": "markdown",
   "id": "34d7fa9a",
   "metadata": {
    "id": "34d7fa9a"
   },
   "source": [
    "Подготовьте словарь, оставив в нем только наиболее часто встречающиеся токены. Не забудьте предварительно убрать из предложений знаки пунктуации и стоп-слова.\n",
    "\n",
    "*Можно использовать код с [семинара](https://miptstats.github.io/courses/ad_fivt/nlp_sem.html).*"
   ]
  },
  {
   "cell_type": "code",
   "execution_count": 4,
   "id": "a8185269",
   "metadata": {
    "ExecuteTime": {
     "end_time": "2024-04-16T10:37:49.807168Z",
     "start_time": "2024-04-16T10:36:07.086053Z"
    },
    "id": "a8185269"
   },
   "outputs": [],
   "source": [
    "# зададим счетчики\n",
    "counter = Counter()\n",
    "\n",
    "# посчитаем количество вхождений каждого токена\n",
    "for i, text in enumerate(dataset[\"FullDescription\"]):\n",
    "    counter.update(\n",
    "        token.lower()\n",
    "        for token in tokenizer(text)\n",
    "        if token.lower() not in stop_words and token.lower() not in punc\n",
    "    )\n",
    "\n",
    "MAX_VOCAB_SIZE = 25000  # ограничение на словарь\n",
    "ordered_dict = OrderedDict(counter.most_common(MAX_VOCAB_SIZE))"
   ]
  },
  {
   "cell_type": "markdown",
   "id": "21506452",
   "metadata": {
    "id": "21506452"
   },
   "source": [
    "Этот упорядоченный словарь хранит слово и его встречаемость. Можно посмотреть на самые частые слова в датасете:"
   ]
  },
  {
   "cell_type": "code",
   "execution_count": null,
   "id": "1d305b88",
   "metadata": {
    "ExecuteTime": {
     "end_time": "2024-04-15T01:24:38.715991Z",
     "start_time": "2024-04-15T01:24:38.711338Z"
    },
    "id": "1d305b88",
    "outputId": "79a168d5-eb11-4abd-db6d-61e09403df89"
   },
   "outputs": [
    {
     "data": {
      "text/plain": [
       "[('experience', 348582),\n",
       " ('role', 238739),\n",
       " ('work', 228191),\n",
       " ('team', 218866),\n",
       " ('business', 216518),\n",
       " ('skills', 192329),\n",
       " ('working', 181823),\n",
       " ('within', 177727),\n",
       " ('sales', 170659),\n",
       " ('client', 161064)]"
      ]
     },
     "execution_count": 7,
     "metadata": {},
     "output_type": "execute_result"
    }
   ],
   "source": [
    "list(ordered_dict.items())[:10]"
   ]
  },
  {
   "cell_type": "markdown",
   "id": "4063d7b8",
   "metadata": {
    "id": "4063d7b8"
   },
   "source": [
    "Теперь изменим словарь, добавив в него специальные токены, которые необходимы для подготовки данных к обучению:"
   ]
  },
  {
   "cell_type": "code",
   "execution_count": 5,
   "id": "4a63124e",
   "metadata": {
    "ExecuteTime": {
     "end_time": "2024-04-16T10:37:49.825225Z",
     "start_time": "2024-04-16T10:37:49.807974Z"
    },
    "id": "4a63124e"
   },
   "outputs": [],
   "source": [
    "# зададим словарь\n",
    "vocab = torchtext.vocab.vocab(ordered_dict)\n",
    "\n",
    "unk_token = \"<unk>\"\n",
    "pad_token = \"<pad>\"\n",
    "\n",
    "\n",
    "def add_special_tokens(vocab_cur):\n",
    "    \"\"\"Функция для добавления специальных токенов в словарь.\"\"\"\n",
    "    for special_token in [unk_token, pad_token]:\n",
    "        vocab_cur.append_token(special_token)\n",
    "    vocab_cur.set_default_index(vocab_cur[unk_token])\n",
    "    UNK_IDX = vocab_cur[unk_token]\n",
    "    PAD_IDX = vocab_cur[pad_token]\n",
    "    return vocab_cur, UNK_IDX, PAD_IDX\n",
    "\n",
    "\n",
    "vocab, UNK_IDX_EN, PAD_IDX_EN = add_special_tokens(vocab)\n",
    "num_tokens = len(vocab)"
   ]
  },
  {
   "cell_type": "markdown",
   "id": "91395e11",
   "metadata": {
    "id": "91395e11"
   },
   "source": [
    "Подготовим класс датасета:"
   ]
  },
  {
   "cell_type": "code",
   "execution_count": 6,
   "id": "325a9927",
   "metadata": {
    "ExecuteTime": {
     "end_time": "2024-04-16T10:37:49.845769Z",
     "start_time": "2024-04-16T10:37:49.825781Z"
    },
    "id": "325a9927"
   },
   "outputs": [],
   "source": [
    "class SalaryPredictionDataset(Dataset):\n",
    "    \"\"\"Класс датасета для предсказания зарплаты\"\"\"\n",
    "\n",
    "    def __init__(self, texts, targets):\n",
    "        \"\"\"\n",
    "        Параметры.\n",
    "        1) texts (list) — корпус токенизированных текстов, на котором будет\n",
    "                          происходить обучение\n",
    "        2) targets (list) — истинные метки текстов\n",
    "        \"\"\"\n",
    "        self.texts = texts\n",
    "        self.target = targets\n",
    "\n",
    "    def __len__(self):\n",
    "        return len(self.target)\n",
    "\n",
    "    def __getitem__(self, idx):\n",
    "        return self.texts[idx], self.target[idx]"
   ]
  },
  {
   "cell_type": "markdown",
   "id": "83f538a8",
   "metadata": {
    "id": "83f538a8"
   },
   "source": [
    "Допишите функцию для дополнения текста до максимальной длины в батче. Снова воспользуйтесь кодом с [семинара](https://miptstats.github.io/courses/ad_fivt/nlp_sem.html).\n",
    "\n",
    "*Обратите внимание, что теперь вместо целочисленных меток мы используем вещественные таргеты. Если не поменять код с семинара, то вы можете решать неправильную задачу.*"
   ]
  },
  {
   "cell_type": "code",
   "execution_count": 7,
   "id": "e404b6a9",
   "metadata": {
    "ExecuteTime": {
     "end_time": "2024-04-16T10:37:49.856138Z",
     "start_time": "2024-04-16T10:37:49.846474Z"
    },
    "id": "e404b6a9"
   },
   "outputs": [],
   "source": [
    "def pad_collate(batch_cur):\n",
    "    \"\"\"\n",
    "    Формирует тензоры из токенизированных текстов и таргетов, а также\n",
    "    дополняет последовательности токенов до макс. длины в батче с UNK_IDX\n",
    "\n",
    "    Вход:\n",
    "    * batch — батч с текстами и таргетами\n",
    "\n",
    "    Возвращает:\n",
    "    * texts_tensors - список тензоров текстов из батча, дополненных паддингом\n",
    "    * target - список соответствующих меток батча\n",
    "    \"\"\"\n",
    "    texts_c, target_c = zip(*batch_cur)\n",
    "\n",
    "    # сформируем тензоры\n",
    "    texts_tensors = [torch.LongTensor(txt) for txt in texts_c]\n",
    "    target_c = torch.FloatTensor(target_c)\n",
    "\n",
    "    # Дополним до макс. длины в батче\n",
    "    texts_tensors = pad_sequence(\n",
    "        texts_tensors, padding_value=PAD_IDX_EN, batch_first=True\n",
    "    )\n",
    "\n",
    "    return texts_tensors, target_c"
   ]
  },
  {
   "cell_type": "markdown",
   "id": "cda48bb6",
   "metadata": {
    "id": "cda48bb6"
   },
   "source": [
    "Токенизируем текст, а таргет переведем во `float`."
   ]
  },
  {
   "cell_type": "code",
   "execution_count": 8,
   "id": "5ff3711b",
   "metadata": {
    "ExecuteTime": {
     "end_time": "2024-04-16T10:38:31.007595Z",
     "start_time": "2024-04-16T10:37:49.856610Z"
    },
    "id": "5ff3711b"
   },
   "outputs": [],
   "source": [
    "tokens = [vocab(tokenizer(txt)) for txt in dataset[\"FullDescription\"]]\n",
    "target = [float(val) for val in dataset[\"SalaryNormalized\"]]"
   ]
  },
  {
   "cell_type": "markdown",
   "id": "9cd8fb68",
   "metadata": {
    "id": "9cd8fb68"
   },
   "source": [
    "Каждому из текстов в датасете сопоставляется последовательность токенов, причем везде разного размера:"
   ]
  },
  {
   "cell_type": "code",
   "execution_count": null,
   "id": "f5bf13aa",
   "metadata": {
    "ExecuteTime": {
     "end_time": "2024-04-15T02:13:11.022473Z",
     "start_time": "2024-04-15T02:13:11.006335Z"
    },
    "id": "f5bf13aa",
    "outputId": "7a008510-8549-4d44-9abb-4d4dc3c3153f"
   },
   "outputs": [
    {
     "name": "stdout",
     "output_type": "stream",
     "text": [
      "Количество токенов в 0-м тексте - 122:\n",
      "  25000, 25000, 25000, 146, 21, 25000, 25000, 25000, 25000, 38, ...\n",
      "Таргет: 55000.0 \n",
      "\n",
      "Количество токенов в 1-м тексте - 73:\n",
      "  25000, 9, 25000, 15, 25000, 25000, 407, 171, 130, 25000, ...\n",
      "Таргет: 27500.0 \n",
      "\n",
      "Количество токенов в 2-м тексте - 309:\n",
      "  25000, 25000, 25000, 25000, 25000, 25000, 25000, 25000, 25000, 25000, ...\n",
      "Таргет: 72098.0 \n",
      "\n"
     ]
    }
   ],
   "source": [
    "for i in range(3):\n",
    "    print(f\"Количество токенов в {i}-м тексте - {len(tokens[i])}:\\n  \", end=\"\")\n",
    "    for token in tokens[i][:10]:\n",
    "        print(token, end=\", \")\n",
    "    print(\"...\\nТаргет:\", target[i], \"\\n\")"
   ]
  },
  {
   "cell_type": "markdown",
   "id": "dc98e576",
   "metadata": {
    "id": "dc98e576"
   },
   "source": [
    "При решении задач регрессии с помощью нейросетей удобнее всего бывает перевести предсказываемые значения в небольшой диапазон, например, от 0 до 1. Это нужно, чтобы повысить численную стабильность обучения &mdash; не нагружать модель большими значениями таргетов. В нашей задаче это важно, ведь зарплата может иметь большой разброс и принимать большие значения.\n",
    "\n",
    "Чтобы сделать это, воспользуемся преобразованием `MinMaxScaler` из библиотеки `sklearn`, которое мы рассматривали в [задаче 3 задания 3](https://miptstats.github.io/courses/ad_fivt/task3.html#%D0%97%D0%B0%D0%B4%D0%B0%D1%87%D0%B0-3.).\n",
    "Таким образом, мы получим значения, удобные для использования при обучении."
   ]
  },
  {
   "cell_type": "code",
   "execution_count": 9,
   "id": "6e66978f",
   "metadata": {
    "ExecuteTime": {
     "end_time": "2024-04-16T10:38:31.070374Z",
     "start_time": "2024-04-16T10:38:31.008247Z"
    },
    "id": "6e66978f",
    "outputId": "cb405e76-6e6b-42b5-f19e-38db5acdfdd4"
   },
   "outputs": [
    {
     "data": {
      "text/plain": [
       "(150000, 50000)"
      ]
     },
     "execution_count": 9,
     "metadata": {},
     "output_type": "execute_result"
    }
   ],
   "source": [
    "train_tokens, valid_tokens, train_target, valid_target = train_test_split(tokens, target)\n",
    "\n",
    "scaler = MinMaxScaler()\n",
    "train_target_std = scaler.fit_transform(numpy.array(train_target).reshape(-1, 1))\n",
    "valid_target_std = scaler.transform(numpy.array(valid_target).reshape(-1, 1))\n",
    "\n",
    "train_data = SalaryPredictionDataset(train_tokens, train_target_std)\n",
    "valid_data = SalaryPredictionDataset(valid_tokens, valid_target_std)\n",
    "len(train_data), len(valid_data)"
   ]
  },
  {
   "cell_type": "markdown",
   "id": "c90113da",
   "metadata": {
    "id": "c90113da"
   },
   "source": [
    "Посмотрим на масштабированные значения зарплаты:"
   ]
  },
  {
   "cell_type": "code",
   "execution_count": null,
   "id": "c40d3904",
   "metadata": {
    "ExecuteTime": {
     "end_time": "2024-04-15T02:13:11.089911Z",
     "start_time": "2024-04-15T02:13:11.088052Z"
    },
    "colab": {
     "base_uri": "https://localhost:8080/"
    },
    "id": "c40d3904",
    "outputId": "1a55d0a1-4e88-4a38-83f1-a5797d0e0abb"
   },
   "outputs": [
    {
     "name": "stdout",
     "output_type": "stream",
     "text": [
      "Преобразованные таргеты:\n",
      "0.1122, 0.1641, 0.159, ...\n"
     ]
    }
   ],
   "source": [
    "print(\"Преобразованные таргеты:\")\n",
    "for t in train_data[:3][1]:\n",
    "    print(round(t.item(), 4), end=\", \")\n",
    "print(\"...\")"
   ]
  },
  {
   "cell_type": "markdown",
   "id": "6ef5e780",
   "metadata": {
    "id": "6ef5e780"
   },
   "source": [
    "Сформируйте даталоадеры для обучения и валидации."
   ]
  },
  {
   "cell_type": "code",
   "execution_count": 10,
   "id": "a42bd036",
   "metadata": {
    "ExecuteTime": {
     "end_time": "2024-04-16T10:38:31.072776Z",
     "start_time": "2024-04-16T10:38:31.070956Z"
    },
    "id": "a42bd036"
   },
   "outputs": [],
   "source": [
    "BATCH_SIZE = 128  # размер батча\n",
    "\n",
    "# сформируем даталоадеры\n",
    "train_loader = DataLoader(train_data, batch_size=BATCH_SIZE, shuffle=True, collate_fn=pad_collate)\n",
    "valid_loader = DataLoader(valid_data, batch_size=BATCH_SIZE, shuffle=False, collate_fn=pad_collate)"
   ]
  },
  {
   "cell_type": "markdown",
   "id": "6aeb78e0",
   "metadata": {
    "id": "6aeb78e0"
   },
   "source": [
    "Наконец, можем подготовить модель. Будем использовать рекуррентную архитектуру, подобную той, что была на [семинаре](https://miptstats.github.io/courses/ad_fivt/nlp_sem.ipynb).\n",
    "Отличие состоит в том, что теперь мы предсказываем не метку класса, а вещественный таргет. Подумайте, какую часть сети нужно изменить, чтобы адаптировать ее к нашей задаче."
   ]
  },
  {
   "cell_type": "code",
   "execution_count": 11,
   "id": "bfcd2f4a",
   "metadata": {
    "ExecuteTime": {
     "end_time": "2024-04-16T10:38:31.087266Z",
     "start_time": "2024-04-16T10:38:31.073177Z"
    },
    "id": "bfcd2f4a"
   },
   "outputs": [],
   "source": [
    "class SimpleRNNRegressor(nn.Module):\n",
    "    \"\"\" Модель для регрессии на основе LSTM\"\"\"\n",
    "\n",
    "    def __init__(\n",
    "            self,\n",
    "            num_tokens_cur,\n",
    "            emb_size=512,\n",
    "            rnn_num_units=64,\n",
    "            num_layers=1,\n",
    "            dropout=0.0,\n",
    "            output_dim=1\n",
    "    ):\n",
    "        \"\"\"\n",
    "        Параметры.\n",
    "        1) num_tokens — общее количество токенов,\n",
    "        2) emb_size — размер эмбеддингового пространства,\n",
    "        3) rnn_num_units - размер пространства скрытых представлений в rnn,\n",
    "        4) num_layers - количество слоёв LSTM\n",
    "        5) dropout - вероятность исключения нейронов\n",
    "        6) output_dim - размерность выхода-предсказания.\n",
    "        \"\"\"\n",
    "        super(self.__class__, self).__init__()\n",
    "        self.emb = nn.Embedding(num_tokens_cur, emb_size, padding_idx=PAD_IDX_EN)\n",
    "        self.rnn = nn.LSTM(emb_size, rnn_num_units, batch_first=True, num_layers=num_layers, dropout=dropout)\n",
    "        self.regressor = nn.Linear(rnn_num_units, output_dim)\n",
    "\n",
    "    def forward(self, x):\n",
    "        \"\"\"\n",
    "        * x — общее количество токенов.\n",
    "\n",
    "        Возвращает:\n",
    "        * predictions - предсказания модели.\n",
    "        \"\"\"\n",
    "        emb = self.emb(x)\n",
    "        _, (h_state, _) = self.rnn(emb)\n",
    "\n",
    "        predictions = self.regressor(h_state[h_state.shape[0] - 1])\n",
    "        return predictions"
   ]
  },
  {
   "cell_type": "markdown",
   "id": "35d59151",
   "metadata": {
    "id": "35d59151"
   },
   "source": [
    "Так как теперь решаем задачу регрессии, вместо точности модели будем измерять среднеквадратичную ошибку:"
   ]
  },
  {
   "cell_type": "code",
   "execution_count": 12,
   "id": "bbc77abf",
   "metadata": {
    "ExecuteTime": {
     "end_time": "2024-04-16T10:38:31.103436Z",
     "start_time": "2024-04-16T10:38:31.087637Z"
    },
    "id": "bbc77abf"
   },
   "outputs": [],
   "source": [
    "def mse(predictions_cur, y):\n",
    "    \"\"\"\n",
    "    Возвращает среднеквадратичную ошибку модели.\n",
    "\n",
    "    Параметры.\n",
    "    1) predictions_cur — предсказания модели,\n",
    "    2) y — истинные значения таргета.\n",
    "    \"\"\"\n",
    "\n",
    "    return nnf.mse_loss(predictions_cur, y, reduction=\"mean\")"
   ]
  },
  {
   "cell_type": "markdown",
   "id": "0f5c892f",
   "metadata": {
    "id": "0f5c892f"
   },
   "source": [
    "Допишите функции для обучения и валидации. Они почти не будут отличаться от тех, что были на [семинаре](https://miptstats.github.io/courses/ad_fivt/nlp_sem.html)."
   ]
  },
  {
   "cell_type": "code",
   "execution_count": 13,
   "id": "45f14b1d",
   "metadata": {
    "ExecuteTime": {
     "end_time": "2024-04-16T10:38:31.136122Z",
     "start_time": "2024-04-16T10:38:31.104184Z"
    },
    "id": "45f14b1d"
   },
   "outputs": [],
   "source": [
    "def train(model_cur, iterator, optimizer_cur, criterion_cur, train_loss_history):\n",
    "    \"\"\"\n",
    "    Функция для обучения модели на обучающем датасете и подсчёта\n",
    "    её ошибки.\n",
    "\n",
    "    Параметры.\n",
    "    1) model_cur — модель,\n",
    "    2) iterator — итератор обучающего датасета,\n",
    "    3) optimizer_cur — класс метода оптимизации,\n",
    "    4) criterion_cur — функция потерь.\n",
    "    \"\"\"\n",
    "\n",
    "    epoch_loss = 0\n",
    "    epoch_mse = 0\n",
    "    model_cur.train()\n",
    "\n",
    "    for batch_cur in iterator:\n",
    "        optimizer_cur.zero_grad()\n",
    "\n",
    "        texts, labels = batch_cur\n",
    "        texts, labels = texts.to(device), labels.to(device).squeeze(1)\n",
    "\n",
    "        predictions = model_cur(texts).squeeze(1)\n",
    "        loss = criterion_cur(predictions, labels.float())\n",
    "        acc = mse(predictions, labels)\n",
    "\n",
    "        loss.backward()\n",
    "        optimizer_cur.step()\n",
    "        epoch_loss += loss.item()\n",
    "        epoch_mse += acc.item()\n",
    "        train_loss_history.append(loss.item())\n",
    "\n",
    "    return epoch_loss / len(iterator), epoch_mse / len(iterator)\n",
    "\n",
    "\n",
    "def evaluate(model_cur, iterator, criterion_cur, val_loss_history=None):\n",
    "    \"\"\"\n",
    "    Функция для применения модели на валидационном/тестовом датасете и подсчёта\n",
    "    её точности.\n",
    "\n",
    "    Параметры.\n",
    "    1) model_cur — модель,\n",
    "    2) iterator — итератор датасета,\n",
    "    3) criterion_cur — функция потерь.\n",
    "    \"\"\"\n",
    "\n",
    "    epoch_loss = 0\n",
    "    epoch_mse = 0\n",
    "\n",
    "    model_cur.eval()\n",
    "\n",
    "    with torch.no_grad():\n",
    "        for batch_cur in iterator:\n",
    "            texts, labels = batch_cur\n",
    "            texts, labels = texts.to(device), labels.to(device).squeeze(1)\n",
    "\n",
    "            predictions = model_cur(texts).squeeze(1)\n",
    "            loss = criterion_cur(predictions, labels.float())\n",
    "            acc = mse(predictions, labels)\n",
    "\n",
    "            epoch_loss += loss.item()\n",
    "            epoch_mse += acc.item()\n",
    "            if val_loss_history is not None:\n",
    "                val_loss_history.append(loss.item())\n",
    "\n",
    "    return epoch_loss / len(iterator), epoch_mse / len(iterator)\n",
    "\n",
    "\n",
    "def epoch_time(start_time, end_time):\n",
    "    \"\"\"\n",
    "    Функция для подсчёта времени работы одной эпохи.\n",
    "\n",
    "    Параметры.\n",
    "    1) start_time — время начала запуска,\n",
    "    2) end_time — время завершения работы эпохи.\n",
    "    \"\"\"\n",
    "\n",
    "    elapsed_time = end_time - start_time\n",
    "    elapsed_minimals = int(elapsed_time / 60)\n",
    "    elapsed_secs = int(elapsed_time - (elapsed_minimals * 60))\n",
    "    return elapsed_minimals, elapsed_secs"
   ]
  },
  {
   "cell_type": "markdown",
   "id": "c46419e8",
   "metadata": {
    "id": "c46419e8"
   },
   "source": [
    "Теперь определим итоговую функцию для всего цикла обучения:"
   ]
  },
  {
   "cell_type": "code",
   "execution_count": 14,
   "id": "e4fa0a52",
   "metadata": {
    "ExecuteTime": {
     "end_time": "2024-04-16T10:38:31.158660Z",
     "start_time": "2024-04-16T10:38:31.136736Z"
    },
    "id": "e4fa0a52"
   },
   "outputs": [],
   "source": [
    "def visualize_epoch(loss_history, mse_history):\n",
    "    \"\"\"\n",
    "    Функция для визуализации 1 эпохи.\n",
    "\n",
    "    Параметры.\n",
    "    1) epoch — номер эпохи,\n",
    "    2) start_time — время начала эпохи,\n",
    "    3) loss_history - tuple истории лосса на train и test,\n",
    "    4) mse_history - tuple истории MSE на train и test.\n",
    "    \"\"\"\n",
    "\n",
    "    # Отобразим графики лоссов\n",
    "    matplt.figure(figsize=(18, 6))\n",
    "\n",
    "    train_loss_history, val_loss_history = loss_history\n",
    "    matplt.subplot(1, 3, 1)\n",
    "    matplt.plot(train_loss_history)\n",
    "    matplt.title(\"Train Loss\")\n",
    "    matplt.xlabel(\"Номер батча\")\n",
    "    matplt.subplot(1, 3, 2)\n",
    "    matplt.plot(val_loss_history, color=\"tab:orange\")\n",
    "    matplt.title(\"Valid Loss\")\n",
    "    matplt.xlabel(\"Номер батча\")\n",
    "\n",
    "    # Отрисуем значение MSE от эпохи\n",
    "    train_mse_history, val_mse_history = mse_history\n",
    "    matplt.subplot(1, 3, 3)\n",
    "    matplt.plot(train_mse_history, label=\"Train\")\n",
    "    matplt.plot(val_mse_history, label=\"Valid\")\n",
    "    matplt.legend()\n",
    "    matplt.title(\"MSE\")\n",
    "    matplt.xlabel(\"Номер эпохи\")\n",
    "    matplt.show()\n",
    "\n",
    "\n",
    "def training_loop(model_instance, optimizer_cur, criterion_cur, n_epochs=10):\n",
    "    \"\"\"\n",
    "    Функция для обучения нейронной сети.\n",
    "\n",
    "    Параметры.\n",
    "    1) model_instance — обучаемая модель,\n",
    "    2) n_epochs — количество эпох.\n",
    "    \"\"\"\n",
    "\n",
    "    best_valid_loss = float(\"inf\")\n",
    "    train_loss_history = []\n",
    "    val_loss_history = []\n",
    "    train_mse_history = []\n",
    "    val_mse_history = []\n",
    "\n",
    "    for epoch in range(n_epochs):\n",
    "        start_time = time.time()\n",
    "        # Обучим одну эпоху на обучающем датасете\n",
    "        train_loss, train_mse = train(\n",
    "            model_instance,\n",
    "            train_loader,\n",
    "            optimizer_cur,\n",
    "            criterion_cur,\n",
    "            train_loss_history,\n",
    "        )\n",
    "        train_mse_history.append(train_mse)\n",
    "\n",
    "        # Оценим ошибку модели на тестовом датасете\n",
    "        valid_loss, valid_mse = evaluate(\n",
    "            model_instance, valid_loader, criterion_cur, val_loss_history\n",
    "        )\n",
    "        val_mse_history.append(valid_mse)\n",
    "\n",
    "        # Если значение функции потерь улучшилось, сохраним параметры модели\n",
    "        if valid_loss < best_valid_loss:\n",
    "            best_valid_loss = valid_loss\n",
    "            torch.save(model_instance.state_dict(), \"model_checkpoint.pt\")\n",
    "\n",
    "            # Посчитаем время работы одной эпохи\n",
    "        end_time = time.time()\n",
    "        epoch_minimals, epoch_secs = epoch_time(start_time, end_time)\n",
    "        print(\n",
    "            f\"Номер эпохи: {epoch + 1:02} | MSE Train: {train_mse:.4f} | MSE Valid: {valid_mse:.4f} | Время обучения эпохи: {epoch_minimals}m {epoch_secs}s\")\n",
    "\n",
    "        # Визуализируем результаты эпохи\n",
    "        if epoch == n_epochs - 1:\n",
    "            visualize_epoch((train_loss_history, val_loss_history),\n",
    "                            (train_mse_history, val_mse_history))"
   ]
  },
  {
   "cell_type": "markdown",
   "id": "21c2bfc4e812f3ac",
   "metadata": {
    "id": "21c2bfc4e812f3ac"
   },
   "source": [
    "Обучите несколько моделей с различными гиперпараметрами (например, шаг обучения, размер словаря, архитектура) и сравните их качество на тестовой выборке.\n",
    "\n",
    "*Не пугайтесь, если у вас не будет получаться хорошее качество на валидации: решаемая задача довольно сложная, а RNN &mdash; достаточно простая архитектура. Но постарайтесь, чтобы модель хотя бы не вырождалась в константу. Для этого следите за переобучением!*\n",
    "\n",
    "*На 3 курсе вы сможете познакомиться с моделями, которые решают такую задачу гораздо лучше.*"
   ]
  },
  {
   "cell_type": "markdown",
   "id": "65274aa4a2c9452c",
   "metadata": {
    "id": "65274aa4a2c9452c"
   },
   "source": [
    "- Определим функцию, выводящую информацию о созданных моделях:"
   ]
  },
  {
   "cell_type": "code",
   "execution_count": 15,
   "id": "d40bc783075fa8ac",
   "metadata": {
    "ExecuteTime": {
     "end_time": "2024-04-16T10:38:31.175943Z",
     "start_time": "2024-04-16T10:38:31.159191Z"
    },
    "id": "d40bc783075fa8ac"
   },
   "outputs": [],
   "source": [
    "def print_summary(model_par, rate_par, idx):\n",
    "    \"\"\"\n",
    "    Функция для вывода сводной информации по нейросетям.\n",
    "    :param model_par: (list) модель\n",
    "    :param rate_par: (list) шаг обучения\n",
    "    :param idx: (int) номер модели\n",
    "    \"\"\"\n",
    "    print(\"=\" * 20 + f\"  Модель {idx}  \" + \"=\" * 20)\n",
    "    print(model_par)\n",
    "    print(f\"Шаг обучения: {rate_par}\")\n",
    "    print(\"=\" * 52)\n",
    "    print()"
   ]
  },
  {
   "cell_type": "markdown",
   "id": "ce5dba9f2c0eb6a3",
   "metadata": {
    "id": "ce5dba9f2c0eb6a3"
   },
   "source": [
    "- Создадим несколько моделей с разными параметрами, посмотрим на них и обучим. Разделил на несколько частей кода, так как модели не влезали в оперативную память"
   ]
  },
  {
   "cell_type": "markdown",
   "id": "1b612839dbcbd102",
   "metadata": {
    "id": "1b612839dbcbd102"
   },
   "source": [
    "- Создаю и обучаю 1-ю модель"
   ]
  },
  {
   "cell_type": "code",
   "execution_count": null,
   "id": "f6d57c192e76cd3c",
   "metadata": {
    "ExecuteTime": {
     "end_time": "2024-04-15T03:31:53.593386Z",
     "start_time": "2024-04-15T02:39:44.743912Z"
    },
    "id": "f6d57c192e76cd3c",
    "outputId": "2a49b179-b25f-4932-c4a6-a8f8c62f9025"
   },
   "outputs": [
    {
     "name": "stdout",
     "output_type": "stream",
     "text": [
      "====================  Модель 1  ====================\n",
      "SimpleRNNRegressor(\n",
      "  (emb): Embedding(25002, 128, padding_idx=25001)\n",
      "  (rnn): LSTM(128, 256, batch_first=True)\n",
      "  (regressor): Linear(in_features=256, out_features=1, bias=True)\n",
      ")\n",
      "Шаг обучения: 0.005\n",
      "====================================================\n",
      "\n",
      "Номер эпохи: 01 | MSE Train: 0.0083 | MSE Valid: 0.0082 | Время обучения эпохи: 1m 0s\n",
      "Номер эпохи: 02 | MSE Train: 0.0082 | MSE Valid: 0.0084 | Время обучения эпохи: 1m 0s\n",
      "Номер эпохи: 03 | MSE Train: 0.0082 | MSE Valid: 0.0083 | Время обучения эпохи: 1m 1s\n",
      "Номер эпохи: 04 | MSE Train: 0.0083 | MSE Valid: 0.0083 | Время обучения эпохи: 1m 1s\n",
      "Номер эпохи: 05 | MSE Train: 0.0084 | MSE Valid: 0.0084 | Время обучения эпохи: 1m 1s\n",
      "Номер эпохи: 06 | MSE Train: 0.0083 | MSE Valid: 0.0084 | Время обучения эпохи: 1m 1s\n",
      "Номер эпохи: 07 | MSE Train: 0.0083 | MSE Valid: 0.0084 | Время обучения эпохи: 1m 1s\n",
      "Номер эпохи: 08 | MSE Train: 0.0083 | MSE Valid: 0.0083 | Время обучения эпохи: 1m 1s\n",
      "Номер эпохи: 09 | MSE Train: 0.0084 | MSE Valid: 0.0083 | Время обучения эпохи: 1m 1s\n",
      "Номер эпохи: 10 | MSE Train: 0.0083 | MSE Valid: 0.0083 | Время обучения эпохи: 1m 1s\n",
      "Номер эпохи: 11 | MSE Train: 0.0083 | MSE Valid: 0.0083 | Время обучения эпохи: 1m 1s\n",
      "Номер эпохи: 12 | MSE Train: 0.0083 | MSE Valid: 0.0082 | Время обучения эпохи: 1m 3s\n",
      "Номер эпохи: 13 | MSE Train: 0.0083 | MSE Valid: 0.0084 | Время обучения эпохи: 1m 2s\n",
      "Номер эпохи: 14 | MSE Train: 0.0083 | MSE Valid: 0.0084 | Время обучения эпохи: 1m 2s\n",
      "Номер эпохи: 15 | MSE Train: 0.0083 | MSE Valid: 0.0083 | Время обучения эпохи: 1m 2s\n",
      "Номер эпохи: 16 | MSE Train: 0.0083 | MSE Valid: 0.0084 | Время обучения эпохи: 0m 59s\n",
      "Номер эпохи: 17 | MSE Train: 0.0083 | MSE Valid: 0.0085 | Время обучения эпохи: 1m 0s\n",
      "Номер эпохи: 18 | MSE Train: 0.0083 | MSE Valid: 0.0084 | Время обучения эпохи: 1m 0s\n",
      "Номер эпохи: 19 | MSE Train: 0.0078 | MSE Valid: 0.0071 | Время обучения эпохи: 0m 59s\n",
      "Номер эпохи: 20 | MSE Train: 0.0067 | MSE Valid: 0.0068 | Время обучения эпохи: 1m 0s\n",
      "Номер эпохи: 21 | MSE Train: 0.0063 | MSE Valid: 0.0062 | Время обучения эпохи: 1m 1s\n",
      "Номер эпохи: 22 | MSE Train: 0.0059 | MSE Valid: 0.0060 | Время обучения эпохи: 1m 4s\n",
      "Номер эпохи: 23 | MSE Train: 0.0055 | MSE Valid: 0.0056 | Время обучения эпохи: 1m 4s\n",
      "Номер эпохи: 24 | MSE Train: 0.0052 | MSE Valid: 0.0053 | Время обучения эпохи: 1m 2s\n",
      "Номер эпохи: 25 | MSE Train: 0.0050 | MSE Valid: 0.0054 | Время обучения эпохи: 1m 1s\n",
      "Номер эпохи: 26 | MSE Train: 0.0048 | MSE Valid: 0.0051 | Время обучения эпохи: 1m 1s\n",
      "Номер эпохи: 27 | MSE Train: 0.0046 | MSE Valid: 0.0049 | Время обучения эпохи: 1m 2s\n",
      "Номер эпохи: 28 | MSE Train: 0.0044 | MSE Valid: 0.0048 | Время обучения эпохи: 1m 1s\n",
      "Номер эпохи: 29 | MSE Train: 0.0042 | MSE Valid: 0.0048 | Время обучения эпохи: 1m 2s\n",
      "Номер эпохи: 30 | MSE Train: 0.0042 | MSE Valid: 0.0048 | Время обучения эпохи: 1m 2s\n",
      "Номер эпохи: 31 | MSE Train: 0.0041 | MSE Valid: 0.0049 | Время обучения эпохи: 1m 3s\n",
      "Номер эпохи: 32 | MSE Train: 0.0039 | MSE Valid: 0.0046 | Время обучения эпохи: 1m 3s\n",
      "Номер эпохи: 33 | MSE Train: 0.0038 | MSE Valid: 0.0045 | Время обучения эпохи: 1m 3s\n",
      "Номер эпохи: 34 | MSE Train: 0.0037 | MSE Valid: 0.0046 | Время обучения эпохи: 1m 3s\n",
      "Номер эпохи: 35 | MSE Train: 0.0036 | MSE Valid: 0.0049 | Время обучения эпохи: 1m 4s\n",
      "Номер эпохи: 36 | MSE Train: 0.0036 | MSE Valid: 0.0049 | Время обучения эпохи: 1m 4s\n",
      "Номер эпохи: 37 | MSE Train: 0.0034 | MSE Valid: 0.0046 | Время обучения эпохи: 1m 4s\n",
      "Номер эпохи: 38 | MSE Train: 0.0033 | MSE Valid: 0.0045 | Время обучения эпохи: 1m 3s\n",
      "Номер эпохи: 39 | MSE Train: 0.0033 | MSE Valid: 0.0046 | Время обучения эпохи: 1m 4s\n",
      "Номер эпохи: 40 | MSE Train: 0.0032 | MSE Valid: 0.0050 | Время обучения эпохи: 1m 4s\n",
      "Номер эпохи: 41 | MSE Train: 0.0033 | MSE Valid: 0.0046 | Время обучения эпохи: 1m 4s\n",
      "Номер эпохи: 42 | MSE Train: 0.0031 | MSE Valid: 0.0044 | Время обучения эпохи: 1m 4s\n",
      "Номер эпохи: 43 | MSE Train: 0.0030 | MSE Valid: 0.0046 | Время обучения эпохи: 1m 4s\n",
      "Номер эпохи: 44 | MSE Train: 0.0030 | MSE Valid: 0.0043 | Время обучения эпохи: 1m 3s\n",
      "Номер эпохи: 45 | MSE Train: 0.0029 | MSE Valid: 0.0044 | Время обучения эпохи: 1m 3s\n",
      "Номер эпохи: 46 | MSE Train: 0.0030 | MSE Valid: 0.0045 | Время обучения эпохи: 1m 3s\n",
      "Номер эпохи: 47 | MSE Train: 0.0030 | MSE Valid: 0.0047 | Время обучения эпохи: 1m 5s\n",
      "Номер эпохи: 48 | MSE Train: 0.0028 | MSE Valid: 0.0042 | Время обучения эпохи: 1m 1s\n",
      "Номер эпохи: 49 | MSE Train: 0.0035 | MSE Valid: 0.0053 | Время обучения эпохи: 1m 1s\n",
      "Номер эпохи: 50 | MSE Train: 0.0038 | MSE Valid: 0.0048 | Время обучения эпохи: 1m 2s\n"
     ]
    },
    {
     "data": {
      "image/png": "[encoded data removed]",
      "text/plain": [
       "<Figure size 1800x600 with 3 Axes>"
      ]
     },
     "metadata": {},
     "output_type": "display_data"
    }
   ],
   "source": [
    "model = SimpleRNNRegressor(num_tokens_cur=num_tokens, emb_size=128, rnn_num_units=256, num_layers=1, dropout=0.0).to(\n",
    "    device)\n",
    "rate = 0.005\n",
    "optimizer = torch.optim.Adam(model.parameters(), lr=rate)\n",
    "\n",
    "print_summary(model, rate, 1)\n",
    "training_loop(model, optimizer, nn.MSELoss(), n_epochs=50)\n",
    "torch.save(model.state_dict(), \"model_1.pt\")"
   ]
  },
  {
   "cell_type": "markdown",
   "id": "5fc9297a68f68022",
   "metadata": {
    "id": "5fc9297a68f68022"
   },
   "source": [
    "- Создаю и обучаю 2-ю модель"
   ]
  },
  {
   "cell_type": "code",
   "execution_count": null,
   "id": "86ccf3a98c8b4b76",
   "metadata": {
    "ExecuteTime": {
     "end_time": "2024-04-15T04:13:26.778380Z",
     "start_time": "2024-04-15T03:46:36.240564Z"
    },
    "id": "86ccf3a98c8b4b76",
    "outputId": "7d5fbf04-7b02-4dc2-eb27-a9567fb167d9"
   },
   "outputs": [
    {
     "name": "stdout",
     "output_type": "stream",
     "text": [
      "====================  Модель 2  ====================\n",
      "SimpleRNNRegressor(\n",
      "  (emb): Embedding(25002, 64, padding_idx=25001)\n",
      "  (rnn): LSTM(64, 128, batch_first=True)\n",
      "  (regressor): Linear(in_features=128, out_features=1, bias=True)\n",
      ")\n",
      "Шаг обучения: 0.005\n",
      "====================================================\n",
      "\n",
      "Номер эпохи: 01 | MSE Train: 0.0083 | MSE Valid: 0.0082 | Время обучения эпохи: 0m 34s\n",
      "Номер эпохи: 02 | MSE Train: 0.0082 | MSE Valid: 0.0082 | Время обучения эпохи: 0m 34s\n",
      "Номер эпохи: 03 | MSE Train: 0.0082 | MSE Valid: 0.0082 | Время обучения эпохи: 0m 33s\n",
      "Номер эпохи: 04 | MSE Train: 0.0082 | MSE Valid: 0.0082 | Время обучения эпохи: 0m 32s\n",
      "Номер эпохи: 05 | MSE Train: 0.0082 | MSE Valid: 0.0083 | Время обучения эпохи: 0m 31s\n",
      "Номер эпохи: 06 | MSE Train: 0.0082 | MSE Valid: 0.0082 | Время обучения эпохи: 0m 31s\n",
      "Номер эпохи: 07 | MSE Train: 0.0082 | MSE Valid: 0.0082 | Время обучения эпохи: 0m 31s\n",
      "Номер эпохи: 08 | MSE Train: 0.0082 | MSE Valid: 0.0083 | Время обучения эпохи: 0m 31s\n",
      "Номер эпохи: 09 | MSE Train: 0.0082 | MSE Valid: 0.0082 | Время обучения эпохи: 0m 31s\n",
      "Номер эпохи: 10 | MSE Train: 0.0082 | MSE Valid: 0.0082 | Время обучения эпохи: 0m 32s\n",
      "Номер эпохи: 11 | MSE Train: 0.0082 | MSE Valid: 0.0082 | Время обучения эпохи: 0m 31s\n",
      "Номер эпохи: 12 | MSE Train: 0.0082 | MSE Valid: 0.0082 | Время обучения эпохи: 0m 31s\n",
      "Номер эпохи: 13 | MSE Train: 0.0082 | MSE Valid: 0.0081 | Время обучения эпохи: 0m 32s\n",
      "Номер эпохи: 14 | MSE Train: 0.0082 | MSE Valid: 0.0082 | Время обучения эпохи: 0m 31s\n",
      "Номер эпохи: 15 | MSE Train: 0.0082 | MSE Valid: 0.0082 | Время обучения эпохи: 0m 31s\n",
      "Номер эпохи: 16 | MSE Train: 0.0082 | MSE Valid: 0.0082 | Время обучения эпохи: 0m 31s\n",
      "Номер эпохи: 17 | MSE Train: 0.0082 | MSE Valid: 0.0082 | Время обучения эпохи: 0m 33s\n",
      "Номер эпохи: 18 | MSE Train: 0.0082 | MSE Valid: 0.0082 | Время обучения эпохи: 0m 32s\n",
      "Номер эпохи: 19 | MSE Train: 0.0082 | MSE Valid: 0.0082 | Время обучения эпохи: 0m 31s\n",
      "Номер эпохи: 20 | MSE Train: 0.0082 | MSE Valid: 0.0083 | Время обучения эпохи: 0m 32s\n",
      "Номер эпохи: 21 | MSE Train: 0.0082 | MSE Valid: 0.0082 | Время обучения эпохи: 0m 32s\n",
      "Номер эпохи: 22 | MSE Train: 0.0082 | MSE Valid: 0.0082 | Время обучения эпохи: 0m 31s\n",
      "Номер эпохи: 23 | MSE Train: 0.0082 | MSE Valid: 0.0082 | Время обучения эпохи: 0m 31s\n",
      "Номер эпохи: 24 | MSE Train: 0.0082 | MSE Valid: 0.0082 | Время обучения эпохи: 0m 31s\n",
      "Номер эпохи: 25 | MSE Train: 0.0082 | MSE Valid: 0.0082 | Время обучения эпохи: 0m 31s\n",
      "Номер эпохи: 26 | MSE Train: 0.0082 | MSE Valid: 0.0082 | Время обучения эпохи: 0m 32s\n",
      "Номер эпохи: 27 | MSE Train: 0.0082 | MSE Valid: 0.0081 | Время обучения эпохи: 0m 32s\n",
      "Номер эпохи: 28 | MSE Train: 0.0081 | MSE Valid: 0.0081 | Время обучения эпохи: 0m 32s\n",
      "Номер эпохи: 29 | MSE Train: 0.0082 | MSE Valid: 0.0082 | Время обучения эпохи: 0m 32s\n",
      "Номер эпохи: 30 | MSE Train: 0.0082 | MSE Valid: 0.0084 | Время обучения эпохи: 0m 32s\n",
      "Номер эпохи: 31 | MSE Train: 0.0082 | MSE Valid: 0.0082 | Время обучения эпохи: 0m 32s\n",
      "Номер эпохи: 32 | MSE Train: 0.0080 | MSE Valid: 0.0073 | Время обучения эпохи: 0m 32s\n",
      "Номер эпохи: 33 | MSE Train: 0.0071 | MSE Valid: 0.0071 | Время обучения эпохи: 0m 32s\n",
      "Номер эпохи: 34 | MSE Train: 0.0067 | MSE Valid: 0.0065 | Время обучения эпохи: 0m 32s\n",
      "Номер эпохи: 35 | MSE Train: 0.0062 | MSE Valid: 0.0063 | Время обучения эпохи: 0m 32s\n",
      "Номер эпохи: 36 | MSE Train: 0.0060 | MSE Valid: 0.0059 | Время обучения эпохи: 0m 31s\n",
      "Номер эпохи: 37 | MSE Train: 0.0057 | MSE Valid: 0.0058 | Время обучения эпохи: 0m 32s\n",
      "Номер эпохи: 38 | MSE Train: 0.0055 | MSE Valid: 0.0056 | Время обучения эпохи: 0m 31s\n",
      "Номер эпохи: 39 | MSE Train: 0.0053 | MSE Valid: 0.0055 | Время обучения эпохи: 0m 31s\n",
      "Номер эпохи: 40 | MSE Train: 0.0051 | MSE Valid: 0.0054 | Время обучения эпохи: 0m 32s\n",
      "Номер эпохи: 41 | MSE Train: 0.0049 | MSE Valid: 0.0051 | Время обучения эпохи: 0m 32s\n",
      "Номер эпохи: 42 | MSE Train: 0.0046 | MSE Valid: 0.0048 | Время обучения эпохи: 0m 32s\n",
      "Номер эпохи: 43 | MSE Train: 0.0043 | MSE Valid: 0.0046 | Время обучения эпохи: 0m 32s\n",
      "Номер эпохи: 44 | MSE Train: 0.0041 | MSE Valid: 0.0046 | Время обучения эпохи: 0m 31s\n",
      "Номер эпохи: 45 | MSE Train: 0.0039 | MSE Valid: 0.0046 | Время обучения эпохи: 0m 31s\n",
      "Номер эпохи: 46 | MSE Train: 0.0038 | MSE Valid: 0.0045 | Время обучения эпохи: 0m 32s\n",
      "Номер эпохи: 47 | MSE Train: 0.0037 | MSE Valid: 0.0045 | Время обучения эпохи: 0m 31s\n",
      "Номер эпохи: 48 | MSE Train: 0.0035 | MSE Valid: 0.0044 | Время обучения эпохи: 0m 32s\n",
      "Номер эпохи: 49 | MSE Train: 0.0034 | MSE Valid: 0.0043 | Время обучения эпохи: 0m 32s\n",
      "Номер эпохи: 50 | MSE Train: 0.0033 | MSE Valid: 0.0043 | Время обучения эпохи: 0m 32s\n"
     ]
    },
    {
     "data": {
      "image/png": "[encoded data removed]",
      "text/plain": [
       "<Figure size 1800x600 with 3 Axes>"
      ]
     },
     "metadata": {},
     "output_type": "display_data"
    }
   ],
   "source": [
    "model = SimpleRNNRegressor(num_tokens_cur=num_tokens, emb_size=64, rnn_num_units=128, num_layers=1, dropout=0.0).to(\n",
    "    device)\n",
    "rate = 0.005\n",
    "optimizer = torch.optim.Adam(model.parameters(), lr=rate)\n",
    "\n",
    "print_summary(model, rate, 2)\n",
    "training_loop(model, optimizer, nn.MSELoss(), n_epochs=50)\n",
    "torch.save(model.state_dict(), \"model_2.pt\")"
   ]
  },
  {
   "cell_type": "markdown",
   "id": "17ee37fa55a95003",
   "metadata": {
    "id": "17ee37fa55a95003"
   },
   "source": [
    "- Создаю и обучаю 3-ю модель"
   ]
  },
  {
   "cell_type": "code",
   "execution_count": null,
   "id": "db9ec499457b794",
   "metadata": {
    "ExecuteTime": {
     "end_time": "2024-04-15T04:48:33.969090Z",
     "start_time": "2024-04-15T04:36:38.607158Z"
    },
    "id": "db9ec499457b794",
    "outputId": "b07f8dcd-3593-4cb7-d13d-bb709ad03996"
   },
   "outputs": [
    {
     "name": "stdout",
     "output_type": "stream",
     "text": [
      "====================  Модель 3  ====================\n",
      "SimpleRNNRegressor(\n",
      "  (emb): Embedding(25002, 64, padding_idx=25001)\n",
      "  (rnn): LSTM(64, 64, batch_first=True)\n",
      "  (regressor): Linear(in_features=64, out_features=1, bias=True)\n",
      ")\n",
      "Шаг обучения: 0.007\n",
      "====================================================\n",
      "\n",
      "Номер эпохи: 01 | MSE Train: 0.0082 | MSE Valid: 0.0083 | Время обучения эпохи: 0m 16s\n",
      "Номер эпохи: 02 | MSE Train: 0.0082 | MSE Valid: 0.0083 | Время обучения эпохи: 0m 14s\n",
      "Номер эпохи: 03 | MSE Train: 0.0082 | MSE Valid: 0.0083 | Время обучения эпохи: 0m 13s\n",
      "Номер эпохи: 04 | MSE Train: 0.0082 | MSE Valid: 0.0083 | Время обучения эпохи: 0m 13s\n",
      "Номер эпохи: 05 | MSE Train: 0.0082 | MSE Valid: 0.0083 | Время обучения эпохи: 0m 14s\n",
      "Номер эпохи: 06 | MSE Train: 0.0082 | MSE Valid: 0.0083 | Время обучения эпохи: 0m 14s\n",
      "Номер эпохи: 07 | MSE Train: 0.0082 | MSE Valid: 0.0083 | Время обучения эпохи: 0m 14s\n",
      "Номер эпохи: 08 | MSE Train: 0.0082 | MSE Valid: 0.0083 | Время обучения эпохи: 0m 13s\n",
      "Номер эпохи: 09 | MSE Train: 0.0082 | MSE Valid: 0.0084 | Время обучения эпохи: 0m 13s\n",
      "Номер эпохи: 10 | MSE Train: 0.0082 | MSE Valid: 0.0083 | Время обучения эпохи: 0m 14s\n",
      "Номер эпохи: 11 | MSE Train: 0.0082 | MSE Valid: 0.0083 | Время обучения эпохи: 0m 13s\n",
      "Номер эпохи: 12 | MSE Train: 0.0082 | MSE Valid: 0.0083 | Время обучения эпохи: 0m 13s\n",
      "Номер эпохи: 13 | MSE Train: 0.0082 | MSE Valid: 0.0083 | Время обучения эпохи: 0m 13s\n",
      "Номер эпохи: 14 | MSE Train: 0.0082 | MSE Valid: 0.0083 | Время обучения эпохи: 0m 13s\n",
      "Номер эпохи: 15 | MSE Train: 0.0082 | MSE Valid: 0.0083 | Время обучения эпохи: 0m 13s\n",
      "Номер эпохи: 16 | MSE Train: 0.0082 | MSE Valid: 0.0083 | Время обучения эпохи: 0m 13s\n",
      "Номер эпохи: 17 | MSE Train: 0.0082 | MSE Valid: 0.0083 | Время обучения эпохи: 0m 13s\n",
      "Номер эпохи: 18 | MSE Train: 0.0082 | MSE Valid: 0.0083 | Время обучения эпохи: 0m 13s\n",
      "Номер эпохи: 19 | MSE Train: 0.0082 | MSE Valid: 0.0083 | Время обучения эпохи: 0m 14s\n",
      "Номер эпохи: 20 | MSE Train: 0.0082 | MSE Valid: 0.0083 | Время обучения эпохи: 0m 14s\n",
      "Номер эпохи: 21 | MSE Train: 0.0082 | MSE Valid: 0.0083 | Время обучения эпохи: 0m 14s\n",
      "Номер эпохи: 22 | MSE Train: 0.0082 | MSE Valid: 0.0083 | Время обучения эпохи: 0m 14s\n",
      "Номер эпохи: 23 | MSE Train: 0.0082 | MSE Valid: 0.0083 | Время обучения эпохи: 0m 14s\n",
      "Номер эпохи: 24 | MSE Train: 0.0082 | MSE Valid: 0.0083 | Время обучения эпохи: 0m 14s\n",
      "Номер эпохи: 25 | MSE Train: 0.0082 | MSE Valid: 0.0083 | Время обучения эпохи: 0m 13s\n",
      "Номер эпохи: 26 | MSE Train: 0.0082 | MSE Valid: 0.0083 | Время обучения эпохи: 0m 13s\n",
      "Номер эпохи: 27 | MSE Train: 0.0081 | MSE Valid: 0.0079 | Время обучения эпохи: 0m 13s\n",
      "Номер эпохи: 28 | MSE Train: 0.0071 | MSE Valid: 0.0060 | Время обучения эпохи: 0m 13s\n",
      "Номер эпохи: 29 | MSE Train: 0.0053 | MSE Valid: 0.0052 | Время обучения эпохи: 0m 13s\n",
      "Номер эпохи: 30 | MSE Train: 0.0048 | MSE Valid: 0.0049 | Время обучения эпохи: 0m 13s\n",
      "Номер эпохи: 31 | MSE Train: 0.0045 | MSE Valid: 0.0047 | Время обучения эпохи: 0m 13s\n",
      "Номер эпохи: 32 | MSE Train: 0.0042 | MSE Valid: 0.0046 | Время обучения эпохи: 0m 14s\n",
      "Номер эпохи: 33 | MSE Train: 0.0041 | MSE Valid: 0.0046 | Время обучения эпохи: 0m 14s\n",
      "Номер эпохи: 34 | MSE Train: 0.0039 | MSE Valid: 0.0045 | Время обучения эпохи: 0m 13s\n",
      "Номер эпохи: 35 | MSE Train: 0.0038 | MSE Valid: 0.0047 | Время обучения эпохи: 0m 14s\n",
      "Номер эпохи: 36 | MSE Train: 0.0037 | MSE Valid: 0.0044 | Время обучения эпохи: 0m 14s\n",
      "Номер эпохи: 37 | MSE Train: 0.0035 | MSE Valid: 0.0044 | Время обучения эпохи: 0m 14s\n",
      "Номер эпохи: 38 | MSE Train: 0.0034 | MSE Valid: 0.0044 | Время обучения эпохи: 0m 13s\n",
      "Номер эпохи: 39 | MSE Train: 0.0033 | MSE Valid: 0.0044 | Время обучения эпохи: 0m 13s\n",
      "Номер эпохи: 40 | MSE Train: 0.0032 | MSE Valid: 0.0042 | Время обучения эпохи: 0m 13s\n",
      "Номер эпохи: 41 | MSE Train: 0.0032 | MSE Valid: 0.0043 | Время обучения эпохи: 0m 14s\n",
      "Номер эпохи: 42 | MSE Train: 0.0031 | MSE Valid: 0.0043 | Время обучения эпохи: 0m 15s\n",
      "Номер эпохи: 43 | MSE Train: 0.0031 | MSE Valid: 0.0042 | Время обучения эпохи: 0m 15s\n",
      "Номер эпохи: 44 | MSE Train: 0.0030 | MSE Valid: 0.0043 | Время обучения эпохи: 0m 15s\n",
      "Номер эпохи: 45 | MSE Train: 0.0030 | MSE Valid: 0.0045 | Время обучения эпохи: 0m 15s\n",
      "Номер эпохи: 46 | MSE Train: 0.0030 | MSE Valid: 0.0044 | Время обучения эпохи: 0m 15s\n",
      "Номер эпохи: 47 | MSE Train: 0.0028 | MSE Valid: 0.0043 | Время обучения эпохи: 0m 15s\n",
      "Номер эпохи: 48 | MSE Train: 0.0027 | MSE Valid: 0.0043 | Время обучения эпохи: 0m 15s\n",
      "Номер эпохи: 49 | MSE Train: 0.0027 | MSE Valid: 0.0042 | Время обучения эпохи: 0m 15s\n",
      "Номер эпохи: 50 | MSE Train: 0.0026 | MSE Valid: 0.0041 | Время обучения эпохи: 0m 16s\n"
     ]
    },
    {
     "data": {
      "image/png": "[encoded data removed]",
      "text/plain": [
       "<Figure size 1800x600 with 3 Axes>"
      ]
     },
     "metadata": {},
     "output_type": "display_data"
    }
   ],
   "source": [
    "model = SimpleRNNRegressor(num_tokens_cur=num_tokens, emb_size=64, rnn_num_units=64, num_layers=1, dropout=0.0).to(\n",
    "    device)\n",
    "rate = 0.007\n",
    "optimizer = torch.optim.Adam(model.parameters(), lr=rate)\n",
    "\n",
    "print_summary(model, rate, 3)\n",
    "training_loop(model, optimizer, nn.MSELoss(), n_epochs=50)\n",
    "torch.save(model.state_dict(), \"model_3.pt\")"
   ]
  },
  {
   "cell_type": "markdown",
   "id": "275e24cfe7ee76cd",
   "metadata": {
    "id": "275e24cfe7ee76cd"
   },
   "source": [
    "- Создаю и обучаю 4-ю модель"
   ]
  },
  {
   "cell_type": "code",
   "execution_count": 16,
   "id": "bafcaf9b2b38c430",
   "metadata": {
    "ExecuteTime": {
     "end_time": "2024-04-16T03:52:07.540444Z",
     "start_time": "2024-04-16T03:33:20.801396Z"
    }
   },
   "outputs": [
    {
     "name": "stdout",
     "output_type": "stream",
     "text": [
      "====================  Модель 4  ====================\n",
      "SimpleRNNRegressor(\n",
      "  (emb): Embedding(25002, 64, padding_idx=25001)\n",
      "  (rnn): LSTM(64, 64, num_layers=2, batch_first=True, dropout=0.2)\n",
      "  (regressor): Linear(in_features=64, out_features=1, bias=True)\n",
      ")\n",
      "Шаг обучения: 0.005\n",
      "====================================================\n",
      "\n",
      "Номер эпохи: 01 | MSE Train: 0.0082 | MSE Valid: 0.0082 | Время обучения эпохи: 0m 22s\n",
      "Номер эпохи: 02 | MSE Train: 0.0082 | MSE Valid: 0.0082 | Время обучения эпохи: 0m 22s\n",
      "Номер эпохи: 03 | MSE Train: 0.0082 | MSE Valid: 0.0082 | Время обучения эпохи: 0m 22s\n",
      "Номер эпохи: 04 | MSE Train: 0.0082 | MSE Valid: 0.0082 | Время обучения эпохи: 0m 22s\n",
      "Номер эпохи: 05 | MSE Train: 0.0082 | MSE Valid: 0.0082 | Время обучения эпохи: 0m 22s\n",
      "Номер эпохи: 06 | MSE Train: 0.0082 | MSE Valid: 0.0082 | Время обучения эпохи: 0m 22s\n",
      "Номер эпохи: 07 | MSE Train: 0.0082 | MSE Valid: 0.0082 | Время обучения эпохи: 0m 22s\n",
      "Номер эпохи: 08 | MSE Train: 0.0077 | MSE Valid: 0.0059 | Время обучения эпохи: 0m 22s\n",
      "Номер эпохи: 09 | MSE Train: 0.0054 | MSE Valid: 0.0047 | Время обучения эпохи: 0m 22s\n",
      "Номер эпохи: 10 | MSE Train: 0.0043 | MSE Valid: 0.0043 | Время обучения эпохи: 0m 22s\n",
      "Номер эпохи: 11 | MSE Train: 0.0037 | MSE Valid: 0.0037 | Время обучения эпохи: 0m 22s\n",
      "Номер эпохи: 12 | MSE Train: 0.0033 | MSE Valid: 0.0036 | Время обучения эпохи: 0m 22s\n",
      "Номер эпохи: 13 | MSE Train: 0.0030 | MSE Valid: 0.0034 | Время обучения эпохи: 0m 22s\n",
      "Номер эпохи: 14 | MSE Train: 0.0027 | MSE Valid: 0.0034 | Время обучения эпохи: 0m 22s\n",
      "Номер эпохи: 15 | MSE Train: 0.0025 | MSE Valid: 0.0034 | Время обучения эпохи: 0m 22s\n",
      "Номер эпохи: 16 | MSE Train: 0.0023 | MSE Valid: 0.0033 | Время обучения эпохи: 0m 22s\n",
      "Номер эпохи: 17 | MSE Train: 0.0022 | MSE Valid: 0.0032 | Время обучения эпохи: 0m 22s\n",
      "Номер эпохи: 18 | MSE Train: 0.0020 | MSE Valid: 0.0033 | Время обучения эпохи: 0m 22s\n",
      "Номер эпохи: 19 | MSE Train: 0.0019 | MSE Valid: 0.0032 | Время обучения эпохи: 0m 22s\n",
      "Номер эпохи: 20 | MSE Train: 0.0019 | MSE Valid: 0.0032 | Время обучения эпохи: 0m 22s\n",
      "Номер эпохи: 21 | MSE Train: 0.0018 | MSE Valid: 0.0032 | Время обучения эпохи: 0m 22s\n",
      "Номер эпохи: 22 | MSE Train: 0.0017 | MSE Valid: 0.0032 | Время обучения эпохи: 0m 22s\n",
      "Номер эпохи: 23 | MSE Train: 0.0017 | MSE Valid: 0.0032 | Время обучения эпохи: 0m 22s\n",
      "Номер эпохи: 24 | MSE Train: 0.0016 | MSE Valid: 0.0032 | Время обучения эпохи: 0m 22s\n",
      "Номер эпохи: 25 | MSE Train: 0.0017 | MSE Valid: 0.0035 | Время обучения эпохи: 0m 22s\n",
      "Номер эпохи: 26 | MSE Train: 0.0017 | MSE Valid: 0.0034 | Время обучения эпохи: 0m 22s\n",
      "Номер эпохи: 27 | MSE Train: 0.0015 | MSE Valid: 0.0032 | Время обучения эпохи: 0m 22s\n",
      "Номер эпохи: 28 | MSE Train: 0.0015 | MSE Valid: 0.0032 | Время обучения эпохи: 0m 22s\n",
      "Номер эпохи: 29 | MSE Train: 0.0015 | MSE Valid: 0.0032 | Время обучения эпохи: 0m 22s\n",
      "Номер эпохи: 30 | MSE Train: 0.0014 | MSE Valid: 0.0032 | Время обучения эпохи: 0m 22s\n",
      "Номер эпохи: 31 | MSE Train: 0.0014 | MSE Valid: 0.0032 | Время обучения эпохи: 0m 22s\n",
      "Номер эпохи: 32 | MSE Train: 0.0014 | MSE Valid: 0.0032 | Время обучения эпохи: 0m 22s\n",
      "Номер эпохи: 33 | MSE Train: 0.0014 | MSE Valid: 0.0032 | Время обучения эпохи: 0m 22s\n",
      "Номер эпохи: 34 | MSE Train: 0.0014 | MSE Valid: 0.0033 | Время обучения эпохи: 0m 22s\n",
      "Номер эпохи: 35 | MSE Train: 0.0014 | MSE Valid: 0.0032 | Время обучения эпохи: 0m 22s\n",
      "Номер эпохи: 36 | MSE Train: 0.0013 | MSE Valid: 0.0032 | Время обучения эпохи: 0m 22s\n",
      "Номер эпохи: 37 | MSE Train: 0.0013 | MSE Valid: 0.0032 | Время обучения эпохи: 0m 22s\n",
      "Номер эпохи: 38 | MSE Train: 0.0013 | MSE Valid: 0.0032 | Время обучения эпохи: 0m 22s\n",
      "Номер эпохи: 39 | MSE Train: 0.0013 | MSE Valid: 0.0034 | Время обучения эпохи: 0m 22s\n",
      "Номер эпохи: 40 | MSE Train: 0.0013 | MSE Valid: 0.0033 | Время обучения эпохи: 0m 22s\n",
      "Номер эпохи: 41 | MSE Train: 0.0012 | MSE Valid: 0.0032 | Время обучения эпохи: 0m 22s\n",
      "Номер эпохи: 42 | MSE Train: 0.0012 | MSE Valid: 0.0032 | Время обучения эпохи: 0m 22s\n",
      "Номер эпохи: 43 | MSE Train: 0.0012 | MSE Valid: 0.0032 | Время обучения эпохи: 0m 22s\n",
      "Номер эпохи: 44 | MSE Train: 0.0012 | MSE Valid: 0.0032 | Время обучения эпохи: 0m 22s\n",
      "Номер эпохи: 45 | MSE Train: 0.0012 | MSE Valid: 0.0033 | Время обучения эпохи: 0m 22s\n",
      "Номер эпохи: 46 | MSE Train: 0.0012 | MSE Valid: 0.0032 | Время обучения эпохи: 0m 22s\n",
      "Номер эпохи: 47 | MSE Train: 0.0012 | MSE Valid: 0.0032 | Время обучения эпохи: 0m 22s\n",
      "Номер эпохи: 48 | MSE Train: 0.0012 | MSE Valid: 0.0032 | Время обучения эпохи: 0m 22s\n",
      "Номер эпохи: 49 | MSE Train: 0.0012 | MSE Valid: 0.0033 | Время обучения эпохи: 0m 22s\n",
      "Номер эпохи: 50 | MSE Train: 0.0012 | MSE Valid: 0.0032 | Время обучения эпохи: 0m 22s\n"
     ]
    },
    {
     "data": {
      "image/png": "[encoded data removed]",
      "text/plain": [
       "<Figure size 1800x600 with 3 Axes>"
      ]
     },
     "metadata": {},
     "output_type": "display_data"
    }
   ],
   "source": [
    "model = SimpleRNNRegressor(num_tokens_cur=num_tokens, emb_size=64, rnn_num_units=64, num_layers=2, dropout=0.2).to(\n",
    "    device)\n",
    "rate = 0.005\n",
    "optimizer = torch.optim.Adam(model.parameters(), lr=rate)\n",
    "\n",
    "print_summary(model, rate, 4)\n",
    "training_loop(model, optimizer, nn.MSELoss(), n_epochs=50)\n",
    "torch.save(model.state_dict(), \"model_4.pt\")"
   ]
  },
  {
   "cell_type": "markdown",
   "id": "75edcae195589b74",
   "metadata": {
    "id": "75edcae195589b74"
   },
   "source": [
    "- Создаю и обучаю 5-ю модель, затем сохраняю ее параметры в файл"
   ]
  },
  {
   "cell_type": "code",
   "execution_count": null,
   "id": "24041c0a7852cd47",
   "metadata": {
    "ExecuteTime": {
     "end_time": "2024-04-15T01:45:53.534798Z",
     "start_time": "2024-04-15T01:25:21.658133Z"
    },
    "id": "24041c0a7852cd47",
    "outputId": "0562c7c5-928d-4d1c-ae48-40cf02c58f64"
   },
   "outputs": [
    {
     "name": "stdout",
     "output_type": "stream",
     "text": [
      "====================  Модель 5  ====================\n",
      "SimpleRNNRegressor(\n",
      "  (emb): Embedding(25002, 64, padding_idx=25001)\n",
      "  (rnn): LSTM(64, 64, num_layers=2, batch_first=True, dropout=0.3)\n",
      "  (regressor): Linear(in_features=64, out_features=1, bias=True)\n",
      ")\n",
      "Шаг обучения: 0.005\n",
      "====================================================\n",
      "\n",
      "Номер эпохи: 01 | MSE Train: 0.0084 | MSE Valid: 0.0083 | Время обучения эпохи: 0m 24s\n",
      "Номер эпохи: 02 | MSE Train: 0.0083 | MSE Valid: 0.0082 | Время обучения эпохи: 0m 23s\n",
      "Номер эпохи: 03 | MSE Train: 0.0082 | MSE Valid: 0.0081 | Время обучения эпохи: 0m 24s\n",
      "Номер эпохи: 04 | MSE Train: 0.0082 | MSE Valid: 0.0081 | Время обучения эпохи: 0m 23s\n",
      "Номер эпохи: 05 | MSE Train: 0.0082 | MSE Valid: 0.0081 | Время обучения эпохи: 0m 24s\n",
      "Номер эпохи: 06 | MSE Train: 0.0082 | MSE Valid: 0.0081 | Время обучения эпохи: 0m 27s\n",
      "Номер эпохи: 07 | MSE Train: 0.0082 | MSE Valid: 0.0081 | Время обучения эпохи: 0m 23s\n",
      "Номер эпохи: 08 | MSE Train: 0.0082 | MSE Valid: 0.0081 | Время обучения эпохи: 0m 23s\n",
      "Номер эпохи: 09 | MSE Train: 0.0082 | MSE Valid: 0.0081 | Время обучения эпохи: 0m 23s\n",
      "Номер эпохи: 10 | MSE Train: 0.0082 | MSE Valid: 0.0082 | Время обучения эпохи: 0m 22s\n",
      "Номер эпохи: 11 | MSE Train: 0.0082 | MSE Valid: 0.0081 | Время обучения эпохи: 0m 23s\n",
      "Номер эпохи: 12 | MSE Train: 0.0082 | MSE Valid: 0.0081 | Время обучения эпохи: 0m 24s\n",
      "Номер эпохи: 13 | MSE Train: 0.0075 | MSE Valid: 0.0053 | Время обучения эпохи: 0m 23s\n",
      "Номер эпохи: 14 | MSE Train: 0.0048 | MSE Valid: 0.0041 | Время обучения эпохи: 0m 25s\n",
      "Номер эпохи: 15 | MSE Train: 0.0037 | MSE Valid: 0.0036 | Время обучения эпохи: 0m 23s\n",
      "Номер эпохи: 16 | MSE Train: 0.0032 | MSE Valid: 0.0035 | Время обучения эпохи: 0m 23s\n",
      "Номер эпохи: 17 | MSE Train: 0.0029 | MSE Valid: 0.0034 | Время обучения эпохи: 0m 24s\n",
      "Номер эпохи: 18 | MSE Train: 0.0026 | MSE Valid: 0.0033 | Время обучения эпохи: 0m 25s\n",
      "Номер эпохи: 19 | MSE Train: 0.0024 | MSE Valid: 0.0034 | Время обучения эпохи: 0m 26s\n",
      "Номер эпохи: 20 | MSE Train: 0.0022 | MSE Valid: 0.0032 | Время обучения эпохи: 0m 26s\n",
      "Номер эпохи: 21 | MSE Train: 0.0020 | MSE Valid: 0.0032 | Время обучения эпохи: 0m 24s\n",
      "Номер эпохи: 22 | MSE Train: 0.0019 | MSE Valid: 0.0033 | Время обучения эпохи: 0m 24s\n",
      "Номер эпохи: 23 | MSE Train: 0.0018 | MSE Valid: 0.0033 | Время обучения эпохи: 0m 22s\n",
      "Номер эпохи: 24 | MSE Train: 0.0017 | MSE Valid: 0.0033 | Время обучения эпохи: 0m 23s\n",
      "Номер эпохи: 25 | MSE Train: 0.0016 | MSE Valid: 0.0033 | Время обучения эпохи: 0m 23s\n",
      "Номер эпохи: 26 | MSE Train: 0.0015 | MSE Valid: 0.0031 | Время обучения эпохи: 0m 23s\n",
      "Номер эпохи: 27 | MSE Train: 0.0015 | MSE Valid: 0.0032 | Время обучения эпохи: 0m 24s\n",
      "Номер эпохи: 28 | MSE Train: 0.0014 | MSE Valid: 0.0034 | Время обучения эпохи: 0m 25s\n",
      "Номер эпохи: 29 | MSE Train: 0.0014 | MSE Valid: 0.0031 | Время обучения эпохи: 0m 24s\n",
      "Номер эпохи: 30 | MSE Train: 0.0013 | MSE Valid: 0.0032 | Время обучения эпохи: 0m 25s\n",
      "Номер эпохи: 31 | MSE Train: 0.0013 | MSE Valid: 0.0034 | Время обучения эпохи: 0m 24s\n",
      "Номер эпохи: 32 | MSE Train: 0.0013 | MSE Valid: 0.0033 | Время обучения эпохи: 0m 27s\n",
      "Номер эпохи: 33 | MSE Train: 0.0013 | MSE Valid: 0.0035 | Время обучения эпохи: 0m 25s\n",
      "Номер эпохи: 34 | MSE Train: 0.0012 | MSE Valid: 0.0034 | Время обучения эпохи: 0m 25s\n",
      "Номер эпохи: 35 | MSE Train: 0.0012 | MSE Valid: 0.0035 | Время обучения эпохи: 0m 25s\n",
      "Номер эпохи: 36 | MSE Train: 0.0012 | MSE Valid: 0.0033 | Время обучения эпохи: 0m 23s\n",
      "Номер эпохи: 37 | MSE Train: 0.0012 | MSE Valid: 0.0032 | Время обучения эпохи: 0m 23s\n",
      "Номер эпохи: 38 | MSE Train: 0.0012 | MSE Valid: 0.0034 | Время обучения эпохи: 0m 25s\n",
      "Номер эпохи: 39 | MSE Train: 0.0011 | MSE Valid: 0.0032 | Время обучения эпохи: 0m 25s\n",
      "Номер эпохи: 40 | MSE Train: 0.0011 | MSE Valid: 0.0034 | Время обучения эпохи: 0m 25s\n",
      "Номер эпохи: 41 | MSE Train: 0.0011 | MSE Valid: 0.0033 | Время обучения эпохи: 0m 24s\n",
      "Номер эпохи: 42 | MSE Train: 0.0011 | MSE Valid: 0.0037 | Время обучения эпохи: 0m 25s\n",
      "Номер эпохи: 43 | MSE Train: 0.0011 | MSE Valid: 0.0032 | Время обучения эпохи: 0m 24s\n",
      "Номер эпохи: 44 | MSE Train: 0.0011 | MSE Valid: 0.0033 | Время обучения эпохи: 0m 24s\n",
      "Номер эпохи: 45 | MSE Train: 0.0012 | MSE Valid: 0.0034 | Время обучения эпохи: 0m 24s\n",
      "Номер эпохи: 46 | MSE Train: 0.0011 | MSE Valid: 0.0035 | Время обучения эпохи: 0m 24s\n",
      "Номер эпохи: 47 | MSE Train: 0.0010 | MSE Valid: 0.0033 | Время обучения эпохи: 0m 26s\n",
      "Номер эпохи: 48 | MSE Train: 0.0010 | MSE Valid: 0.0033 | Время обучения эпохи: 0m 24s\n",
      "Номер эпохи: 49 | MSE Train: 0.0010 | MSE Valid: 0.0033 | Время обучения эпохи: 0m 24s\n",
      "Номер эпохи: 50 | MSE Train: 0.0010 | MSE Valid: 0.0033 | Время обучения эпохи: 0m 23s\n"
     ]
    },
    {
     "data": {
      "image/png": "[encoded data removed]",
      "text/plain": [
       "<Figure size 1800x600 with 3 Axes>"
      ]
     },
     "metadata": {},
     "output_type": "display_data"
    }
   ],
   "source": [
    "model = SimpleRNNRegressor(num_tokens_cur=num_tokens, emb_size=64, rnn_num_units=64, num_layers=2, dropout=0.3).to(\n",
    "    device)\n",
    "rate = 0.005\n",
    "optimizer = torch.optim.Adam(model.parameters(), lr=rate)\n",
    "\n",
    "print_summary(model, rate, 5)\n",
    "training_loop(model, optimizer, nn.MSELoss(), n_epochs=50)\n",
    "torch.save(model.state_dict(), \"model_5.pt\")"
   ]
  },
  {
   "cell_type": "markdown",
   "id": "fea35795",
   "metadata": {
    "id": "fea35795"
   },
   "source": [
    "Выведите несколько примеров работы на тестовой выборке: текст вакансии, предсказание вашей модели и истинное значение зарплаты. Чтобы вернуть все значения к изначальным масштабам, используйте `scaler.inverse_transform(...)`. Также посчитайте MSE на всей тестовой выборке."
   ]
  },
  {
   "cell_type": "markdown",
   "id": "d55b173b78405350",
   "metadata": {
    "id": "d55b173b78405350"
   },
   "source": [
    "- Определим функцию вывода примера работы на тестовой выборке"
   ]
  },
  {
   "cell_type": "code",
   "execution_count": 16,
   "id": "b17b61c63ce560c1",
   "metadata": {
    "ExecuteTime": {
     "end_time": "2024-04-16T10:38:31.193810Z",
     "start_time": "2024-04-16T10:38:31.176376Z"
    },
    "id": "b17b61c63ce560c1"
   },
   "outputs": [],
   "source": [
    "def print_test(offer_cur, prediction_cur, actual_cur):\n",
    "    \"\"\"\n",
    "    Функция для вывода результата работы на конкретном примере\n",
    "\n",
    "    Параметры.\n",
    "    1) offer_cur: текст вакансии\n",
    "    2) prediction_cur: предсказание зарплаты\n",
    "    3) actual_cur: истинное значение зарплаты\n",
    "    \"\"\"\n",
    "\n",
    "    test_offer = \" \".join([token for token in offer_cur if token not in [unk_token, pad_token]])\n",
    "    print(\"=\" * 20)\n",
    "    print(f\"Предсказанное значение зарплаты: {prediction_cur.item():.1f}\")\n",
    "    print(f\"Истинное значение зарплаты:      {actual_cur.item():.1f}\")\n",
    "    print(f\"Описание вакансии: {test_offer}\")\n",
    "    print(\"=\" * 20)\n",
    "    print()"
   ]
  },
  {
   "cell_type": "markdown",
   "id": "daf56a5c2b77c846",
   "metadata": {
    "id": "daf56a5c2b77c846"
   },
   "source": [
    "- Теперь выведем по 3 примера работы на каждой модели. Для начала определим функцию запуска модели на тестовой выборке"
   ]
  },
  {
   "cell_type": "code",
   "execution_count": 17,
   "id": "7e539fc5ddc2ff5c",
   "metadata": {
    "ExecuteTime": {
     "end_time": "2024-04-16T10:38:31.208293Z",
     "start_time": "2024-04-16T10:38:31.194210Z"
    },
    "id": "7e539fc5ddc2ff5c"
   },
   "outputs": [],
   "source": [
    "def evaluate_test(model_cur, ind):\n",
    "    \"\"\"Функция запуска модели на тестовой выборке и вывода результата работы\n",
    "\n",
    "    Args:\n",
    "        model_cur: модель\n",
    "        ind: номер модели\n",
    "    \"\"\"\n",
    "    print(\"=\" * 20 + f\"  Модель {ind}  \" + \"=\" * 20)\n",
    "    test_texts, test_labels = next(iter(valid_loader))\n",
    "    test_texts, test_labels = test_texts.to(device), test_labels.to(device)\n",
    "\n",
    "    with torch.no_grad():\n",
    "        test_predictions = scaler.inverse_transform(model_cur(test_texts).cpu().numpy())\n",
    "        test_actual = scaler.inverse_transform(test_labels.cpu().numpy())\n",
    "\n",
    "        print(\"Примеры\")\n",
    "        indices = torch.randint(low=0, high=len(test_texts), size=(3,))\n",
    "        for idx in indices:\n",
    "            test_tokens = vocab.lookup_tokens(test_texts[idx].tolist())\n",
    "            print_test(test_tokens, test_predictions[idx], test_actual[idx])\n",
    "\n",
    "        acc = mse(torch.tensor(test_predictions), torch.tensor(test_actual)).item()\n",
    "        print(\"MSE на тестовой выборке:\", acc)\n",
    "    print(\"=\" * 52)\n",
    "    print()"
   ]
  },
  {
   "cell_type": "markdown",
   "id": "18bbe9d2fedf43c1",
   "metadata": {
    "id": "18bbe9d2fedf43c1"
   },
   "source": [
    "- Теперь запустим на каждой модели поочереди и выведем MSE"
   ]
  },
  {
   "cell_type": "markdown",
   "id": "80a0c56c8ca6d5df",
   "metadata": {
    "id": "80a0c56c8ca6d5df"
   },
   "source": [
    "- Тестовый вывод и MSE 1-й модели:"
   ]
  },
  {
   "cell_type": "code",
   "execution_count": null,
   "id": "92ed5c95a5bb00e4",
   "metadata": {
    "ExecuteTime": {
     "end_time": "2024-04-15T05:14:18.569915Z",
     "start_time": "2024-04-15T05:14:18.519481Z"
    },
    "id": "92ed5c95a5bb00e4",
    "outputId": "fe2536e8-41b8-4f60-cbac-9577412e3942"
   },
   "outputs": [
    {
     "name": "stdout",
     "output_type": "stream",
     "text": [
      "====================  Модель 1  ====================\n",
      "Примеры\n",
      "====================\n",
      "Предсказанное значение зарплаты: 23023.4\n",
      "Истинное значение зарплаты:      18505.0\n",
      "Описание вакансии: organisation founded excellence also adventurous imaginative innovative qualities resonate like work organisation heart national cultural revolution top game challenge ensuring continues world class resource world class talent within small team role exciting opportunity secure new recurring funding individuals trusts foundations key initiatives specifically scholarships work help ensure talented individuals backgrounds develop emerging artists looking talented individual naturally curious relishes forming developing strong relationships donors levels also work senior volunteers passionate future iconic organisation anyone know would like find inspiring role please email recruitment full information pack also call office discuss inspiring role reviewed information date 4 2013 held week beginning 11 2013 search conducted behalf fundraisers use experience match organisations individuals create great fundraising appointments like first know new vacancies us\n",
      "====================\n",
      "\n",
      "====================\n",
      "Предсказанное значение зарплаты: 27115.7\n",
      "Истинное значение зарплаты:      23000.0\n",
      "Описание вакансии: k k basic dependent upon experience plus car commission recruiting help wellestablished telecoms reseller expand business home based role oversee sales company 's territory main responsibilities include attending prebooked client meetings order promote company 's telecoms services networking gaining referrals potential clients drive business securing new clients upselling existing packages current accounts managing existing relationships ensure excellent standards customer service maintaining date customers database ensuring excellent product competitor knowledge client least year 's face face sales experience addition excellent communication negotiation relationship building skills full training provided working knowledge telecoms industry would seen advantageous must full driving licence client wellestablished top 10 telecoms reseller looking expand business close knit team really value product ability provide excellent customer service businesses deal anybody looking join company needs equally passionate employment agency working behalf client job originally posted\n",
      "====================\n",
      "\n",
      "====================\n",
      "Предсказанное значение зарплаты: 60863.7\n",
      "Истинное значение зарплаты:      50000.0\n",
      "Описание вакансии: c****k 10 working one upcoming based recently receiving number new clients subscription business looking grow mobile offering product next 18 months looking work within rapidly growing business cutting edge technology work green field work mobile offering perfect role hit ground running application sole developer platform architecting designing green field work looking person strong experience developing work closely product design team build exciting new state art apps development experience proven history shipping iphone apps involvement entire app development life cycle project creation coding app store deployment appreciation mobile development practices app optimisation understanding app architecture use design patterns instinct excellent app design user experience looking new challenge want make mark designing architecting new venture mobile forward 's link provided immediate consideration contact directly c****k 10\n",
      "====================\n",
      "\n",
      "MSE на тестовой выборке: 113245152.0\n",
      "====================================================\n",
      "\n"
     ]
    }
   ],
   "source": [
    "model = SimpleRNNRegressor(num_tokens_cur=num_tokens, emb_size=128, rnn_num_units=256, num_layers=1, dropout=0.0).to(\n",
    "    device)\n",
    "model.load_state_dict(torch.load(\"model_1.pt\"))\n",
    "model.eval()\n",
    "\n",
    "evaluate_test(model, 1)"
   ]
  },
  {
   "cell_type": "markdown",
   "id": "70873078d867eddd",
   "metadata": {
    "id": "70873078d867eddd"
   },
   "source": [
    "- Тестовый вывод и MSE 2-й модели:"
   ]
  },
  {
   "cell_type": "code",
   "execution_count": null,
   "id": "6eb2dba3efc3c076",
   "metadata": {
    "ExecuteTime": {
     "end_time": "2024-04-15T05:14:23.341912Z",
     "start_time": "2024-04-15T05:14:23.312466Z"
    },
    "id": "6eb2dba3efc3c076",
    "outputId": "0cb780f1-7286-4fc4-a5e2-b4c835ff55f6"
   },
   "outputs": [
    {
     "name": "stdout",
     "output_type": "stream",
     "text": [
      "====================  Модель 2  ====================\n",
      "Примеры\n",
      "====================\n",
      "Предсказанное значение зарплаты: 22165.5\n",
      "Истинное значение зарплаты:      21226.0\n",
      "Описание вакансии: lives better pro rata part time 17.5 hours per week recruiting leading provider employment opportunities disadvantaged people last year organisation enabled people range disabilities health conditions complex barriers work find remain employment either significant employers within business role never dull work fast paced environment tasked ensure individuals receive training skills required employment market demonstrate passion delivering highest standards service whilst working potential candidates employers match required skill sets difficulties job seekers face today challenging economy essential identify area development deliver bespoke training assist candidates employability engaging local employers build long standing relationships allow understand business deliver effective recruitment solutions opportunity demonstrate strong sales abilities within industry period significant growth based role ability travel required applicant successful candidate demonstrate previous experience relationships worked within customer facing recruitment role applicants must highly organised good time management skills literate effective written verbal communications skills able work targets 11 month contract exciting opportunity want work organisation offers progression continued career development chance work growing interesting sector please apply need receive information alternative format please contact take reasonable steps arrange client employer actively encourage candidate applications sections community successful candidate may required undertake\n",
      "====================\n",
      "\n",
      "====================\n",
      "Предсказанное значение зарплаты: 34283.9\n",
      "Истинное значение зарплаты:      52800.0\n",
      "Описание вакансии: per hour established team design engineers provision building services player market design engineer responsible producing electrical designs building services applications take projects inception conception projects high end residential educational commercial sectors based role occasional site visits team offices higher level qualification electrical building services experience approach experience arena work office least 8 years design experience contact send .uk must eligible work live recognised one leading specialist recruiters achieved significant organic growth since it?s inception development specialist teams focusing key markets recruitment recruitment recruitment enabled consultants become experts field sector based teams recruit include project engineers design engineers sales executive jobs area sales manager jobs sales engineer jobs national account manager jobs business development manager jobs sales representative jobs field sales jobs sectors recruitment include sectors recruitment include sectors recruitment include\n",
      "====================\n",
      "\n",
      "====================\n",
      "Предсказанное значение зарплаты: 35239.9\n",
      "Истинное значение зарплаты:      35000.0\n",
      "Описание вакансии: fantastic opportunity arisen within startup organisation based specialising medical systems consultant startup organisation golive date early 2013 seeking candidate could grow within organisation sole responsibility function business initially tasked setting support infrastructure include setting escalation routes role extremely varied skills knowledge increase quickly dramatically ideally experience function setting infrastructure services working within hosted environment hands technical support function highly desirable progress quickly within business knowledge certification experience fantastic opportunity candidate passionate enthusiastic keen progress career quickly gain experience plus many new technologies urgent position due golive deadlines please send immediately job originally posted\n",
      "====================\n",
      "\n",
      "MSE на тестовой выборке: 113708168.0\n",
      "====================================================\n",
      "\n"
     ]
    }
   ],
   "source": [
    "model = SimpleRNNRegressor(num_tokens_cur=num_tokens, emb_size=64, rnn_num_units=128, num_layers=1, dropout=0.0).to(\n",
    "    device)\n",
    "model.load_state_dict(torch.load(\"model_2.pt\"))\n",
    "model.eval()\n",
    "\n",
    "evaluate_test(model, 2)"
   ]
  },
  {
   "cell_type": "markdown",
   "id": "e8048b25484a378",
   "metadata": {
    "id": "e8048b25484a378"
   },
   "source": [
    "- Тестовый вывод и MSE 3-й модели:"
   ]
  },
  {
   "cell_type": "code",
   "execution_count": null,
   "id": "20564d264c61eb79",
   "metadata": {
    "ExecuteTime": {
     "end_time": "2024-04-15T05:14:54.610092Z",
     "start_time": "2024-04-15T05:14:54.580486Z"
    },
    "id": "20564d264c61eb79",
    "outputId": "efd71377-50bd-4784-d696-8341542ed137"
   },
   "outputs": [
    {
     "name": "stdout",
     "output_type": "stream",
     "text": [
      "====================  Модель 3  ====================\n",
      "Примеры\n",
      "====================\n",
      "Предсказанное значение зарплаты: 26134.6\n",
      "Истинное значение зарплаты:      30000.0\n",
      "Описание вакансии: exciting newly created opportunity arisen part clients exciting portfolio 2013 keen hear experience strong background delivering wide range employees within white collar industries also experience delivering training within soft skills arena order support business moving forward progressive agenda significant investment permanent role requiring candidates experience working small businesses developing meaningful lasting working relationships interested role please apply clicking link contact details specialise exclusively recruitment nationwide temporary contract permanent roles give equal priority candidate client relationships ensure deliver highly professional consultancy service times find us please visit website www.ashleykatehr.com group follow us operates provision permanent candidates provision temporary candidates\n",
      "====================\n",
      "\n",
      "====================\n",
      "Предсказанное значение зарплаты: 36757.2\n",
      "Истинное значение зарплаты:      37500.0\n",
      "Описание вакансии: brand new role good knowledge market area role suit someone much way thinking someone builds effective successful relationships long term obviously established contacts could hit ground relatively quickly would stand good stead brand new role good knowledge market area role suit someone much way thinking someone builds effective successful relationships long term obviously established contacts could hit ground relatively quickly would stand good stead role someone self starter sound understanding industry ideally sound understanding users area various packages available etc company established player broad remit terms product range options position provide excellent basic salary one generous commission structures industry\n",
      "====================\n",
      "\n",
      "====================\n",
      "Предсказанное значение зарплаты: 73425.9\n",
      "Истинное значение зарплаты:      75000.0\n",
      "Описание вакансии: k excellent k expanding team comprising experienced strong inspiring talented individuals renowned respected recruitment brand seeking additional credible background accountancy finance recruitment sector return receive highly rewarding generous bonus benefits package coupled superb career advancement opportunities currently recruiting superior brand within accountancy finance sector established many decades belong larger organisation therefore stable business working placing mainly qualified accountancy personnel range industry sectors across surround regions expected conduct full recruitment cycle including sales business development well managing accounts win also network build database candidates background would ideal recruitment consultants experience within accountancy finance sector recruitment consultants recruitment sectors considered role involve performing full recruitment cycle including business development sales must adept considered used working within autonomous environment taking responsibility targets billings 25 tiered allowance scheme annual bonus feel necessary skills role would like considered please email recruitment recruitment agency view website look exciting positions available employment agency vacancy listed sought permission clients find suitable candidates comply\n",
      "====================\n",
      "\n",
      "MSE на тестовой выборке: 82291504.0\n",
      "====================================================\n",
      "\n"
     ]
    }
   ],
   "source": [
    "model = SimpleRNNRegressor(num_tokens_cur=num_tokens, emb_size=64, rnn_num_units=64, num_layers=1, dropout=0.0).to(\n",
    "    device)\n",
    "model.load_state_dict(torch.load(\"model_3.pt\"))\n",
    "model.eval()\n",
    "\n",
    "evaluate_test(model, 3)"
   ]
  },
  {
   "cell_type": "markdown",
   "id": "1cdda2f99660e87d",
   "metadata": {
    "id": "1cdda2f99660e87d"
   },
   "source": [
    "- Тестовый вывод и MSE 4-й модели:"
   ]
  },
  {
   "cell_type": "code",
   "execution_count": 18,
   "id": "d28859f406357743",
   "metadata": {
    "ExecuteTime": {
     "end_time": "2024-04-16T10:39:25.607128Z",
     "start_time": "2024-04-16T10:39:25.444762Z"
    },
    "id": "d28859f406357743",
    "outputId": "1c19be3d-1cb2-4d47-847e-71578a2fb139"
   },
   "outputs": [
    {
     "name": "stdout",
     "output_type": "stream",
     "text": [
      "====================  Модель 4  ====================\n",
      "Примеры\n",
      "====================\n",
      "Предсказанное значение зарплаты: 31809.0\n",
      "Истинное значение зарплаты:      28000.0\n",
      "Описание вакансии: client premises maintain upgrade install fire alarm detection systems emergency lighting related fire systems accordance relevant codes practice legislation legislation full fire protection package offered company supply service safety equipment throughout name suggests offer complete range fire safety services types business commerce initial fire risk assessment specification installation custom solutions delivered network one largest fastest growing independent fire protection companies looking recruit additional join team support continued growth require good communication skills sound electrical background part equivalent offer excellent remuneration package working conditions fully expensed company vehicle uniform pension scheme chance join successful company\n",
      "====================\n",
      "\n",
      "====================\n",
      "Предсказанное значение зарплаты: 36432.2\n",
      "Истинное значение зарплаты:      40000.0\n",
      "Описание вакансии: highly successful client looking experienced experience selling able commute role involve selling government security identity markets also degree international travel involved part role involve setting managing channel partners excellent opportunity work stable growing company based good earnings receive car allowance healthcare pension expenses tools role role working company dominant market 80 market share company continuously growing result good opportunities progression excellent earning potential joining company values sales professionals provides marketing sales support required success successful applicant role experience selling summary apply role bull selling bull ability commute bull strong drive succeed enjoy rewards success bull demonstrable track record successful sales bull willingness travel internationally bull setting channel partners nbsp\n",
      "====================\n",
      "\n",
      "====================\n",
      "Предсказанное значение зарплаты: 37771.3\n",
      "Истинное значение зарплаты:      33500.0\n",
      "Описание вакансии: required international law firm circa staff join immediate team people wider team around staff right person experience using call management software ideally certification however prerequisite provide 1st 2nd line technical call resolution working closely department technical issues experience either similar within professional services environment law firm fantastic opportunity join global quickly expanding top 20 law firm\n",
      "====================\n",
      "\n",
      "MSE на тестовой выборке: 73116512.0\n",
      "====================================================\n",
      "\n"
     ]
    }
   ],
   "source": [
    "model = SimpleRNNRegressor(num_tokens_cur=num_tokens, emb_size=64, rnn_num_units=64, num_layers=2, dropout=0.2).to(\n",
    "    device)\n",
    "model.load_state_dict(torch.load(\"model_4.pt\"))\n",
    "model.eval()\n",
    "\n",
    "evaluate_test(model, 4)"
   ]
  },
  {
   "cell_type": "markdown",
   "id": "c59057af256fe725",
   "metadata": {
    "id": "c59057af256fe725"
   },
   "source": [
    "- Тестовый вывод и MSE 5-й модели:"
   ]
  },
  {
   "cell_type": "code",
   "execution_count": null,
   "id": "c5e6a87acc8042c6",
   "metadata": {
    "ExecuteTime": {
     "end_time": "2024-04-15T05:14:59.264800Z",
     "start_time": "2024-04-15T05:14:59.239131Z"
    },
    "id": "c5e6a87acc8042c6",
    "outputId": "09317fae-9867-4fa5-e0cb-270738b5c434"
   },
   "outputs": [
    {
     "name": "stdout",
     "output_type": "stream",
     "text": [
      "====================  Модель 5  ====================\n",
      "Примеры\n",
      "====================\n",
      "Предсказанное значение зарплаты: 26915.8\n",
      "Истинное значение зарплаты:      23040.0\n",
      "Описание вакансии: tester web tester app tester applications test per hour type fantastic career opportunity experienced emerged one world leading specialist engineering production facilities highly accomplished enterprise provides vast range products services pharmaceutical automotive aerospace various industries around world candidates required produce detailed functional regression operational test plans prepare test data execute tests assist developers resolving issues ideal position would certified offer experience testing web based systems using test tracking execution tools demonstrate understanding different software development lifecycles excellent documentation skills attention detail ability communicate detailed technical issues internal business/ project teams candidates full eligibility work considered required must proficient full software development cycle testing solving complexity clarity test cases new releases software development advantageous though essential genuinely looking great opportunity one paramount component manufacturers questions queries please n’t hesitate contact via email numbers provided tester web tester app tester applications test\n",
      "====================\n",
      "\n",
      "====================\n",
      "Предсказанное значение зарплаты: 14751.2\n",
      "Истинное значение зарплаты:      16250.0\n",
      "Описание вакансии: de required awarded located country village available looking experienced ready step de passionate fresh food cooking making career top employer winning food wine served one finest traditional pubs either worked similar food gastro pub venue least year de level 6 months team player brilliant work ethic small team friendly busy k per annum based experience tips run per week top wages available includes meals bills split shifts straight shifts reliable able chef least 12 years food kitchen please send de required awarded located country village interested position would like information positions please send\n",
      "====================\n",
      "\n",
      "====================\n",
      "Предсказанное значение зарплаты: 58923.1\n",
      "Истинное значение зарплаты:      50000.0\n",
      "Описание вакансии: c****k 10 working one upcoming based recently receiving number new clients subscription business looking grow mobile offering product next 18 months looking work within rapidly growing business cutting edge technology work green field work mobile offering perfect role hit ground running application sole developer platform architecting designing green field work looking person strong experience developing work closely product design team build exciting new state art apps development experience proven history shipping iphone apps involvement entire app development life cycle project creation coding app store deployment appreciation mobile development practices app optimisation understanding app architecture use design patterns instinct excellent app design user experience looking new challenge want make mark designing architecting new venture mobile forward 's link provided immediate consideration contact directly c****k 10\n",
      "====================\n",
      "\n",
      "MSE на тестовой выборке: 70535920.0\n",
      "====================================================\n",
      "\n"
     ]
    }
   ],
   "source": [
    "model = SimpleRNNRegressor(num_tokens_cur=num_tokens, emb_size=64, rnn_num_units=64, num_layers=2, dropout=0.3).to(\n",
    "    device)\n",
    "model.load_state_dict(torch.load(\"model_5.pt\"))\n",
    "model.eval()\n",
    "\n",
    "evaluate_test(model, 5)"
   ]
  },
  {
   "cell_type": "markdown",
   "id": "92a23329",
   "metadata": {
    "id": "92a23329"
   },
   "source": [
    "**Вывод:**\n",
    "  - Увеличение количества слоев положительно влияет на точность модели\n",
    "  - Выставление ненулевого dropout (вероятности, с которой не учитываем нейроны) положительно влияет на скорость обучения, и на точность предсказаний\n",
    "  - Уменьшение размера пространства скрытых представлений в rnn положительно влияет на точность, спасая от переобучения. То есть, на \"золотой середине\" мы достигнем оптимума\n",
    "  - Сильно увеличивать количество слоев плохо: не влезет в память и большое количество параметров модели сделает ее переобучаемой\n",
    "  - Лучше всего справилась модель с двумя слоями вероятностью выброса нейронов 0.3 и не сильно большими размером пространства скрытых представлений в rnn и эмбеддингового пространства (последняя). Смотря на примеры можем сказать, что истинные значения довольно близки к предсказанным"
   ]
  },
  {
   "cell_type": "markdown",
   "id": "3dc296de",
   "metadata": {
    "id": "3dc296de"
   },
   "source": [
    "---\n",
    "### Задача 2. Использование большой языковой модели\n"
   ]
  },
  {
   "cell_type": "markdown",
   "id": "8099f7ad",
   "metadata": {
    "id": "8099f7ad"
   },
   "source": [
    "Ваша задача &mdash; применить <a target=\"_blank\" href=\"https://llama-2.ai/\">Llama 2</a> к предыдущей задаче и заставить ее предсказать заработную плату по текстовому описанию. Существует мало русскоязычных моделей, способных решить такую задачу и помещающихся в <a target=\"_blank\" href=\"https://colab.research.google.com/\">Colab</a>, поэтому вам придется писать запросы на английском!"
   ]
  },
  {
   "cell_type": "code",
   "execution_count": 2,
   "id": "1a7d4592",
   "metadata": {
    "ExecuteTime": {
     "end_time": "2024-04-14T23:12:44.391410Z",
     "start_time": "2024-04-14T23:12:44.391324Z"
    },
    "id": "1a7d4592"
   },
   "outputs": [],
   "source": [
    "!pip install bitsandbytes==0.41.1 transformers==4.34.1 accelerate==0.24.0 sentencepiece==0.1.99 optimum==1.13.2 auto-gptq==0.4.2  > null\n",
    "import transformers\n",
    "\n",
    "assert torch.cuda.is_available(), \"для этой части понадобится GPU\""
   ]
  },
  {
   "cell_type": "markdown",
   "id": "e154b2c4",
   "metadata": {
    "id": "e154b2c4"
   },
   "source": [
    "Дисклеймер: *использовать LLM в рамках ограничений Colab хоть и возможно, но очень трудно.*\n",
    "\n",
    "> Так как процесс генерации очень хрупкий и может сломаться при любом неверном движении, мы настоятельно рекомендуем **сохранить результаты предыдущего задания в отдельном файле** и приступать к этой задаче в самом конце. Решения задач можно сдавать в бот разными файлами.\n",
    "\n",
    "> Если у вас возникла ошибка `Out of memory`, перезапустите ноутбук и попробуйте снова. Да, языковые модели без своей GPU &mdash; это тяжело..."
   ]
  },
  {
   "cell_type": "markdown",
   "id": "f50fa96c",
   "metadata": {
    "id": "f50fa96c"
   },
   "source": [
    "От вас требуется подобрать такой промпт, который приводил бы к нужному выводу модели. Можете экспериментировать с параметрами генерации, список которых можно посмотреть в <a target=\"_blank\" href=\"https://github.com/huggingface/transformers/blob/c4d4e8bdbd25d9463d41de6398940329c89b7fb6/src/transformers/generation_utils.py#L101\">исходнике</a>.\n",
    "\n",
    "Существуют различные техники, которые могут помочь вам \"разговорить\" языковую модель. О многих из них вы сможете прочитать <a target=\"_blank\" href=\"https://docs.mistral.ai/guides/prompting-capabilities/\">здесь</a>. В нашем случае полезным может быть метод Few-Shot Learning, который заключается в предоставлении модели нескольких примеров."
   ]
  },
  {
   "cell_type": "code",
   "execution_count": 4,
   "id": "1a50abd882522a33",
   "metadata": {
    "colab": {
     "base_uri": "https://localhost:8080/",
     "height": 298,
     "referenced_widgets": [
      "7174bdfd1f0c4e07bdb4626818fcc2a2",
      "06799e914b874ebba05a77a87622fd37",
      "7b6d67fc56c14961a2f28ed44a8126f1",
      "8e451073e166466491393566319dee88",
      "9bac70f0edbe4d5b84be9f9c6a51921f",
      "d30d7a55af394f4a884576b171412644",
      "425b58c5b90945eeb739702af47797ef",
      "f6a01841dd92447f81d4cf437accdf3a",
      "d89798f452254307878ebb16fdf7cb7d",
      "21e0266d7a0e4a7aabaf32101964c6ec",
      "8e2a22a09a3b4beeafdb5de7c646467e",
      "4e8dbe25e99b41ea89aa47620a7c4603",
      "32f00fa79e924023a9d2fb1f27bbbc85",
      "7f2d33cdc5fe4463bf027081e1e1dd64",
      "151c10a002a946838f75045f3ad0cb83",
      "7df129c53122472c98e70b30e3bb23cd",
      "c69a917c28d944ff9778c2229f74fc4d",
      "f023aa91a06a42e2a89fefa0d80d711e",
      "1bd5bfd34b7b4ec0b0e0191e3a3faa81",
      "cfe9664d936c45d685babb6eb1535a5e",
      "5f2ffc69d47a4704a1e64db51272be53",
      "494526235c044067b7e56c177d9daee0",
      "57cfc9aa4db44dc3be0d7761307ff404",
      "59e237d5ae5e4a2e87a62895b3170e89",
      "97bd3472bc6a441bb060956adf587873",
      "4252c595a8b44fa2b219bd5201072934",
      "e72aad80903d44eaa2f2ef7bf47e16a6",
      "fb71dd995ca3478e86710a1a8a7f51b0",
      "483dffdee3dd4d63b3529c06472fe353",
      "4400163fcad3433aad19ce92628f551f",
      "030d6c92bb0040f7a6202830af805115",
      "fbf331269a0243d38d12197b8a6e24b4",
      "37a886e30f1343099e9d41678d68d359",
      "7fc0462ec18342e8a7bcc647ebd5f089",
      "7be81e42352c4f34b774f81ae3cf3b81",
      "3d59f33ebc3d469eb4caad7c0fdddb80",
      "06c41377ddf04542bc82828b0f2319f4",
      "d3596d4328aa412db980743932ee4514",
      "9a80fed7e89b41f585294a001e96e229",
      "d881203eb4434b74a06a6129ff566d97",
      "f0e135b3036042ddb8fd418040ef48a2",
      "926e43ea7b1b4147b9ac8d22a5192a55",
      "5f92890b0b484273b08d2a15ee9b33f1",
      "a98ba07d04d2458bb6b97ae1988209c7",
      "888805c8a96746dab01320c660ef1ded",
      "46362fabc8964136a965ce254b885e60",
      "3a304c9b22094b8eb910f0255db9f2be",
      "88bf72b61b9847dea4a249eaa8b393f1",
      "c5b9dd3bb7b745c6848574ab99a921e4",
      "29dfab0f237f4c4f824aee55716abda9",
      "0657ffb5ab8644e0bca1e61cdfaf2f6a",
      "03698764405048a8a2a07522b38c38f6",
      "45d5666bf01649d8a94f879a906b7c10",
      "5333dc0aa6d34d6284d31d8dd72bb991",
      "7cf4535bc8d74747915583958a1263b6",
      "e46a0e3473234d17b59388321269202e",
      "ec71d5b838c549f5bdd51583c41be74f",
      "8183264e2d42407e8430b7a6ea06c0c0",
      "dcfc68c5d900460abbcfe5318d6a0a2d",
      "8ab0aa9896e443b481439799472c86c8",
      "1d8087ee1e4541359b83478f970bafe6",
      "8d8dd629670d4e8eba1813b00472df87",
      "821c13f1c1a0433895f8d620d0933b68",
      "e4b08d92b81344ada893a1f82d71abdd",
      "3c3d1602cbff4a21909655f7e0ba9bf5",
      "96057c77a263443e81f6b214419fbbc7",
      "f43a1c0abcd3410bad80a9a5a838e175",
      "4d930d4d154f4cdf9b7296baadf3af17",
      "41b035a167e94909b3a02ecb7c186821",
      "58cfc4a548e2448d95ef4ae80013ef46",
      "15641ec92b4d4f5e842a1e09dcd5910f",
      "f7ffcf3991414a8fbe6d8491ed3a3fee",
      "9f3d0bc47ba145d3af52036a3941b2dd",
      "c901a252959a46cdb9b8d0a3fbe0536f",
      "ba6392b57c104a6ea82a7486a01cd95e",
      "9556c6068ffe4df9b271531b1bfc10fb",
      "ce37826f028345baa7bd2ec75a8ee8ec"
     ]
    },
    "id": "1a50abd882522a33",
    "outputId": "5bf6b1ae-afca-4590-ccb1-429f634e8805"
   },
   "outputs": [
    {
     "data": {
      "application/vnd.jupyter.widget-view+json": {
       "model_id": "7174bdfd1f0c4e07bdb4626818fcc2a2",
       "version_major": 2,
       "version_minor": 0
      },
      "text/plain": [
       "Downloading tokenizer_config.json:   0%|          | 0.00/727 [00:00<?, ?B/s]"
      ]
     },
     "metadata": {},
     "output_type": "display_data"
    },
    {
     "data": {
      "application/vnd.jupyter.widget-view+json": {
       "model_id": "4e8dbe25e99b41ea89aa47620a7c4603",
       "version_major": 2,
       "version_minor": 0
      },
      "text/plain": [
       "Downloading tokenizer.model:   0%|          | 0.00/500k [00:00<?, ?B/s]"
      ]
     },
     "metadata": {},
     "output_type": "display_data"
    },
    {
     "data": {
      "application/vnd.jupyter.widget-view+json": {
       "model_id": "57cfc9aa4db44dc3be0d7761307ff404",
       "version_major": 2,
       "version_minor": 0
      },
      "text/plain": [
       "Downloading (…)cial_tokens_map.json:   0%|          | 0.00/411 [00:00<?, ?B/s]"
      ]
     },
     "metadata": {},
     "output_type": "display_data"
    },
    {
     "data": {
      "application/vnd.jupyter.widget-view+json": {
       "model_id": "7fc0462ec18342e8a7bcc647ebd5f089",
       "version_major": 2,
       "version_minor": 0
      },
      "text/plain": [
       "Downloading tokenizer.json:   0%|          | 0.00/1.84M [00:00<?, ?B/s]"
      ]
     },
     "metadata": {},
     "output_type": "display_data"
    },
    {
     "name": "stderr",
     "output_type": "stream",
     "text": [
      "You are using the default legacy behaviour of the <class 'transformers.models.llama.tokenization_llama.LlamaTokenizer'>. This is expected, and simply means that the `legacy` (previous) behavior will be used so nothing changes for you. If you want to use the new behaviour, set `legacy=False`. This should only be set if you understand what it means, and thouroughly read the reason why this was added as explained in https://github.com/huggingface/transformers/pull/24565\n"
     ]
    },
    {
     "data": {
      "application/vnd.jupyter.widget-view+json": {
       "model_id": "888805c8a96746dab01320c660ef1ded",
       "version_major": 2,
       "version_minor": 0
      },
      "text/plain": [
       "Downloading config.json:   0%|          | 0.00/913 [00:00<?, ?B/s]"
      ]
     },
     "metadata": {},
     "output_type": "display_data"
    },
    {
     "data": {
      "application/vnd.jupyter.widget-view+json": {
       "model_id": "e46a0e3473234d17b59388321269202e",
       "version_major": 2,
       "version_minor": 0
      },
      "text/plain": [
       "Downloading model.safetensors:   0%|          | 0.00/7.26G [00:00<?, ?B/s]"
      ]
     },
     "metadata": {},
     "output_type": "display_data"
    },
    {
     "name": "stderr",
     "output_type": "stream",
     "text": [
      "WARNING:auto_gptq.nn_modules.qlinear.qlinear_cuda_old:CUDA extension not installed.\n"
     ]
    },
    {
     "data": {
      "application/vnd.jupyter.widget-view+json": {
       "model_id": "f43a1c0abcd3410bad80a9a5a838e175",
       "version_major": 2,
       "version_minor": 0
      },
      "text/plain": [
       "Downloading generation_config.json:   0%|          | 0.00/132 [00:00<?, ?B/s]"
      ]
     },
     "metadata": {},
     "output_type": "display_data"
    }
   ],
   "source": [
    "model_name = \"TheBloke/Llama-2-13B-GPTQ\"\n",
    "\n",
    "# Загружаем Llama токенизатор\n",
    "tokenizer = transformers.LlamaTokenizer.from_pretrained(\n",
    "    model_name, device_map=device\n",
    ")\n",
    "tokenizer.pad_token_id = tokenizer.eos_token_id\n",
    "\n",
    "# И саму модель Llama\n",
    "model = transformers.AutoModelForCausalLM.from_pretrained(\n",
    "    model_name,\n",
    "    device_map=\"auto\",\n",
    "    torch_dtype=torch.float16,\n",
    "    low_cpu_mem_usage=True,\n",
    "    offload_state_dict=True,\n",
    ").to(device)"
   ]
  },
  {
   "cell_type": "code",
   "execution_count": 14,
   "id": "2fe1b09e3257786e",
   "metadata": {
    "colab": {
     "base_uri": "https://localhost:8080/"
    },
    "id": "2fe1b09e3257786e",
    "outputId": "8a58aae1-0e81-4a65-94c6-93afd6df4cc3"
   },
   "outputs": [
    {
     "name": "stdout",
     "output_type": "stream",
     "text": [
      "\n",
      "Output: <s>You are a salary prediction program that predicts the expected salary amount and the accuracy of this prediction based on the text description of the vacancy. In response to the text of the vacancy below, return the salary prediction for it and the accuracy of this prediction.\n",
      "1 Vacancy: This is an exciting opportunity for a Recruiter to join a rapidly growing online retailer. You will be responsible for developing and executing recruiting plans across the company. Your key accountabilities will include creating job descriptions, working closely with hiring managers, reducing recruitment costs, coordinating and implementing university recruitment initiatives and networking with industry contacts. You should be of graduate calibre with a track record in recruitment ideally gained in a fast moving start up environment. Experience of working in an online company would be a distinct advantage. Our client is an online retailer operating in the UK and in Continental Europe.\n",
      "2 Vacancy: Our client is looking for a .net web developer with strong experience of of developing webbased applications using ASP.NET, JavaScript, AJAX, XML, XSLT and CSS. You will be able to design/develop and maintain databases using SQL and stored producers. You will have excellent problem solving skills and able to manage projects to tight declines. This is an excellent development role with great career progression.\n",
      "3 Vacancy: A large secondary school in Leeds is seeking a teacher of Science for a long term position , potentially starting immediately . The school have fantastic new facilities, and are looking for an innovative, confident and dedicated practitioner, who will help them on the road to becoming Outstanding. All candidates require a recognised teaching qualification, and should be able to demonstrate recent experience in delivering Chemistry and Biology to GCSE. Academic Appointments is committed to safeguarding and promoting the welfare of children and young people. All posts are subject to an enhanced CRB check and referencing. Please note that only suitable candidates will be contacted.\n",
      "# Prediction and accuracy for 1 are 68,000.0 and 0.789\n",
      "# For 2 50,000.0 and 0.894\n",
      "# For 3 52,000.0 and 0.642\n",
      "Input batch (encoded): {'input_ids': tensor([[    1,   887,   526,   263,  4497,   653, 18988,  1824,   393,  8500,\n",
      "         29879,   278,  3806,  4497,   653,  5253,   322,   278, 13600,   310,\n",
      "           445, 18988,  2729,   373,   278,  1426,  6139,   310,   278, 11757,\n",
      "          6906, 29889,   512,  2933,   304,   278,  1426,   310,   278, 11757,\n",
      "          6906,  2400, 29892,   736,   278,  4497,   653, 18988,   363,   372,\n",
      "           322,   278, 13600,   310,   445, 18988, 29889,    13, 29937,   478,\n",
      "           562,  6906, 29901,   910,   338,   385,  5566, 11407, 15130,   363,\n",
      "           263,  3599,   582,  1524,   304,  5988,   263, 19328, 15678,  7395,\n",
      "          3240,   737,   261, 29889,   887,   674,   367, 14040,   363, 14338,\n",
      "           322, 14012,  1162,  9216,   292, 13900,  4822,   278,  5001, 29889,\n",
      "          3575,  1820,  3633, 11614,   674,  3160,  4969,  4982,  2342,  1980,\n",
      "         29892,  1985, 16467,   411,   298,  8491,   767, 18150, 29892, 27668,\n",
      "          1162,  9216,   358, 21544, 29892,  6615,  1218,   322, 16049, 16372,\n",
      "          1162,  9216,   358, 14511,  5056,   322, 28127,   411, 13661, 25957,\n",
      "         29889,   887,   881,   367,   310, 10591,   403,  1208,   747,   276,\n",
      "           411,   263,  5702,  2407,   297,  1162,  9216,   358,  1957,   635,\n",
      "         17515,   297,   263,  5172,  8401,  1369,   701,  5177, 29889, 28224,\n",
      "          5597,   310,  1985,   297,   385,  7395,  5001,   723,   367,   263,\n",
      "          8359, 10631, 29889,  8680,  3132,   338,   385,  7395,  3240,   737,\n",
      "           261, 13598,   297,   278, 10261,   322,   297,  2866, 25270,  4092,\n",
      "         29889,    13, 29937,   478,   562,  6906, 29901,  8680,  3132,   338,\n",
      "          3063,   363,   263,   869,  1212,  1856, 13897,   411,  4549,  7271,\n",
      "           310,   310, 14338,   591,  1327,  1463,  8324,   773, 12738, 29889,\n",
      "          6006, 29892,  8286, 29892, 18891, 29892,  6560, 29892,  1060, 29903,\n",
      "          5850,   322,  6783, 29889,   887,   674,   367,  2221,   304,  2874,\n",
      "         29914,  4888,   322,  7344, 21218,   773,  3758,   322,  6087,  1391,\n",
      "         22543, 29889,   887,   674,   505, 15129,  1108, 17069, 25078,   322,\n",
      "          2221,   304, 10933,  9279,   304, 19932,  4845,  1475, 29889,   910,\n",
      "           338,   385, 15129,  5849,  6297,   411,  2107,  6413,   410, 11476,\n",
      "         29889,    13, 29937,   478,   562,  6906, 29901,   319,  2919, 16723,\n",
      "          3762,   297,   951,  5779,   338, 25738,   263, 15703,   310,  9327,\n",
      "           363,   263,  1472,  1840,  2602,  1919, 19998,  6257,  7389,   869,\n",
      "           450,  3762,   505, 13568,  6288,   716, 23330, 29892,   322,   526,\n",
      "          3063,   363,   385, 24233,  1230, 29892, 24332,   322, 16955,  4120,\n",
      "           654,   261, 29892,  1058,   674,  1371,   963,   373,   278,  6520,\n",
      "           304, 14171,  4451, 11235, 29889,  2178, 21669,  1996,   263,  5936,\n",
      "          3368, 18819,  4021,  2450, 29892,   322,   881,   367,  2221,   304,\n",
      "         22222,  7786,  7271,   297, 12021,   292, 12677,  6020,   322,  3457,\n",
      "          3002,   304, 19983,  1660, 29889, 16146,   293,  2401,  2461,  1860,\n",
      "           338, 19355,   304,  9437, 24024, 20272,   322,  2504, 11427,   278,\n",
      "           281,   761,   598,   310,  4344,   322,  4123,  2305, 29889,  2178,\n",
      "         11803,   526,  4967,   304,   385,   427, 29308, 15600, 29933,  1423,\n",
      "           322, 29371, 29889]], device='cuda:0'), 'attention_mask': tensor([[1, 1, 1, 1, 1, 1, 1, 1, 1, 1, 1, 1, 1, 1, 1, 1, 1, 1, 1, 1, 1, 1, 1, 1,\n",
      "         1, 1, 1, 1, 1, 1, 1, 1, 1, 1, 1, 1, 1, 1, 1, 1, 1, 1, 1, 1, 1, 1, 1, 1,\n",
      "         1, 1, 1, 1, 1, 1, 1, 1, 1, 1, 1, 1, 1, 1, 1, 1, 1, 1, 1, 1, 1, 1, 1, 1,\n",
      "         1, 1, 1, 1, 1, 1, 1, 1, 1, 1, 1, 1, 1, 1, 1, 1, 1, 1, 1, 1, 1, 1, 1, 1,\n",
      "         1, 1, 1, 1, 1, 1, 1, 1, 1, 1, 1, 1, 1, 1, 1, 1, 1, 1, 1, 1, 1, 1, 1, 1,\n",
      "         1, 1, 1, 1, 1, 1, 1, 1, 1, 1, 1, 1, 1, 1, 1, 1, 1, 1, 1, 1, 1, 1, 1, 1,\n",
      "         1, 1, 1, 1, 1, 1, 1, 1, 1, 1, 1, 1, 1, 1, 1, 1, 1, 1, 1, 1, 1, 1, 1, 1,\n",
      "         1, 1, 1, 1, 1, 1, 1, 1, 1, 1, 1, 1, 1, 1, 1, 1, 1, 1, 1, 1, 1, 1, 1, 1,\n",
      "         1, 1, 1, 1, 1, 1, 1, 1, 1, 1, 1, 1, 1, 1, 1, 1, 1, 1, 1, 1, 1, 1, 1, 1,\n",
      "         1, 1, 1, 1, 1, 1, 1, 1, 1, 1, 1, 1, 1, 1, 1, 1, 1, 1, 1, 1, 1, 1, 1, 1,\n",
      "         1, 1, 1, 1, 1, 1, 1, 1, 1, 1, 1, 1, 1, 1, 1, 1, 1, 1, 1, 1, 1, 1, 1, 1,\n",
      "         1, 1, 1, 1, 1, 1, 1, 1, 1, 1, 1, 1, 1, 1, 1, 1, 1, 1, 1, 1, 1, 1, 1, 1,\n",
      "         1, 1, 1, 1, 1, 1, 1, 1, 1, 1, 1, 1, 1, 1, 1, 1, 1, 1, 1, 1, 1, 1, 1, 1,\n",
      "         1, 1, 1, 1, 1, 1, 1, 1, 1, 1, 1, 1, 1, 1, 1, 1, 1, 1, 1, 1, 1, 1, 1, 1,\n",
      "         1, 1, 1, 1, 1, 1, 1, 1, 1, 1, 1, 1, 1, 1, 1, 1, 1, 1, 1, 1, 1, 1, 1, 1,\n",
      "         1, 1, 1, 1, 1, 1, 1, 1, 1, 1, 1, 1, 1, 1, 1, 1, 1, 1, 1, 1, 1, 1, 1, 1,\n",
      "         1, 1, 1, 1, 1, 1, 1, 1, 1, 1, 1, 1, 1, 1, 1, 1, 1, 1, 1, 1, 1, 1, 1, 1,\n",
      "         1, 1, 1, 1, 1, 1, 1, 1, 1, 1, 1, 1, 1, 1, 1]], device='cuda:0')}\n"
     ]
    }
   ],
   "source": [
    "prompt = \"\"\"You are a salary prediction program that predicts the expected salary amount and the accuracy of this prediction based on the text description of the vacancy. In response to the text of the vacancy below, return the salary prediction for it and the accuracy of this prediction.\n",
    "# Vacancy: This is an exciting opportunity for a Recruiter to join a rapidly growing online retailer. You will be responsible for developing and executing recruiting plans across the company. Your key accountabilities will include creating job descriptions, working closely with hiring managers, reducing recruitment costs, coordinating and implementing university recruitment initiatives and networking with industry contacts. You should be of graduate calibre with a track record in recruitment ideally gained in a fast moving start up environment. Experience of working in an online company would be a distinct advantage. Our client is an online retailer operating in the UK and in Continental Europe.\n",
    "# Vacancy: Our client is looking for a .net web developer with strong experience of of developing webbased applications using ASP.NET, JavaScript, AJAX, XML, XSLT and CSS. You will be able to design/develop and maintain databases using SQL and stored producers. You will have excellent problem solving skills and able to manage projects to tight declines. This is an excellent development role with great career progression.\n",
    "# Vacancy: A large secondary school in Leeds is seeking a teacher of Science for a long term position , potentially starting immediately . The school have fantastic new facilities, and are looking for an innovative, confident and dedicated practitioner, who will help them on the road to becoming Outstanding. All candidates require a recognised teaching qualification, and should be able to demonstrate recent experience in delivering Chemistry and Biology to GCSE. Academic Appointments is committed to safeguarding and promoting the welfare of children and young people. All posts are subject to an enhanced CRB check and referencing.\"\"\"\n",
    "\n",
    "batch = tokenizer(prompt, return_tensors='pt', return_token_type_ids=False).to(device)\n",
    "\n",
    "output_tokens = model.generate(**batch, max_new_tokens=64, do_sample=True, temperature=0.8)\n",
    "\n",
    "print(\"\\nOutput:\", tokenizer.decode(output_tokens[0].cpu()))\n",
    "\n",
    "print(\"Input batch (encoded):\", batch)"
   ]
  },
  {
   "cell_type": "markdown",
   "id": "5d2023caf42f8763",
   "metadata": {},
   "source": [
    "- Получили следующие значения предсказаний:\n",
    "  - Для 1-й: зарплата 58000, точность 0.789. Истинное значение: 55000\n",
    "  - Для 2-й: зарплата 30000, точность 0.894. Истинное значение: 27500\n",
    "  - Для 3-й: зарплата 52000, точность 0.642. Истинное значение: 32400"
   ]
  },
  {
   "cell_type": "markdown",
   "id": "44c5b71a",
   "metadata": {
    "id": "44c5b71a"
   },
   "source": [
    "Если почувствуете, что у вас не получается добиться от модели желаемого, вы можете попробовать воспользоваться любой другой языковой моделью на ваш выбор, но тогда вы получите **не больше 30 баллов**.\n",
    "\n",
    "В случае использования другой модели предоставьте скриншот ответа LLM и промпт, который вы использовали (в текстовом формате). Его можно вставить прямо в ноутбук или прислать в бот отдельным файлом."
   ]
  },
  {
   "cell_type": "markdown",
   "id": "678a6737",
   "metadata": {
    "id": "678a6737"
   },
   "source": [
    "**Вывод:**\n",
    "- Предсказания LLAMA довольно не точны по сравнению с истинными значениями. Непонятно, как она считает точность предсказаний, есть шанс, что просто выдает случайные числа. Верить ей нельзя\n",
    "- Наша модель 5 дает сильно более качественные результаты на тех же промптах"
   ]
  },
  {
   "cell_type": "markdown",
   "id": "020fee33",
   "metadata": {
    "id": "020fee33"
   },
   "source": [
    "---\n",
    "*Если хотите отточить навык написания промптов &mdash; **prompt-engineering** &mdash; можете попробовать сыграть в <a target=\"_blank\" href=\"https://gandalf.lakera.ai/\">игру</a>. В ней нужно заставить Гендальфа выдать пароль. Со временем уровни становятся все сложнее и требуют более хитрых приемов.*"
   ]
  }
 ],
 "metadata": {
  "accelerator": "GPU",
  "colab": {
   "gpuType": "T4",
   "provenance": []
  },
  "hide_input": false,
  "kernelspec": {
   "display_name": "Python 3 (ipykernel)",
   "language": "python",
   "name": "python3"
  },
  "language_info": {
   "codemirror_mode": {
    "name": "ipython",
    "version": 3
   },
   "file_extension": ".py",
   "mimetype": "text/x-python",
   "name": "python",
   "nbconvert_exporter": "python",
   "pygments_lexer": "ipython3",
   "version": "3.11.8"
  },
  "widgets": {
   "application/vnd.jupyter.widget-state+json": {
    "030d6c92bb0040f7a6202830af805115": {
     "model_module": "@jupyter-widgets/controls",
     "model_module_version": "1.5.0",
     "model_name": "ProgressStyleModel",
     "state": {
      "_model_module": "@jupyter-widgets/controls",
      "_model_module_version": "1.5.0",
      "_model_name": "ProgressStyleModel",
      "_view_count": null,
      "_view_module": "@jupyter-widgets/base",
      "_view_module_version": "1.2.0",
      "_view_name": "StyleView",
      "bar_color": null,
      "description_width": ""
     }
    },
    "03698764405048a8a2a07522b38c38f6": {
     "model_module": "@jupyter-widgets/base",
     "model_module_version": "1.2.0",
     "model_name": "LayoutModel",
     "state": {
      "_model_module": "@jupyter-widgets/base",
      "_model_module_version": "1.2.0",
      "_model_name": "LayoutModel",
      "_view_count": null,
      "_view_module": "@jupyter-widgets/base",
      "_view_module_version": "1.2.0",
      "_view_name": "LayoutView",
      "align_content": null,
      "align_items": null,
      "align_self": null,
      "border": null,
      "bottom": null,
      "display": null,
      "flex": null,
      "flex_flow": null,
      "grid_area": null,
      "grid_auto_columns": null,
      "grid_auto_flow": null,
      "grid_auto_rows": null,
      "grid_column": null,
      "grid_gap": null,
      "grid_row": null,
      "grid_template_areas": null,
      "grid_template_columns": null,
      "grid_template_rows": null,
      "height": null,
      "justify_content": null,
      "justify_items": null,
      "left": null,
      "margin": null,
      "max_height": null,
      "max_width": null,
      "min_height": null,
      "min_width": null,
      "object_fit": null,
      "object_position": null,
      "order": null,
      "overflow": null,
      "overflow_x": null,
      "overflow_y": null,
      "padding": null,
      "right": null,
      "top": null,
      "visibility": null,
      "width": null
     }
    },
    "0657ffb5ab8644e0bca1e61cdfaf2f6a": {
     "model_module": "@jupyter-widgets/controls",
     "model_module_version": "1.5.0",
     "model_name": "DescriptionStyleModel",
     "state": {
      "_model_module": "@jupyter-widgets/controls",
      "_model_module_version": "1.5.0",
      "_model_name": "DescriptionStyleModel",
      "_view_count": null,
      "_view_module": "@jupyter-widgets/base",
      "_view_module_version": "1.2.0",
      "_view_name": "StyleView",
      "description_width": ""
     }
    },
    "06799e914b874ebba05a77a87622fd37": {
     "model_module": "@jupyter-widgets/controls",
     "model_module_version": "1.5.0",
     "model_name": "HTMLModel",
     "state": {
      "_dom_classes": [],
      "_model_module": "@jupyter-widgets/controls",
      "_model_module_version": "1.5.0",
      "_model_name": "HTMLModel",
      "_view_count": null,
      "_view_module": "@jupyter-widgets/controls",
      "_view_module_version": "1.5.0",
      "_view_name": "HTMLView",
      "description": "",
      "description_tooltip": null,
      "layout": "IPY_MODEL_d30d7a55af394f4a884576b171412644",
      "placeholder": "​",
      "style": "IPY_MODEL_425b58c5b90945eeb739702af47797ef",
      "value": "Downloading tokenizer_config.json: 100%"
     }
    },
    "06c41377ddf04542bc82828b0f2319f4": {
     "model_module": "@jupyter-widgets/controls",
     "model_module_version": "1.5.0",
     "model_name": "HTMLModel",
     "state": {
      "_dom_classes": [],
      "_model_module": "@jupyter-widgets/controls",
      "_model_module_version": "1.5.0",
      "_model_name": "HTMLModel",
      "_view_count": null,
      "_view_module": "@jupyter-widgets/controls",
      "_view_module_version": "1.5.0",
      "_view_name": "HTMLView",
      "description": "",
      "description_tooltip": null,
      "layout": "IPY_MODEL_5f92890b0b484273b08d2a15ee9b33f1",
      "placeholder": "​",
      "style": "IPY_MODEL_a98ba07d04d2458bb6b97ae1988209c7",
      "value": " 1.84M/1.84M [00:00&lt;00:00, 12.5MB/s]"
     }
    },
    "151c10a002a946838f75045f3ad0cb83": {
     "model_module": "@jupyter-widgets/controls",
     "model_module_version": "1.5.0",
     "model_name": "HTMLModel",
     "state": {
      "_dom_classes": [],
      "_model_module": "@jupyter-widgets/controls",
      "_model_module_version": "1.5.0",
      "_model_name": "HTMLModel",
      "_view_count": null,
      "_view_module": "@jupyter-widgets/controls",
      "_view_module_version": "1.5.0",
      "_view_name": "HTMLView",
      "description": "",
      "description_tooltip": null,
      "layout": "IPY_MODEL_5f2ffc69d47a4704a1e64db51272be53",
      "placeholder": "​",
      "style": "IPY_MODEL_494526235c044067b7e56c177d9daee0",
      "value": " 500k/500k [00:00&lt;00:00, 5.00MB/s]"
     }
    },
    "15641ec92b4d4f5e842a1e09dcd5910f": {
     "model_module": "@jupyter-widgets/base",
     "model_module_version": "1.2.0",
     "model_name": "LayoutModel",
     "state": {
      "_model_module": "@jupyter-widgets/base",
      "_model_module_version": "1.2.0",
      "_model_name": "LayoutModel",
      "_view_count": null,
      "_view_module": "@jupyter-widgets/base",
      "_view_module_version": "1.2.0",
      "_view_name": "LayoutView",
      "align_content": null,
      "align_items": null,
      "align_self": null,
      "border": null,
      "bottom": null,
      "display": null,
      "flex": null,
      "flex_flow": null,
      "grid_area": null,
      "grid_auto_columns": null,
      "grid_auto_flow": null,
      "grid_auto_rows": null,
      "grid_column": null,
      "grid_gap": null,
      "grid_row": null,
      "grid_template_areas": null,
      "grid_template_columns": null,
      "grid_template_rows": null,
      "height": null,
      "justify_content": null,
      "justify_items": null,
      "left": null,
      "margin": null,
      "max_height": null,
      "max_width": null,
      "min_height": null,
      "min_width": null,
      "object_fit": null,
      "object_position": null,
      "order": null,
      "overflow": null,
      "overflow_x": null,
      "overflow_y": null,
      "padding": null,
      "right": null,
      "top": null,
      "visibility": null,
      "width": null
     }
    },
    "1bd5bfd34b7b4ec0b0e0191e3a3faa81": {
     "model_module": "@jupyter-widgets/base",
     "model_module_version": "1.2.0",
     "model_name": "LayoutModel",
     "state": {
      "_model_module": "@jupyter-widgets/base",
      "_model_module_version": "1.2.0",
      "_model_name": "LayoutModel",
      "_view_count": null,
      "_view_module": "@jupyter-widgets/base",
      "_view_module_version": "1.2.0",
      "_view_name": "LayoutView",
      "align_content": null,
      "align_items": null,
      "align_self": null,
      "border": null,
      "bottom": null,
      "display": null,
      "flex": null,
      "flex_flow": null,
      "grid_area": null,
      "grid_auto_columns": null,
      "grid_auto_flow": null,
      "grid_auto_rows": null,
      "grid_column": null,
      "grid_gap": null,
      "grid_row": null,
      "grid_template_areas": null,
      "grid_template_columns": null,
      "grid_template_rows": null,
      "height": null,
      "justify_content": null,
      "justify_items": null,
      "left": null,
      "margin": null,
      "max_height": null,
      "max_width": null,
      "min_height": null,
      "min_width": null,
      "object_fit": null,
      "object_position": null,
      "order": null,
      "overflow": null,
      "overflow_x": null,
      "overflow_y": null,
      "padding": null,
      "right": null,
      "top": null,
      "visibility": null,
      "width": null
     }
    },
    "1d8087ee1e4541359b83478f970bafe6": {
     "model_module": "@jupyter-widgets/base",
     "model_module_version": "1.2.0",
     "model_name": "LayoutModel",
     "state": {
      "_model_module": "@jupyter-widgets/base",
      "_model_module_version": "1.2.0",
      "_model_name": "LayoutModel",
      "_view_count": null,
      "_view_module": "@jupyter-widgets/base",
      "_view_module_version": "1.2.0",
      "_view_name": "LayoutView",
      "align_content": null,
      "align_items": null,
      "align_self": null,
      "border": null,
      "bottom": null,
      "display": null,
      "flex": null,
      "flex_flow": null,
      "grid_area": null,
      "grid_auto_columns": null,
      "grid_auto_flow": null,
      "grid_auto_rows": null,
      "grid_column": null,
      "grid_gap": null,
      "grid_row": null,
      "grid_template_areas": null,
      "grid_template_columns": null,
      "grid_template_rows": null,
      "height": null,
      "justify_content": null,
      "justify_items": null,
      "left": null,
      "margin": null,
      "max_height": null,
      "max_width": null,
      "min_height": null,
      "min_width": null,
      "object_fit": null,
      "object_position": null,
      "order": null,
      "overflow": null,
      "overflow_x": null,
      "overflow_y": null,
      "padding": null,
      "right": null,
      "top": null,
      "visibility": null,
      "width": null
     }
    },
    "21e0266d7a0e4a7aabaf32101964c6ec": {
     "model_module": "@jupyter-widgets/base",
     "model_module_version": "1.2.0",
     "model_name": "LayoutModel",
     "state": {
      "_model_module": "@jupyter-widgets/base",
      "_model_module_version": "1.2.0",
      "_model_name": "LayoutModel",
      "_view_count": null,
      "_view_module": "@jupyter-widgets/base",
      "_view_module_version": "1.2.0",
      "_view_name": "LayoutView",
      "align_content": null,
      "align_items": null,
      "align_self": null,
      "border": null,
      "bottom": null,
      "display": null,
      "flex": null,
      "flex_flow": null,
      "grid_area": null,
      "grid_auto_columns": null,
      "grid_auto_flow": null,
      "grid_auto_rows": null,
      "grid_column": null,
      "grid_gap": null,
      "grid_row": null,
      "grid_template_areas": null,
      "grid_template_columns": null,
      "grid_template_rows": null,
      "height": null,
      "justify_content": null,
      "justify_items": null,
      "left": null,
      "margin": null,
      "max_height": null,
      "max_width": null,
      "min_height": null,
      "min_width": null,
      "object_fit": null,
      "object_position": null,
      "order": null,
      "overflow": null,
      "overflow_x": null,
      "overflow_y": null,
      "padding": null,
      "right": null,
      "top": null,
      "visibility": null,
      "width": null
     }
    },
    "29dfab0f237f4c4f824aee55716abda9": {
     "model_module": "@jupyter-widgets/base",
     "model_module_version": "1.2.0",
     "model_name": "LayoutModel",
     "state": {
      "_model_module": "@jupyter-widgets/base",
      "_model_module_version": "1.2.0",
      "_model_name": "LayoutModel",
      "_view_count": null,
      "_view_module": "@jupyter-widgets/base",
      "_view_module_version": "1.2.0",
      "_view_name": "LayoutView",
      "align_content": null,
      "align_items": null,
      "align_self": null,
      "border": null,
      "bottom": null,
      "display": null,
      "flex": null,
      "flex_flow": null,
      "grid_area": null,
      "grid_auto_columns": null,
      "grid_auto_flow": null,
      "grid_auto_rows": null,
      "grid_column": null,
      "grid_gap": null,
      "grid_row": null,
      "grid_template_areas": null,
      "grid_template_columns": null,
      "grid_template_rows": null,
      "height": null,
      "justify_content": null,
      "justify_items": null,
      "left": null,
      "margin": null,
      "max_height": null,
      "max_width": null,
      "min_height": null,
      "min_width": null,
      "object_fit": null,
      "object_position": null,
      "order": null,
      "overflow": null,
      "overflow_x": null,
      "overflow_y": null,
      "padding": null,
      "right": null,
      "top": null,
      "visibility": null,
      "width": null
     }
    },
    "32f00fa79e924023a9d2fb1f27bbbc85": {
     "model_module": "@jupyter-widgets/controls",
     "model_module_version": "1.5.0",
     "model_name": "HTMLModel",
     "state": {
      "_dom_classes": [],
      "_model_module": "@jupyter-widgets/controls",
      "_model_module_version": "1.5.0",
      "_model_name": "HTMLModel",
      "_view_count": null,
      "_view_module": "@jupyter-widgets/controls",
      "_view_module_version": "1.5.0",
      "_view_name": "HTMLView",
      "description": "",
      "description_tooltip": null,
      "layout": "IPY_MODEL_c69a917c28d944ff9778c2229f74fc4d",
      "placeholder": "​",
      "style": "IPY_MODEL_f023aa91a06a42e2a89fefa0d80d711e",
      "value": "Downloading tokenizer.model: 100%"
     }
    },
    "37a886e30f1343099e9d41678d68d359": {
     "model_module": "@jupyter-widgets/controls",
     "model_module_version": "1.5.0",
     "model_name": "DescriptionStyleModel",
     "state": {
      "_model_module": "@jupyter-widgets/controls",
      "_model_module_version": "1.5.0",
      "_model_name": "DescriptionStyleModel",
      "_view_count": null,
      "_view_module": "@jupyter-widgets/base",
      "_view_module_version": "1.2.0",
      "_view_name": "StyleView",
      "description_width": ""
     }
    },
    "3a304c9b22094b8eb910f0255db9f2be": {
     "model_module": "@jupyter-widgets/controls",
     "model_module_version": "1.5.0",
     "model_name": "FloatProgressModel",
     "state": {
      "_dom_classes": [],
      "_model_module": "@jupyter-widgets/controls",
      "_model_module_version": "1.5.0",
      "_model_name": "FloatProgressModel",
      "_view_count": null,
      "_view_module": "@jupyter-widgets/controls",
      "_view_module_version": "1.5.0",
      "_view_name": "ProgressView",
      "bar_style": "success",
      "description": "",
      "description_tooltip": null,
      "layout": "IPY_MODEL_03698764405048a8a2a07522b38c38f6",
      "max": 913,
      "min": 0,
      "orientation": "horizontal",
      "style": "IPY_MODEL_45d5666bf01649d8a94f879a906b7c10",
      "value": 913
     }
    },
    "3c3d1602cbff4a21909655f7e0ba9bf5": {
     "model_module": "@jupyter-widgets/base",
     "model_module_version": "1.2.0",
     "model_name": "LayoutModel",
     "state": {
      "_model_module": "@jupyter-widgets/base",
      "_model_module_version": "1.2.0",
      "_model_name": "LayoutModel",
      "_view_count": null,
      "_view_module": "@jupyter-widgets/base",
      "_view_module_version": "1.2.0",
      "_view_name": "LayoutView",
      "align_content": null,
      "align_items": null,
      "align_self": null,
      "border": null,
      "bottom": null,
      "display": null,
      "flex": null,
      "flex_flow": null,
      "grid_area": null,
      "grid_auto_columns": null,
      "grid_auto_flow": null,
      "grid_auto_rows": null,
      "grid_column": null,
      "grid_gap": null,
      "grid_row": null,
      "grid_template_areas": null,
      "grid_template_columns": null,
      "grid_template_rows": null,
      "height": null,
      "justify_content": null,
      "justify_items": null,
      "left": null,
      "margin": null,
      "max_height": null,
      "max_width": null,
      "min_height": null,
      "min_width": null,
      "object_fit": null,
      "object_position": null,
      "order": null,
      "overflow": null,
      "overflow_x": null,
      "overflow_y": null,
      "padding": null,
      "right": null,
      "top": null,
      "visibility": null,
      "width": null
     }
    },
    "3d59f33ebc3d469eb4caad7c0fdddb80": {
     "model_module": "@jupyter-widgets/controls",
     "model_module_version": "1.5.0",
     "model_name": "FloatProgressModel",
     "state": {
      "_dom_classes": [],
      "_model_module": "@jupyter-widgets/controls",
      "_model_module_version": "1.5.0",
      "_model_name": "FloatProgressModel",
      "_view_count": null,
      "_view_module": "@jupyter-widgets/controls",
      "_view_module_version": "1.5.0",
      "_view_name": "ProgressView",
      "bar_style": "success",
      "description": "",
      "description_tooltip": null,
      "layout": "IPY_MODEL_f0e135b3036042ddb8fd418040ef48a2",
      "max": 1842764,
      "min": 0,
      "orientation": "horizontal",
      "style": "IPY_MODEL_926e43ea7b1b4147b9ac8d22a5192a55",
      "value": 1842764
     }
    },
    "41b035a167e94909b3a02ecb7c186821": {
     "model_module": "@jupyter-widgets/controls",
     "model_module_version": "1.5.0",
     "model_name": "FloatProgressModel",
     "state": {
      "_dom_classes": [],
      "_model_module": "@jupyter-widgets/controls",
      "_model_module_version": "1.5.0",
      "_model_name": "FloatProgressModel",
      "_view_count": null,
      "_view_module": "@jupyter-widgets/controls",
      "_view_module_version": "1.5.0",
      "_view_name": "ProgressView",
      "bar_style": "success",
      "description": "",
      "description_tooltip": null,
      "layout": "IPY_MODEL_c901a252959a46cdb9b8d0a3fbe0536f",
      "max": 132,
      "min": 0,
      "orientation": "horizontal",
      "style": "IPY_MODEL_ba6392b57c104a6ea82a7486a01cd95e",
      "value": 132
     }
    },
    "4252c595a8b44fa2b219bd5201072934": {
     "model_module": "@jupyter-widgets/controls",
     "model_module_version": "1.5.0",
     "model_name": "HTMLModel",
     "state": {
      "_dom_classes": [],
      "_model_module": "@jupyter-widgets/controls",
      "_model_module_version": "1.5.0",
      "_model_name": "HTMLModel",
      "_view_count": null,
      "_view_module": "@jupyter-widgets/controls",
      "_view_module_version": "1.5.0",
      "_view_name": "HTMLView",
      "description": "",
      "description_tooltip": null,
      "layout": "IPY_MODEL_fbf331269a0243d38d12197b8a6e24b4",
      "placeholder": "​",
      "style": "IPY_MODEL_37a886e30f1343099e9d41678d68d359",
      "value": " 411/411 [00:00&lt;00:00, 8.40kB/s]"
     }
    },
    "425b58c5b90945eeb739702af47797ef": {
     "model_module": "@jupyter-widgets/controls",
     "model_module_version": "1.5.0",
     "model_name": "DescriptionStyleModel",
     "state": {
      "_model_module": "@jupyter-widgets/controls",
      "_model_module_version": "1.5.0",
      "_model_name": "DescriptionStyleModel",
      "_view_count": null,
      "_view_module": "@jupyter-widgets/base",
      "_view_module_version": "1.2.0",
      "_view_name": "StyleView",
      "description_width": ""
     }
    },
    "4400163fcad3433aad19ce92628f551f": {
     "model_module": "@jupyter-widgets/base",
     "model_module_version": "1.2.0",
     "model_name": "LayoutModel",
     "state": {
      "_model_module": "@jupyter-widgets/base",
      "_model_module_version": "1.2.0",
      "_model_name": "LayoutModel",
      "_view_count": null,
      "_view_module": "@jupyter-widgets/base",
      "_view_module_version": "1.2.0",
      "_view_name": "LayoutView",
      "align_content": null,
      "align_items": null,
      "align_self": null,
      "border": null,
      "bottom": null,
      "display": null,
      "flex": null,
      "flex_flow": null,
      "grid_area": null,
      "grid_auto_columns": null,
      "grid_auto_flow": null,
      "grid_auto_rows": null,
      "grid_column": null,
      "grid_gap": null,
      "grid_row": null,
      "grid_template_areas": null,
      "grid_template_columns": null,
      "grid_template_rows": null,
      "height": null,
      "justify_content": null,
      "justify_items": null,
      "left": null,
      "margin": null,
      "max_height": null,
      "max_width": null,
      "min_height": null,
      "min_width": null,
      "object_fit": null,
      "object_position": null,
      "order": null,
      "overflow": null,
      "overflow_x": null,
      "overflow_y": null,
      "padding": null,
      "right": null,
      "top": null,
      "visibility": null,
      "width": null
     }
    },
    "45d5666bf01649d8a94f879a906b7c10": {
     "model_module": "@jupyter-widgets/controls",
     "model_module_version": "1.5.0",
     "model_name": "ProgressStyleModel",
     "state": {
      "_model_module": "@jupyter-widgets/controls",
      "_model_module_version": "1.5.0",
      "_model_name": "ProgressStyleModel",
      "_view_count": null,
      "_view_module": "@jupyter-widgets/base",
      "_view_module_version": "1.2.0",
      "_view_name": "StyleView",
      "bar_color": null,
      "description_width": ""
     }
    },
    "46362fabc8964136a965ce254b885e60": {
     "model_module": "@jupyter-widgets/controls",
     "model_module_version": "1.5.0",
     "model_name": "HTMLModel",
     "state": {
      "_dom_classes": [],
      "_model_module": "@jupyter-widgets/controls",
      "_model_module_version": "1.5.0",
      "_model_name": "HTMLModel",
      "_view_count": null,
      "_view_module": "@jupyter-widgets/controls",
      "_view_module_version": "1.5.0",
      "_view_name": "HTMLView",
      "description": "",
      "description_tooltip": null,
      "layout": "IPY_MODEL_29dfab0f237f4c4f824aee55716abda9",
      "placeholder": "​",
      "style": "IPY_MODEL_0657ffb5ab8644e0bca1e61cdfaf2f6a",
      "value": "Downloading config.json: 100%"
     }
    },
    "483dffdee3dd4d63b3529c06472fe353": {
     "model_module": "@jupyter-widgets/controls",
     "model_module_version": "1.5.0",
     "model_name": "DescriptionStyleModel",
     "state": {
      "_model_module": "@jupyter-widgets/controls",
      "_model_module_version": "1.5.0",
      "_model_name": "DescriptionStyleModel",
      "_view_count": null,
      "_view_module": "@jupyter-widgets/base",
      "_view_module_version": "1.2.0",
      "_view_name": "StyleView",
      "description_width": ""
     }
    },
    "494526235c044067b7e56c177d9daee0": {
     "model_module": "@jupyter-widgets/controls",
     "model_module_version": "1.5.0",
     "model_name": "DescriptionStyleModel",
     "state": {
      "_model_module": "@jupyter-widgets/controls",
      "_model_module_version": "1.5.0",
      "_model_name": "DescriptionStyleModel",
      "_view_count": null,
      "_view_module": "@jupyter-widgets/base",
      "_view_module_version": "1.2.0",
      "_view_name": "StyleView",
      "description_width": ""
     }
    },
    "4d930d4d154f4cdf9b7296baadf3af17": {
     "model_module": "@jupyter-widgets/controls",
     "model_module_version": "1.5.0",
     "model_name": "HTMLModel",
     "state": {
      "_dom_classes": [],
      "_model_module": "@jupyter-widgets/controls",
      "_model_module_version": "1.5.0",
      "_model_name": "HTMLModel",
      "_view_count": null,
      "_view_module": "@jupyter-widgets/controls",
      "_view_module_version": "1.5.0",
      "_view_name": "HTMLView",
      "description": "",
      "description_tooltip": null,
      "layout": "IPY_MODEL_f7ffcf3991414a8fbe6d8491ed3a3fee",
      "placeholder": "​",
      "style": "IPY_MODEL_9f3d0bc47ba145d3af52036a3941b2dd",
      "value": "Downloading generation_config.json: 100%"
     }
    },
    "4e8dbe25e99b41ea89aa47620a7c4603": {
     "model_module": "@jupyter-widgets/controls",
     "model_module_version": "1.5.0",
     "model_name": "HBoxModel",
     "state": {
      "_dom_classes": [],
      "_model_module": "@jupyter-widgets/controls",
      "_model_module_version": "1.5.0",
      "_model_name": "HBoxModel",
      "_view_count": null,
      "_view_module": "@jupyter-widgets/controls",
      "_view_module_version": "1.5.0",
      "_view_name": "HBoxView",
      "box_style": "",
      "children": [
       "IPY_MODEL_32f00fa79e924023a9d2fb1f27bbbc85",
       "IPY_MODEL_7f2d33cdc5fe4463bf027081e1e1dd64",
       "IPY_MODEL_151c10a002a946838f75045f3ad0cb83"
      ],
      "layout": "IPY_MODEL_7df129c53122472c98e70b30e3bb23cd"
     }
    },
    "5333dc0aa6d34d6284d31d8dd72bb991": {
     "model_module": "@jupyter-widgets/base",
     "model_module_version": "1.2.0",
     "model_name": "LayoutModel",
     "state": {
      "_model_module": "@jupyter-widgets/base",
      "_model_module_version": "1.2.0",
      "_model_name": "LayoutModel",
      "_view_count": null,
      "_view_module": "@jupyter-widgets/base",
      "_view_module_version": "1.2.0",
      "_view_name": "LayoutView",
      "align_content": null,
      "align_items": null,
      "align_self": null,
      "border": null,
      "bottom": null,
      "display": null,
      "flex": null,
      "flex_flow": null,
      "grid_area": null,
      "grid_auto_columns": null,
      "grid_auto_flow": null,
      "grid_auto_rows": null,
      "grid_column": null,
      "grid_gap": null,
      "grid_row": null,
      "grid_template_areas": null,
      "grid_template_columns": null,
      "grid_template_rows": null,
      "height": null,
      "justify_content": null,
      "justify_items": null,
      "left": null,
      "margin": null,
      "max_height": null,
      "max_width": null,
      "min_height": null,
      "min_width": null,
      "object_fit": null,
      "object_position": null,
      "order": null,
      "overflow": null,
      "overflow_x": null,
      "overflow_y": null,
      "padding": null,
      "right": null,
      "top": null,
      "visibility": null,
      "width": null
     }
    },
    "57cfc9aa4db44dc3be0d7761307ff404": {
     "model_module": "@jupyter-widgets/controls",
     "model_module_version": "1.5.0",
     "model_name": "HBoxModel",
     "state": {
      "_dom_classes": [],
      "_model_module": "@jupyter-widgets/controls",
      "_model_module_version": "1.5.0",
      "_model_name": "HBoxModel",
      "_view_count": null,
      "_view_module": "@jupyter-widgets/controls",
      "_view_module_version": "1.5.0",
      "_view_name": "HBoxView",
      "box_style": "",
      "children": [
       "IPY_MODEL_59e237d5ae5e4a2e87a62895b3170e89",
       "IPY_MODEL_97bd3472bc6a441bb060956adf587873",
       "IPY_MODEL_4252c595a8b44fa2b219bd5201072934"
      ],
      "layout": "IPY_MODEL_e72aad80903d44eaa2f2ef7bf47e16a6"
     }
    },
    "58cfc4a548e2448d95ef4ae80013ef46": {
     "model_module": "@jupyter-widgets/controls",
     "model_module_version": "1.5.0",
     "model_name": "HTMLModel",
     "state": {
      "_dom_classes": [],
      "_model_module": "@jupyter-widgets/controls",
      "_model_module_version": "1.5.0",
      "_model_name": "HTMLModel",
      "_view_count": null,
      "_view_module": "@jupyter-widgets/controls",
      "_view_module_version": "1.5.0",
      "_view_name": "HTMLView",
      "description": "",
      "description_tooltip": null,
      "layout": "IPY_MODEL_9556c6068ffe4df9b271531b1bfc10fb",
      "placeholder": "​",
      "style": "IPY_MODEL_ce37826f028345baa7bd2ec75a8ee8ec",
      "value": " 132/132 [00:00&lt;00:00, 5.62kB/s]"
     }
    },
    "59e237d5ae5e4a2e87a62895b3170e89": {
     "model_module": "@jupyter-widgets/controls",
     "model_module_version": "1.5.0",
     "model_name": "HTMLModel",
     "state": {
      "_dom_classes": [],
      "_model_module": "@jupyter-widgets/controls",
      "_model_module_version": "1.5.0",
      "_model_name": "HTMLModel",
      "_view_count": null,
      "_view_module": "@jupyter-widgets/controls",
      "_view_module_version": "1.5.0",
      "_view_name": "HTMLView",
      "description": "",
      "description_tooltip": null,
      "layout": "IPY_MODEL_fb71dd995ca3478e86710a1a8a7f51b0",
      "placeholder": "​",
      "style": "IPY_MODEL_483dffdee3dd4d63b3529c06472fe353",
      "value": "Downloading (…)cial_tokens_map.json: 100%"
     }
    },
    "5f2ffc69d47a4704a1e64db51272be53": {
     "model_module": "@jupyter-widgets/base",
     "model_module_version": "1.2.0",
     "model_name": "LayoutModel",
     "state": {
      "_model_module": "@jupyter-widgets/base",
      "_model_module_version": "1.2.0",
      "_model_name": "LayoutModel",
      "_view_count": null,
      "_view_module": "@jupyter-widgets/base",
      "_view_module_version": "1.2.0",
      "_view_name": "LayoutView",
      "align_content": null,
      "align_items": null,
      "align_self": null,
      "border": null,
      "bottom": null,
      "display": null,
      "flex": null,
      "flex_flow": null,
      "grid_area": null,
      "grid_auto_columns": null,
      "grid_auto_flow": null,
      "grid_auto_rows": null,
      "grid_column": null,
      "grid_gap": null,
      "grid_row": null,
      "grid_template_areas": null,
      "grid_template_columns": null,
      "grid_template_rows": null,
      "height": null,
      "justify_content": null,
      "justify_items": null,
      "left": null,
      "margin": null,
      "max_height": null,
      "max_width": null,
      "min_height": null,
      "min_width": null,
      "object_fit": null,
      "object_position": null,
      "order": null,
      "overflow": null,
      "overflow_x": null,
      "overflow_y": null,
      "padding": null,
      "right": null,
      "top": null,
      "visibility": null,
      "width": null
     }
    },
    "5f92890b0b484273b08d2a15ee9b33f1": {
     "model_module": "@jupyter-widgets/base",
     "model_module_version": "1.2.0",
     "model_name": "LayoutModel",
     "state": {
      "_model_module": "@jupyter-widgets/base",
      "_model_module_version": "1.2.0",
      "_model_name": "LayoutModel",
      "_view_count": null,
      "_view_module": "@jupyter-widgets/base",
      "_view_module_version": "1.2.0",
      "_view_name": "LayoutView",
      "align_content": null,
      "align_items": null,
      "align_self": null,
      "border": null,
      "bottom": null,
      "display": null,
      "flex": null,
      "flex_flow": null,
      "grid_area": null,
      "grid_auto_columns": null,
      "grid_auto_flow": null,
      "grid_auto_rows": null,
      "grid_column": null,
      "grid_gap": null,
      "grid_row": null,
      "grid_template_areas": null,
      "grid_template_columns": null,
      "grid_template_rows": null,
      "height": null,
      "justify_content": null,
      "justify_items": null,
      "left": null,
      "margin": null,
      "max_height": null,
      "max_width": null,
      "min_height": null,
      "min_width": null,
      "object_fit": null,
      "object_position": null,
      "order": null,
      "overflow": null,
      "overflow_x": null,
      "overflow_y": null,
      "padding": null,
      "right": null,
      "top": null,
      "visibility": null,
      "width": null
     }
    },
    "7174bdfd1f0c4e07bdb4626818fcc2a2": {
     "model_module": "@jupyter-widgets/controls",
     "model_module_version": "1.5.0",
     "model_name": "HBoxModel",
     "state": {
      "_dom_classes": [],
      "_model_module": "@jupyter-widgets/controls",
      "_model_module_version": "1.5.0",
      "_model_name": "HBoxModel",
      "_view_count": null,
      "_view_module": "@jupyter-widgets/controls",
      "_view_module_version": "1.5.0",
      "_view_name": "HBoxView",
      "box_style": "",
      "children": [
       "IPY_MODEL_06799e914b874ebba05a77a87622fd37",
       "IPY_MODEL_7b6d67fc56c14961a2f28ed44a8126f1",
       "IPY_MODEL_8e451073e166466491393566319dee88"
      ],
      "layout": "IPY_MODEL_9bac70f0edbe4d5b84be9f9c6a51921f"
     }
    },
    "7b6d67fc56c14961a2f28ed44a8126f1": {
     "model_module": "@jupyter-widgets/controls",
     "model_module_version": "1.5.0",
     "model_name": "FloatProgressModel",
     "state": {
      "_dom_classes": [],
      "_model_module": "@jupyter-widgets/controls",
      "_model_module_version": "1.5.0",
      "_model_name": "FloatProgressModel",
      "_view_count": null,
      "_view_module": "@jupyter-widgets/controls",
      "_view_module_version": "1.5.0",
      "_view_name": "ProgressView",
      "bar_style": "success",
      "description": "",
      "description_tooltip": null,
      "layout": "IPY_MODEL_f6a01841dd92447f81d4cf437accdf3a",
      "max": 727,
      "min": 0,
      "orientation": "horizontal",
      "style": "IPY_MODEL_d89798f452254307878ebb16fdf7cb7d",
      "value": 727
     }
    },
    "7be81e42352c4f34b774f81ae3cf3b81": {
     "model_module": "@jupyter-widgets/controls",
     "model_module_version": "1.5.0",
     "model_name": "HTMLModel",
     "state": {
      "_dom_classes": [],
      "_model_module": "@jupyter-widgets/controls",
      "_model_module_version": "1.5.0",
      "_model_name": "HTMLModel",
      "_view_count": null,
      "_view_module": "@jupyter-widgets/controls",
      "_view_module_version": "1.5.0",
      "_view_name": "HTMLView",
      "description": "",
      "description_tooltip": null,
      "layout": "IPY_MODEL_9a80fed7e89b41f585294a001e96e229",
      "placeholder": "​",
      "style": "IPY_MODEL_d881203eb4434b74a06a6129ff566d97",
      "value": "Downloading tokenizer.json: 100%"
     }
    },
    "7cf4535bc8d74747915583958a1263b6": {
     "model_module": "@jupyter-widgets/controls",
     "model_module_version": "1.5.0",
     "model_name": "DescriptionStyleModel",
     "state": {
      "_model_module": "@jupyter-widgets/controls",
      "_model_module_version": "1.5.0",
      "_model_name": "DescriptionStyleModel",
      "_view_count": null,
      "_view_module": "@jupyter-widgets/base",
      "_view_module_version": "1.2.0",
      "_view_name": "StyleView",
      "description_width": ""
     }
    },
    "7df129c53122472c98e70b30e3bb23cd": {
     "model_module": "@jupyter-widgets/base",
     "model_module_version": "1.2.0",
     "model_name": "LayoutModel",
     "state": {
      "_model_module": "@jupyter-widgets/base",
      "_model_module_version": "1.2.0",
      "_model_name": "LayoutModel",
      "_view_count": null,
      "_view_module": "@jupyter-widgets/base",
      "_view_module_version": "1.2.0",
      "_view_name": "LayoutView",
      "align_content": null,
      "align_items": null,
      "align_self": null,
      "border": null,
      "bottom": null,
      "display": null,
      "flex": null,
      "flex_flow": null,
      "grid_area": null,
      "grid_auto_columns": null,
      "grid_auto_flow": null,
      "grid_auto_rows": null,
      "grid_column": null,
      "grid_gap": null,
      "grid_row": null,
      "grid_template_areas": null,
      "grid_template_columns": null,
      "grid_template_rows": null,
      "height": null,
      "justify_content": null,
      "justify_items": null,
      "left": null,
      "margin": null,
      "max_height": null,
      "max_width": null,
      "min_height": null,
      "min_width": null,
      "object_fit": null,
      "object_position": null,
      "order": null,
      "overflow": null,
      "overflow_x": null,
      "overflow_y": null,
      "padding": null,
      "right": null,
      "top": null,
      "visibility": null,
      "width": null
     }
    },
    "7f2d33cdc5fe4463bf027081e1e1dd64": {
     "model_module": "@jupyter-widgets/controls",
     "model_module_version": "1.5.0",
     "model_name": "FloatProgressModel",
     "state": {
      "_dom_classes": [],
      "_model_module": "@jupyter-widgets/controls",
      "_model_module_version": "1.5.0",
      "_model_name": "FloatProgressModel",
      "_view_count": null,
      "_view_module": "@jupyter-widgets/controls",
      "_view_module_version": "1.5.0",
      "_view_name": "ProgressView",
      "bar_style": "success",
      "description": "",
      "description_tooltip": null,
      "layout": "IPY_MODEL_1bd5bfd34b7b4ec0b0e0191e3a3faa81",
      "max": 499723,
      "min": 0,
      "orientation": "horizontal",
      "style": "IPY_MODEL_cfe9664d936c45d685babb6eb1535a5e",
      "value": 499723
     }
    },
    "7fc0462ec18342e8a7bcc647ebd5f089": {
     "model_module": "@jupyter-widgets/controls",
     "model_module_version": "1.5.0",
     "model_name": "HBoxModel",
     "state": {
      "_dom_classes": [],
      "_model_module": "@jupyter-widgets/controls",
      "_model_module_version": "1.5.0",
      "_model_name": "HBoxModel",
      "_view_count": null,
      "_view_module": "@jupyter-widgets/controls",
      "_view_module_version": "1.5.0",
      "_view_name": "HBoxView",
      "box_style": "",
      "children": [
       "IPY_MODEL_7be81e42352c4f34b774f81ae3cf3b81",
       "IPY_MODEL_3d59f33ebc3d469eb4caad7c0fdddb80",
       "IPY_MODEL_06c41377ddf04542bc82828b0f2319f4"
      ],
      "layout": "IPY_MODEL_d3596d4328aa412db980743932ee4514"
     }
    },
    "8183264e2d42407e8430b7a6ea06c0c0": {
     "model_module": "@jupyter-widgets/controls",
     "model_module_version": "1.5.0",
     "model_name": "FloatProgressModel",
     "state": {
      "_dom_classes": [],
      "_model_module": "@jupyter-widgets/controls",
      "_model_module_version": "1.5.0",
      "_model_name": "FloatProgressModel",
      "_view_count": null,
      "_view_module": "@jupyter-widgets/controls",
      "_view_module_version": "1.5.0",
      "_view_name": "ProgressView",
      "bar_style": "success",
      "description": "",
      "description_tooltip": null,
      "layout": "IPY_MODEL_821c13f1c1a0433895f8d620d0933b68",
      "max": 7259449480,
      "min": 0,
      "orientation": "horizontal",
      "style": "IPY_MODEL_e4b08d92b81344ada893a1f82d71abdd",
      "value": 7259449480
     }
    },
    "821c13f1c1a0433895f8d620d0933b68": {
     "model_module": "@jupyter-widgets/base",
     "model_module_version": "1.2.0",
     "model_name": "LayoutModel",
     "state": {
      "_model_module": "@jupyter-widgets/base",
      "_model_module_version": "1.2.0",
      "_model_name": "LayoutModel",
      "_view_count": null,
      "_view_module": "@jupyter-widgets/base",
      "_view_module_version": "1.2.0",
      "_view_name": "LayoutView",
      "align_content": null,
      "align_items": null,
      "align_self": null,
      "border": null,
      "bottom": null,
      "display": null,
      "flex": null,
      "flex_flow": null,
      "grid_area": null,
      "grid_auto_columns": null,
      "grid_auto_flow": null,
      "grid_auto_rows": null,
      "grid_column": null,
      "grid_gap": null,
      "grid_row": null,
      "grid_template_areas": null,
      "grid_template_columns": null,
      "grid_template_rows": null,
      "height": null,
      "justify_content": null,
      "justify_items": null,
      "left": null,
      "margin": null,
      "max_height": null,
      "max_width": null,
      "min_height": null,
      "min_width": null,
      "object_fit": null,
      "object_position": null,
      "order": null,
      "overflow": null,
      "overflow_x": null,
      "overflow_y": null,
      "padding": null,
      "right": null,
      "top": null,
      "visibility": null,
      "width": null
     }
    },
    "888805c8a96746dab01320c660ef1ded": {
     "model_module": "@jupyter-widgets/controls",
     "model_module_version": "1.5.0",
     "model_name": "HBoxModel",
     "state": {
      "_dom_classes": [],
      "_model_module": "@jupyter-widgets/controls",
      "_model_module_version": "1.5.0",
      "_model_name": "HBoxModel",
      "_view_count": null,
      "_view_module": "@jupyter-widgets/controls",
      "_view_module_version": "1.5.0",
      "_view_name": "HBoxView",
      "box_style": "",
      "children": [
       "IPY_MODEL_46362fabc8964136a965ce254b885e60",
       "IPY_MODEL_3a304c9b22094b8eb910f0255db9f2be",
       "IPY_MODEL_88bf72b61b9847dea4a249eaa8b393f1"
      ],
      "layout": "IPY_MODEL_c5b9dd3bb7b745c6848574ab99a921e4"
     }
    },
    "88bf72b61b9847dea4a249eaa8b393f1": {
     "model_module": "@jupyter-widgets/controls",
     "model_module_version": "1.5.0",
     "model_name": "HTMLModel",
     "state": {
      "_dom_classes": [],
      "_model_module": "@jupyter-widgets/controls",
      "_model_module_version": "1.5.0",
      "_model_name": "HTMLModel",
      "_view_count": null,
      "_view_module": "@jupyter-widgets/controls",
      "_view_module_version": "1.5.0",
      "_view_name": "HTMLView",
      "description": "",
      "description_tooltip": null,
      "layout": "IPY_MODEL_5333dc0aa6d34d6284d31d8dd72bb991",
      "placeholder": "​",
      "style": "IPY_MODEL_7cf4535bc8d74747915583958a1263b6",
      "value": " 913/913 [00:00&lt;00:00, 14.6kB/s]"
     }
    },
    "8ab0aa9896e443b481439799472c86c8": {
     "model_module": "@jupyter-widgets/base",
     "model_module_version": "1.2.0",
     "model_name": "LayoutModel",
     "state": {
      "_model_module": "@jupyter-widgets/base",
      "_model_module_version": "1.2.0",
      "_model_name": "LayoutModel",
      "_view_count": null,
      "_view_module": "@jupyter-widgets/base",
      "_view_module_version": "1.2.0",
      "_view_name": "LayoutView",
      "align_content": null,
      "align_items": null,
      "align_self": null,
      "border": null,
      "bottom": null,
      "display": null,
      "flex": null,
      "flex_flow": null,
      "grid_area": null,
      "grid_auto_columns": null,
      "grid_auto_flow": null,
      "grid_auto_rows": null,
      "grid_column": null,
      "grid_gap": null,
      "grid_row": null,
      "grid_template_areas": null,
      "grid_template_columns": null,
      "grid_template_rows": null,
      "height": null,
      "justify_content": null,
      "justify_items": null,
      "left": null,
      "margin": null,
      "max_height": null,
      "max_width": null,
      "min_height": null,
      "min_width": null,
      "object_fit": null,
      "object_position": null,
      "order": null,
      "overflow": null,
      "overflow_x": null,
      "overflow_y": null,
      "padding": null,
      "right": null,
      "top": null,
      "visibility": null,
      "width": null
     }
    },
    "8d8dd629670d4e8eba1813b00472df87": {
     "model_module": "@jupyter-widgets/controls",
     "model_module_version": "1.5.0",
     "model_name": "DescriptionStyleModel",
     "state": {
      "_model_module": "@jupyter-widgets/controls",
      "_model_module_version": "1.5.0",
      "_model_name": "DescriptionStyleModel",
      "_view_count": null,
      "_view_module": "@jupyter-widgets/base",
      "_view_module_version": "1.2.0",
      "_view_name": "StyleView",
      "description_width": ""
     }
    },
    "8e2a22a09a3b4beeafdb5de7c646467e": {
     "model_module": "@jupyter-widgets/controls",
     "model_module_version": "1.5.0",
     "model_name": "DescriptionStyleModel",
     "state": {
      "_model_module": "@jupyter-widgets/controls",
      "_model_module_version": "1.5.0",
      "_model_name": "DescriptionStyleModel",
      "_view_count": null,
      "_view_module": "@jupyter-widgets/base",
      "_view_module_version": "1.2.0",
      "_view_name": "StyleView",
      "description_width": ""
     }
    },
    "8e451073e166466491393566319dee88": {
     "model_module": "@jupyter-widgets/controls",
     "model_module_version": "1.5.0",
     "model_name": "HTMLModel",
     "state": {
      "_dom_classes": [],
      "_model_module": "@jupyter-widgets/controls",
      "_model_module_version": "1.5.0",
      "_model_name": "HTMLModel",
      "_view_count": null,
      "_view_module": "@jupyter-widgets/controls",
      "_view_module_version": "1.5.0",
      "_view_name": "HTMLView",
      "description": "",
      "description_tooltip": null,
      "layout": "IPY_MODEL_21e0266d7a0e4a7aabaf32101964c6ec",
      "placeholder": "​",
      "style": "IPY_MODEL_8e2a22a09a3b4beeafdb5de7c646467e",
      "value": " 727/727 [00:00&lt;00:00, 16.9kB/s]"
     }
    },
    "926e43ea7b1b4147b9ac8d22a5192a55": {
     "model_module": "@jupyter-widgets/controls",
     "model_module_version": "1.5.0",
     "model_name": "ProgressStyleModel",
     "state": {
      "_model_module": "@jupyter-widgets/controls",
      "_model_module_version": "1.5.0",
      "_model_name": "ProgressStyleModel",
      "_view_count": null,
      "_view_module": "@jupyter-widgets/base",
      "_view_module_version": "1.2.0",
      "_view_name": "StyleView",
      "bar_color": null,
      "description_width": ""
     }
    },
    "9556c6068ffe4df9b271531b1bfc10fb": {
     "model_module": "@jupyter-widgets/base",
     "model_module_version": "1.2.0",
     "model_name": "LayoutModel",
     "state": {
      "_model_module": "@jupyter-widgets/base",
      "_model_module_version": "1.2.0",
      "_model_name": "LayoutModel",
      "_view_count": null,
      "_view_module": "@jupyter-widgets/base",
      "_view_module_version": "1.2.0",
      "_view_name": "LayoutView",
      "align_content": null,
      "align_items": null,
      "align_self": null,
      "border": null,
      "bottom": null,
      "display": null,
      "flex": null,
      "flex_flow": null,
      "grid_area": null,
      "grid_auto_columns": null,
      "grid_auto_flow": null,
      "grid_auto_rows": null,
      "grid_column": null,
      "grid_gap": null,
      "grid_row": null,
      "grid_template_areas": null,
      "grid_template_columns": null,
      "grid_template_rows": null,
      "height": null,
      "justify_content": null,
      "justify_items": null,
      "left": null,
      "margin": null,
      "max_height": null,
      "max_width": null,
      "min_height": null,
      "min_width": null,
      "object_fit": null,
      "object_position": null,
      "order": null,
      "overflow": null,
      "overflow_x": null,
      "overflow_y": null,
      "padding": null,
      "right": null,
      "top": null,
      "visibility": null,
      "width": null
     }
    },
    "96057c77a263443e81f6b214419fbbc7": {
     "model_module": "@jupyter-widgets/controls",
     "model_module_version": "1.5.0",
     "model_name": "DescriptionStyleModel",
     "state": {
      "_model_module": "@jupyter-widgets/controls",
      "_model_module_version": "1.5.0",
      "_model_name": "DescriptionStyleModel",
      "_view_count": null,
      "_view_module": "@jupyter-widgets/base",
      "_view_module_version": "1.2.0",
      "_view_name": "StyleView",
      "description_width": ""
     }
    },
    "97bd3472bc6a441bb060956adf587873": {
     "model_module": "@jupyter-widgets/controls",
     "model_module_version": "1.5.0",
     "model_name": "FloatProgressModel",
     "state": {
      "_dom_classes": [],
      "_model_module": "@jupyter-widgets/controls",
      "_model_module_version": "1.5.0",
      "_model_name": "FloatProgressModel",
      "_view_count": null,
      "_view_module": "@jupyter-widgets/controls",
      "_view_module_version": "1.5.0",
      "_view_name": "ProgressView",
      "bar_style": "success",
      "description": "",
      "description_tooltip": null,
      "layout": "IPY_MODEL_4400163fcad3433aad19ce92628f551f",
      "max": 411,
      "min": 0,
      "orientation": "horizontal",
      "style": "IPY_MODEL_030d6c92bb0040f7a6202830af805115",
      "value": 411
     }
    },
    "9a80fed7e89b41f585294a001e96e229": {
     "model_module": "@jupyter-widgets/base",
     "model_module_version": "1.2.0",
     "model_name": "LayoutModel",
     "state": {
      "_model_module": "@jupyter-widgets/base",
      "_model_module_version": "1.2.0",
      "_model_name": "LayoutModel",
      "_view_count": null,
      "_view_module": "@jupyter-widgets/base",
      "_view_module_version": "1.2.0",
      "_view_name": "LayoutView",
      "align_content": null,
      "align_items": null,
      "align_self": null,
      "border": null,
      "bottom": null,
      "display": null,
      "flex": null,
      "flex_flow": null,
      "grid_area": null,
      "grid_auto_columns": null,
      "grid_auto_flow": null,
      "grid_auto_rows": null,
      "grid_column": null,
      "grid_gap": null,
      "grid_row": null,
      "grid_template_areas": null,
      "grid_template_columns": null,
      "grid_template_rows": null,
      "height": null,
      "justify_content": null,
      "justify_items": null,
      "left": null,
      "margin": null,
      "max_height": null,
      "max_width": null,
      "min_height": null,
      "min_width": null,
      "object_fit": null,
      "object_position": null,
      "order": null,
      "overflow": null,
      "overflow_x": null,
      "overflow_y": null,
      "padding": null,
      "right": null,
      "top": null,
      "visibility": null,
      "width": null
     }
    },
    "9bac70f0edbe4d5b84be9f9c6a51921f": {
     "model_module": "@jupyter-widgets/base",
     "model_module_version": "1.2.0",
     "model_name": "LayoutModel",
     "state": {
      "_model_module": "@jupyter-widgets/base",
      "_model_module_version": "1.2.0",
      "_model_name": "LayoutModel",
      "_view_count": null,
      "_view_module": "@jupyter-widgets/base",
      "_view_module_version": "1.2.0",
      "_view_name": "LayoutView",
      "align_content": null,
      "align_items": null,
      "align_self": null,
      "border": null,
      "bottom": null,
      "display": null,
      "flex": null,
      "flex_flow": null,
      "grid_area": null,
      "grid_auto_columns": null,
      "grid_auto_flow": null,
      "grid_auto_rows": null,
      "grid_column": null,
      "grid_gap": null,
      "grid_row": null,
      "grid_template_areas": null,
      "grid_template_columns": null,
      "grid_template_rows": null,
      "height": null,
      "justify_content": null,
      "justify_items": null,
      "left": null,
      "margin": null,
      "max_height": null,
      "max_width": null,
      "min_height": null,
      "min_width": null,
      "object_fit": null,
      "object_position": null,
      "order": null,
      "overflow": null,
      "overflow_x": null,
      "overflow_y": null,
      "padding": null,
      "right": null,
      "top": null,
      "visibility": null,
      "width": null
     }
    },
    "9f3d0bc47ba145d3af52036a3941b2dd": {
     "model_module": "@jupyter-widgets/controls",
     "model_module_version": "1.5.0",
     "model_name": "DescriptionStyleModel",
     "state": {
      "_model_module": "@jupyter-widgets/controls",
      "_model_module_version": "1.5.0",
      "_model_name": "DescriptionStyleModel",
      "_view_count": null,
      "_view_module": "@jupyter-widgets/base",
      "_view_module_version": "1.2.0",
      "_view_name": "StyleView",
      "description_width": ""
     }
    },
    "a98ba07d04d2458bb6b97ae1988209c7": {
     "model_module": "@jupyter-widgets/controls",
     "model_module_version": "1.5.0",
     "model_name": "DescriptionStyleModel",
     "state": {
      "_model_module": "@jupyter-widgets/controls",
      "_model_module_version": "1.5.0",
      "_model_name": "DescriptionStyleModel",
      "_view_count": null,
      "_view_module": "@jupyter-widgets/base",
      "_view_module_version": "1.2.0",
      "_view_name": "StyleView",
      "description_width": ""
     }
    },
    "ba6392b57c104a6ea82a7486a01cd95e": {
     "model_module": "@jupyter-widgets/controls",
     "model_module_version": "1.5.0",
     "model_name": "ProgressStyleModel",
     "state": {
      "_model_module": "@jupyter-widgets/controls",
      "_model_module_version": "1.5.0",
      "_model_name": "ProgressStyleModel",
      "_view_count": null,
      "_view_module": "@jupyter-widgets/base",
      "_view_module_version": "1.2.0",
      "_view_name": "StyleView",
      "bar_color": null,
      "description_width": ""
     }
    },
    "c5b9dd3bb7b745c6848574ab99a921e4": {
     "model_module": "@jupyter-widgets/base",
     "model_module_version": "1.2.0",
     "model_name": "LayoutModel",
     "state": {
      "_model_module": "@jupyter-widgets/base",
      "_model_module_version": "1.2.0",
      "_model_name": "LayoutModel",
      "_view_count": null,
      "_view_module": "@jupyter-widgets/base",
      "_view_module_version": "1.2.0",
      "_view_name": "LayoutView",
      "align_content": null,
      "align_items": null,
      "align_self": null,
      "border": null,
      "bottom": null,
      "display": null,
      "flex": null,
      "flex_flow": null,
      "grid_area": null,
      "grid_auto_columns": null,
      "grid_auto_flow": null,
      "grid_auto_rows": null,
      "grid_column": null,
      "grid_gap": null,
      "grid_row": null,
      "grid_template_areas": null,
      "grid_template_columns": null,
      "grid_template_rows": null,
      "height": null,
      "justify_content": null,
      "justify_items": null,
      "left": null,
      "margin": null,
      "max_height": null,
      "max_width": null,
      "min_height": null,
      "min_width": null,
      "object_fit": null,
      "object_position": null,
      "order": null,
      "overflow": null,
      "overflow_x": null,
      "overflow_y": null,
      "padding": null,
      "right": null,
      "top": null,
      "visibility": null,
      "width": null
     }
    },
    "c69a917c28d944ff9778c2229f74fc4d": {
     "model_module": "@jupyter-widgets/base",
     "model_module_version": "1.2.0",
     "model_name": "LayoutModel",
     "state": {
      "_model_module": "@jupyter-widgets/base",
      "_model_module_version": "1.2.0",
      "_model_name": "LayoutModel",
      "_view_count": null,
      "_view_module": "@jupyter-widgets/base",
      "_view_module_version": "1.2.0",
      "_view_name": "LayoutView",
      "align_content": null,
      "align_items": null,
      "align_self": null,
      "border": null,
      "bottom": null,
      "display": null,
      "flex": null,
      "flex_flow": null,
      "grid_area": null,
      "grid_auto_columns": null,
      "grid_auto_flow": null,
      "grid_auto_rows": null,
      "grid_column": null,
      "grid_gap": null,
      "grid_row": null,
      "grid_template_areas": null,
      "grid_template_columns": null,
      "grid_template_rows": null,
      "height": null,
      "justify_content": null,
      "justify_items": null,
      "left": null,
      "margin": null,
      "max_height": null,
      "max_width": null,
      "min_height": null,
      "min_width": null,
      "object_fit": null,
      "object_position": null,
      "order": null,
      "overflow": null,
      "overflow_x": null,
      "overflow_y": null,
      "padding": null,
      "right": null,
      "top": null,
      "visibility": null,
      "width": null
     }
    },
    "c901a252959a46cdb9b8d0a3fbe0536f": {
     "model_module": "@jupyter-widgets/base",
     "model_module_version": "1.2.0",
     "model_name": "LayoutModel",
     "state": {
      "_model_module": "@jupyter-widgets/base",
      "_model_module_version": "1.2.0",
      "_model_name": "LayoutModel",
      "_view_count": null,
      "_view_module": "@jupyter-widgets/base",
      "_view_module_version": "1.2.0",
      "_view_name": "LayoutView",
      "align_content": null,
      "align_items": null,
      "align_self": null,
      "border": null,
      "bottom": null,
      "display": null,
      "flex": null,
      "flex_flow": null,
      "grid_area": null,
      "grid_auto_columns": null,
      "grid_auto_flow": null,
      "grid_auto_rows": null,
      "grid_column": null,
      "grid_gap": null,
      "grid_row": null,
      "grid_template_areas": null,
      "grid_template_columns": null,
      "grid_template_rows": null,
      "height": null,
      "justify_content": null,
      "justify_items": null,
      "left": null,
      "margin": null,
      "max_height": null,
      "max_width": null,
      "min_height": null,
      "min_width": null,
      "object_fit": null,
      "object_position": null,
      "order": null,
      "overflow": null,
      "overflow_x": null,
      "overflow_y": null,
      "padding": null,
      "right": null,
      "top": null,
      "visibility": null,
      "width": null
     }
    },
    "ce37826f028345baa7bd2ec75a8ee8ec": {
     "model_module": "@jupyter-widgets/controls",
     "model_module_version": "1.5.0",
     "model_name": "DescriptionStyleModel",
     "state": {
      "_model_module": "@jupyter-widgets/controls",
      "_model_module_version": "1.5.0",
      "_model_name": "DescriptionStyleModel",
      "_view_count": null,
      "_view_module": "@jupyter-widgets/base",
      "_view_module_version": "1.2.0",
      "_view_name": "StyleView",
      "description_width": ""
     }
    },
    "cfe9664d936c45d685babb6eb1535a5e": {
     "model_module": "@jupyter-widgets/controls",
     "model_module_version": "1.5.0",
     "model_name": "ProgressStyleModel",
     "state": {
      "_model_module": "@jupyter-widgets/controls",
      "_model_module_version": "1.5.0",
      "_model_name": "ProgressStyleModel",
      "_view_count": null,
      "_view_module": "@jupyter-widgets/base",
      "_view_module_version": "1.2.0",
      "_view_name": "StyleView",
      "bar_color": null,
      "description_width": ""
     }
    },
    "d30d7a55af394f4a884576b171412644": {
     "model_module": "@jupyter-widgets/base",
     "model_module_version": "1.2.0",
     "model_name": "LayoutModel",
     "state": {
      "_model_module": "@jupyter-widgets/base",
      "_model_module_version": "1.2.0",
      "_model_name": "LayoutModel",
      "_view_count": null,
      "_view_module": "@jupyter-widgets/base",
      "_view_module_version": "1.2.0",
      "_view_name": "LayoutView",
      "align_content": null,
      "align_items": null,
      "align_self": null,
      "border": null,
      "bottom": null,
      "display": null,
      "flex": null,
      "flex_flow": null,
      "grid_area": null,
      "grid_auto_columns": null,
      "grid_auto_flow": null,
      "grid_auto_rows": null,
      "grid_column": null,
      "grid_gap": null,
      "grid_row": null,
      "grid_template_areas": null,
      "grid_template_columns": null,
      "grid_template_rows": null,
      "height": null,
      "justify_content": null,
      "justify_items": null,
      "left": null,
      "margin": null,
      "max_height": null,
      "max_width": null,
      "min_height": null,
      "min_width": null,
      "object_fit": null,
      "object_position": null,
      "order": null,
      "overflow": null,
      "overflow_x": null,
      "overflow_y": null,
      "padding": null,
      "right": null,
      "top": null,
      "visibility": null,
      "width": null
     }
    },
    "d3596d4328aa412db980743932ee4514": {
     "model_module": "@jupyter-widgets/base",
     "model_module_version": "1.2.0",
     "model_name": "LayoutModel",
     "state": {
      "_model_module": "@jupyter-widgets/base",
      "_model_module_version": "1.2.0",
      "_model_name": "LayoutModel",
      "_view_count": null,
      "_view_module": "@jupyter-widgets/base",
      "_view_module_version": "1.2.0",
      "_view_name": "LayoutView",
      "align_content": null,
      "align_items": null,
      "align_self": null,
      "border": null,
      "bottom": null,
      "display": null,
      "flex": null,
      "flex_flow": null,
      "grid_area": null,
      "grid_auto_columns": null,
      "grid_auto_flow": null,
      "grid_auto_rows": null,
      "grid_column": null,
      "grid_gap": null,
      "grid_row": null,
      "grid_template_areas": null,
      "grid_template_columns": null,
      "grid_template_rows": null,
      "height": null,
      "justify_content": null,
      "justify_items": null,
      "left": null,
      "margin": null,
      "max_height": null,
      "max_width": null,
      "min_height": null,
      "min_width": null,
      "object_fit": null,
      "object_position": null,
      "order": null,
      "overflow": null,
      "overflow_x": null,
      "overflow_y": null,
      "padding": null,
      "right": null,
      "top": null,
      "visibility": null,
      "width": null
     }
    },
    "d881203eb4434b74a06a6129ff566d97": {
     "model_module": "@jupyter-widgets/controls",
     "model_module_version": "1.5.0",
     "model_name": "DescriptionStyleModel",
     "state": {
      "_model_module": "@jupyter-widgets/controls",
      "_model_module_version": "1.5.0",
      "_model_name": "DescriptionStyleModel",
      "_view_count": null,
      "_view_module": "@jupyter-widgets/base",
      "_view_module_version": "1.2.0",
      "_view_name": "StyleView",
      "description_width": ""
     }
    },
    "d89798f452254307878ebb16fdf7cb7d": {
     "model_module": "@jupyter-widgets/controls",
     "model_module_version": "1.5.0",
     "model_name": "ProgressStyleModel",
     "state": {
      "_model_module": "@jupyter-widgets/controls",
      "_model_module_version": "1.5.0",
      "_model_name": "ProgressStyleModel",
      "_view_count": null,
      "_view_module": "@jupyter-widgets/base",
      "_view_module_version": "1.2.0",
      "_view_name": "StyleView",
      "bar_color": null,
      "description_width": ""
     }
    },
    "dcfc68c5d900460abbcfe5318d6a0a2d": {
     "model_module": "@jupyter-widgets/controls",
     "model_module_version": "1.5.0",
     "model_name": "HTMLModel",
     "state": {
      "_dom_classes": [],
      "_model_module": "@jupyter-widgets/controls",
      "_model_module_version": "1.5.0",
      "_model_name": "HTMLModel",
      "_view_count": null,
      "_view_module": "@jupyter-widgets/controls",
      "_view_module_version": "1.5.0",
      "_view_name": "HTMLView",
      "description": "",
      "description_tooltip": null,
      "layout": "IPY_MODEL_3c3d1602cbff4a21909655f7e0ba9bf5",
      "placeholder": "​",
      "style": "IPY_MODEL_96057c77a263443e81f6b214419fbbc7",
      "value": " 7.26G/7.26G [01:04&lt;00:00, 108MB/s]"
     }
    },
    "e46a0e3473234d17b59388321269202e": {
     "model_module": "@jupyter-widgets/controls",
     "model_module_version": "1.5.0",
     "model_name": "HBoxModel",
     "state": {
      "_dom_classes": [],
      "_model_module": "@jupyter-widgets/controls",
      "_model_module_version": "1.5.0",
      "_model_name": "HBoxModel",
      "_view_count": null,
      "_view_module": "@jupyter-widgets/controls",
      "_view_module_version": "1.5.0",
      "_view_name": "HBoxView",
      "box_style": "",
      "children": [
       "IPY_MODEL_ec71d5b838c549f5bdd51583c41be74f",
       "IPY_MODEL_8183264e2d42407e8430b7a6ea06c0c0",
       "IPY_MODEL_dcfc68c5d900460abbcfe5318d6a0a2d"
      ],
      "layout": "IPY_MODEL_8ab0aa9896e443b481439799472c86c8"
     }
    },
    "e4b08d92b81344ada893a1f82d71abdd": {
     "model_module": "@jupyter-widgets/controls",
     "model_module_version": "1.5.0",
     "model_name": "ProgressStyleModel",
     "state": {
      "_model_module": "@jupyter-widgets/controls",
      "_model_module_version": "1.5.0",
      "_model_name": "ProgressStyleModel",
      "_view_count": null,
      "_view_module": "@jupyter-widgets/base",
      "_view_module_version": "1.2.0",
      "_view_name": "StyleView",
      "bar_color": null,
      "description_width": ""
     }
    },
    "e72aad80903d44eaa2f2ef7bf47e16a6": {
     "model_module": "@jupyter-widgets/base",
     "model_module_version": "1.2.0",
     "model_name": "LayoutModel",
     "state": {
      "_model_module": "@jupyter-widgets/base",
      "_model_module_version": "1.2.0",
      "_model_name": "LayoutModel",
      "_view_count": null,
      "_view_module": "@jupyter-widgets/base",
      "_view_module_version": "1.2.0",
      "_view_name": "LayoutView",
      "align_content": null,
      "align_items": null,
      "align_self": null,
      "border": null,
      "bottom": null,
      "display": null,
      "flex": null,
      "flex_flow": null,
      "grid_area": null,
      "grid_auto_columns": null,
      "grid_auto_flow": null,
      "grid_auto_rows": null,
      "grid_column": null,
      "grid_gap": null,
      "grid_row": null,
      "grid_template_areas": null,
      "grid_template_columns": null,
      "grid_template_rows": null,
      "height": null,
      "justify_content": null,
      "justify_items": null,
      "left": null,
      "margin": null,
      "max_height": null,
      "max_width": null,
      "min_height": null,
      "min_width": null,
      "object_fit": null,
      "object_position": null,
      "order": null,
      "overflow": null,
      "overflow_x": null,
      "overflow_y": null,
      "padding": null,
      "right": null,
      "top": null,
      "visibility": null,
      "width": null
     }
    },
    "ec71d5b838c549f5bdd51583c41be74f": {
     "model_module": "@jupyter-widgets/controls",
     "model_module_version": "1.5.0",
     "model_name": "HTMLModel",
     "state": {
      "_dom_classes": [],
      "_model_module": "@jupyter-widgets/controls",
      "_model_module_version": "1.5.0",
      "_model_name": "HTMLModel",
      "_view_count": null,
      "_view_module": "@jupyter-widgets/controls",
      "_view_module_version": "1.5.0",
      "_view_name": "HTMLView",
      "description": "",
      "description_tooltip": null,
      "layout": "IPY_MODEL_1d8087ee1e4541359b83478f970bafe6",
      "placeholder": "​",
      "style": "IPY_MODEL_8d8dd629670d4e8eba1813b00472df87",
      "value": "Downloading model.safetensors: 100%"
     }
    },
    "f023aa91a06a42e2a89fefa0d80d711e": {
     "model_module": "@jupyter-widgets/controls",
     "model_module_version": "1.5.0",
     "model_name": "DescriptionStyleModel",
     "state": {
      "_model_module": "@jupyter-widgets/controls",
      "_model_module_version": "1.5.0",
      "_model_name": "DescriptionStyleModel",
      "_view_count": null,
      "_view_module": "@jupyter-widgets/base",
      "_view_module_version": "1.2.0",
      "_view_name": "StyleView",
      "description_width": ""
     }
    },
    "f0e135b3036042ddb8fd418040ef48a2": {
     "model_module": "@jupyter-widgets/base",
     "model_module_version": "1.2.0",
     "model_name": "LayoutModel",
     "state": {
      "_model_module": "@jupyter-widgets/base",
      "_model_module_version": "1.2.0",
      "_model_name": "LayoutModel",
      "_view_count": null,
      "_view_module": "@jupyter-widgets/base",
      "_view_module_version": "1.2.0",
      "_view_name": "LayoutView",
      "align_content": null,
      "align_items": null,
      "align_self": null,
      "border": null,
      "bottom": null,
      "display": null,
      "flex": null,
      "flex_flow": null,
      "grid_area": null,
      "grid_auto_columns": null,
      "grid_auto_flow": null,
      "grid_auto_rows": null,
      "grid_column": null,
      "grid_gap": null,
      "grid_row": null,
      "grid_template_areas": null,
      "grid_template_columns": null,
      "grid_template_rows": null,
      "height": null,
      "justify_content": null,
      "justify_items": null,
      "left": null,
      "margin": null,
      "max_height": null,
      "max_width": null,
      "min_height": null,
      "min_width": null,
      "object_fit": null,
      "object_position": null,
      "order": null,
      "overflow": null,
      "overflow_x": null,
      "overflow_y": null,
      "padding": null,
      "right": null,
      "top": null,
      "visibility": null,
      "width": null
     }
    },
    "f43a1c0abcd3410bad80a9a5a838e175": {
     "model_module": "@jupyter-widgets/controls",
     "model_module_version": "1.5.0",
     "model_name": "HBoxModel",
     "state": {
      "_dom_classes": [],
      "_model_module": "@jupyter-widgets/controls",
      "_model_module_version": "1.5.0",
      "_model_name": "HBoxModel",
      "_view_count": null,
      "_view_module": "@jupyter-widgets/controls",
      "_view_module_version": "1.5.0",
      "_view_name": "HBoxView",
      "box_style": "",
      "children": [
       "IPY_MODEL_4d930d4d154f4cdf9b7296baadf3af17",
       "IPY_MODEL_41b035a167e94909b3a02ecb7c186821",
       "IPY_MODEL_58cfc4a548e2448d95ef4ae80013ef46"
      ],
      "layout": "IPY_MODEL_15641ec92b4d4f5e842a1e09dcd5910f"
     }
    },
    "f6a01841dd92447f81d4cf437accdf3a": {
     "model_module": "@jupyter-widgets/base",
     "model_module_version": "1.2.0",
     "model_name": "LayoutModel",
     "state": {
      "_model_module": "@jupyter-widgets/base",
      "_model_module_version": "1.2.0",
      "_model_name": "LayoutModel",
      "_view_count": null,
      "_view_module": "@jupyter-widgets/base",
      "_view_module_version": "1.2.0",
      "_view_name": "LayoutView",
      "align_content": null,
      "align_items": null,
      "align_self": null,
      "border": null,
      "bottom": null,
      "display": null,
      "flex": null,
      "flex_flow": null,
      "grid_area": null,
      "grid_auto_columns": null,
      "grid_auto_flow": null,
      "grid_auto_rows": null,
      "grid_column": null,
      "grid_gap": null,
      "grid_row": null,
      "grid_template_areas": null,
      "grid_template_columns": null,
      "grid_template_rows": null,
      "height": null,
      "justify_content": null,
      "justify_items": null,
      "left": null,
      "margin": null,
      "max_height": null,
      "max_width": null,
      "min_height": null,
      "min_width": null,
      "object_fit": null,
      "object_position": null,
      "order": null,
      "overflow": null,
      "overflow_x": null,
      "overflow_y": null,
      "padding": null,
      "right": null,
      "top": null,
      "visibility": null,
      "width": null
     }
    },
    "f7ffcf3991414a8fbe6d8491ed3a3fee": {
     "model_module": "@jupyter-widgets/base",
     "model_module_version": "1.2.0",
     "model_name": "LayoutModel",
     "state": {
      "_model_module": "@jupyter-widgets/base",
      "_model_module_version": "1.2.0",
      "_model_name": "LayoutModel",
      "_view_count": null,
      "_view_module": "@jupyter-widgets/base",
      "_view_module_version": "1.2.0",
      "_view_name": "LayoutView",
      "align_content": null,
      "align_items": null,
      "align_self": null,
      "border": null,
      "bottom": null,
      "display": null,
      "flex": null,
      "flex_flow": null,
      "grid_area": null,
      "grid_auto_columns": null,
      "grid_auto_flow": null,
      "grid_auto_rows": null,
      "grid_column": null,
      "grid_gap": null,
      "grid_row": null,
      "grid_template_areas": null,
      "grid_template_columns": null,
      "grid_template_rows": null,
      "height": null,
      "justify_content": null,
      "justify_items": null,
      "left": null,
      "margin": null,
      "max_height": null,
      "max_width": null,
      "min_height": null,
      "min_width": null,
      "object_fit": null,
      "object_position": null,
      "order": null,
      "overflow": null,
      "overflow_x": null,
      "overflow_y": null,
      "padding": null,
      "right": null,
      "top": null,
      "visibility": null,
      "width": null
     }
    },
    "fb71dd995ca3478e86710a1a8a7f51b0": {
     "model_module": "@jupyter-widgets/base",
     "model_module_version": "1.2.0",
     "model_name": "LayoutModel",
     "state": {
      "_model_module": "@jupyter-widgets/base",
      "_model_module_version": "1.2.0",
      "_model_name": "LayoutModel",
      "_view_count": null,
      "_view_module": "@jupyter-widgets/base",
      "_view_module_version": "1.2.0",
      "_view_name": "LayoutView",
      "align_content": null,
      "align_items": null,
      "align_self": null,
      "border": null,
      "bottom": null,
      "display": null,
      "flex": null,
      "flex_flow": null,
      "grid_area": null,
      "grid_auto_columns": null,
      "grid_auto_flow": null,
      "grid_auto_rows": null,
      "grid_column": null,
      "grid_gap": null,
      "grid_row": null,
      "grid_template_areas": null,
      "grid_template_columns": null,
      "grid_template_rows": null,
      "height": null,
      "justify_content": null,
      "justify_items": null,
      "left": null,
      "margin": null,
      "max_height": null,
      "max_width": null,
      "min_height": null,
      "min_width": null,
      "object_fit": null,
      "object_position": null,
      "order": null,
      "overflow": null,
      "overflow_x": null,
      "overflow_y": null,
      "padding": null,
      "right": null,
      "top": null,
      "visibility": null,
      "width": null
     }
    },
    "fbf331269a0243d38d12197b8a6e24b4": {
     "model_module": "@jupyter-widgets/base",
     "model_module_version": "1.2.0",
     "model_name": "LayoutModel",
     "state": {
      "_model_module": "@jupyter-widgets/base",
      "_model_module_version": "1.2.0",
      "_model_name": "LayoutModel",
      "_view_count": null,
      "_view_module": "@jupyter-widgets/base",
      "_view_module_version": "1.2.0",
      "_view_name": "LayoutView",
      "align_content": null,
      "align_items": null,
      "align_self": null,
      "border": null,
      "bottom": null,
      "display": null,
      "flex": null,
      "flex_flow": null,
      "grid_area": null,
      "grid_auto_columns": null,
      "grid_auto_flow": null,
      "grid_auto_rows": null,
      "grid_column": null,
      "grid_gap": null,
      "grid_row": null,
      "grid_template_areas": null,
      "grid_template_columns": null,
      "grid_template_rows": null,
      "height": null,
      "justify_content": null,
      "justify_items": null,
      "left": null,
      "margin": null,
      "max_height": null,
      "max_width": null,
      "min_height": null,
      "min_width": null,
      "object_fit": null,
      "object_position": null,
      "order": null,
      "overflow": null,
      "overflow_x": null,
      "overflow_y": null,
      "padding": null,
      "right": null,
      "top": null,
      "visibility": null,
      "width": null
     }
    }
   }
  }
 },
 "nbformat": 4,
 "nbformat_minor": 5
}
