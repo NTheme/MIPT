{
 "cells": [
  {
   "cell_type": "markdown",
   "metadata": {},
   "source": [
    "## Домашнее задание №1 (курс \"Практикум по программированию на языке Python\")"
   ]
  },
  {
   "cell_type": "markdown",
   "metadata": {},
   "source": [
    "### Выполнил: <font color='red'>Никитин Артем Анатольевич, МФТИ, ФПМИ</font>\n",
    "\n",
    "### Тема: Введение в язык\n",
    "\n",
    "#### Преподаватель: Мурат Апишев (mel-lain@yandex.ru)\n",
    "\n",
    "**Выдана**:   14 февраля 2024\n",
    "\n",
    "**Дедлайн**:  21:00 1 марта 2024\n",
    "\n",
    "**Среда выполнения**: Jupyter Notebook (Python 3.10+)\n",
    "\n",
    "#### Правила:\n",
    "\n",
    "Результат выполнения задания - Jupyter Notebook с кодом. __Максимальное число баллов за задание - 20__.\n",
    "\n",
    "Все ячейки должны быть \"выполненными\", при этом результат должен воспроизводиться при проверке (на Python 3.10). Если какой-то код не был запущен или отрабатывает с ошибками, то пункт не засчитывается. Задание, сданное после дедлайна, _не принимается_. Можно отправить недоделанное задание, выполненные пункты будут оценены.\n",
    "\n",
    "Готовое задание отправляется на почту mel-lain@yandex.ru.\n",
    "\n",
    "Задание выполняется самостоятельно. Если какие-то студенты будут уличены в списывании, все они автоматически получат за эту работу 0 баллов. Если вы нашли в Интернете какой-то специфичный код, который собираетесь заимствовать, обязательно укажите это в задании - наверняка вы не единственный, кто найдёт и использует эту информацию. <font color='blue'>Для решения задач этой лабораторной работы запрещается использовать любые приложения/API для генерации кода на основе LLM.</font>\n",
    "\n",
    "__Удалять фрагменты формулировок заданий запрещается.__"
   ]
  },
  {
   "cell_type": "markdown",
   "metadata": {},
   "source": [
    "#### Постановка задачи:\n",
    "\n",
    "- В данной работе нужно решить набор задач, проверяющих владение базовыми инструментами языка.\n",
    "- Каждая задача представляет собой написание одной или более функций, а также набора тестов, проверяющих работу этой функции в общих и крайних случаях.\n",
    "- <font color='blue'>Отсутствие тестов автоматически уменьшает количество баллов за задание как минимум в два раза, некачественные тесты также будут штрафоваться</font>.\n",
    "- Если в задании указано использовать несколько разных вариантов решения, подразумевается использование различных инструментов (циклы, списковые включения, генераторы, встроенные функции, функции модулей стандартной библотеки и т.п.), замена, например, цикла for на цикл while не является иным способом решения.\n",
    "- Даже если это не указано явно в требованиях, код должен быть по возможности неизбыточным, работать с разумной сложностью и объёмом потребялемой памяти, проверяющие могут снизить балл за задание, выполненное без учёта этого требования.\n",
    "- Результирующий код должен быть читаемым, с единой системой отступов и адеквантными названиями переменных, проверяющие могут снизить балл за задание, выполненное без учёта этого требования."
   ]
  },
  {
   "metadata": {},
   "cell_type": "markdown",
   "source": "### ВСЕ ТЕСТЫ ВНИЗУ НОУТБУКА!"
  },
  {
   "cell_type": "markdown",
   "metadata": {},
   "source": "__Задание 1 (0.5 балла):__ Дано натуральное число. Требуется определить, является ли год с данным номером високосным. Если год является високосным, то выведите YES, иначе выведите NO. Напомним, что в соответствии с григорианским календарем, год является високосным, если его номер кратен 4, но не кратен 100, а также если он кратен 400."
  },
  {
   "cell_type": "code",
   "metadata": {
    "ExecuteTime": {
     "end_time": "2025-02-22T23:20:47.938710Z",
     "start_time": "2025-02-22T23:20:47.936637Z"
    }
   },
   "source": [
    "def task_01_func(year):\n",
    "    if type(year) != int:\n",
    "        raise TypeError('year must be an integer')\n",
    "    return year % 4 == 0 and year % 100 != 0 or year % 400 == 0"
   ],
   "outputs": [],
   "execution_count": 1
  },
  {
   "cell_type": "markdown",
   "metadata": {},
   "source": [
    "__Задание 2 (0.5 балла):__ Дано натуральное число. Найдите число знаков в его десятичной записи. Предложите как минимум два различных решения."
   ]
  },
  {
   "cell_type": "code",
   "metadata": {
    "ExecuteTime": {
     "end_time": "2025-02-22T23:20:47.981594Z",
     "start_time": "2025-02-22T23:20:47.978730Z"
    }
   },
   "source": [
    "import math\n",
    "\n",
    "\n",
    "def task_02_func1(number):\n",
    "    if type(number) != int:\n",
    "        raise TypeError('number must be an integer')\n",
    "    if number <= 0:\n",
    "        raise ValueError('number must be positive')\n",
    "    return len(str(number))\n",
    "\n",
    "\n",
    "def task_02_func2(number):\n",
    "    if type(number) != int:\n",
    "        raise TypeError('number must be an integer')\n",
    "    if number <= 0:\n",
    "        raise ValueError(\"number must be positive\")\n",
    "    return math.floor(math.log10(number) + 1)"
   ],
   "outputs": [],
   "execution_count": 2
  },
  {
   "cell_type": "markdown",
   "metadata": {},
   "source": [
    "__Задание 3 (1 балл):__ По данному натуральном n вычислите сумму 1!+2!+3!+...+n!. В решении этой задачи с помощью циклов можно использовать только один цикл. Предложите как минимум два различных решения."
   ]
  },
  {
   "cell_type": "code",
   "metadata": {
    "collapsed": true,
    "jupyter": {
     "outputs_hidden": true
    },
    "ExecuteTime": {
     "end_time": "2025-02-22T23:20:48.041215Z",
     "start_time": "2025-02-22T23:20:48.039032Z"
    }
   },
   "source": [
    "import functools\n",
    "\n",
    "\n",
    "def task_03_func1(n):\n",
    "    if type(n) != int:\n",
    "        raise TypeError('number must be an integer')\n",
    "    if n <= 0:\n",
    "        raise ValueError(\"number must be positive\")\n",
    "    result = 0\n",
    "    fact = 1\n",
    "    for i in range(1, n + 1):\n",
    "        fact *= i\n",
    "        result += fact\n",
    "    return result\n",
    "\n",
    "\n",
    "def task_03_func2(n):\n",
    "    if type(n) != int:\n",
    "        raise TypeError('number must be an integer')\n",
    "    if n <= 0:\n",
    "        raise ValueError(\"number must be positive\")\n",
    "    return functools.reduce(lambda result, i: (result[0] + result[1] * i, result[1] * i), range(1, n + 1), (0, 1))[0]"
   ],
   "outputs": [],
   "execution_count": 3
  },
  {
   "cell_type": "markdown",
   "metadata": {},
   "source": [
    "__Задание 4 (1 балл):__ Определить, является ли введённая строка палиндромом (то есть одинаково читается с обеих сторон). Предложите как минимум три различных решения."
   ]
  },
  {
   "cell_type": "code",
   "metadata": {
    "collapsed": true,
    "jupyter": {
     "outputs_hidden": true
    },
    "ExecuteTime": {
     "end_time": "2025-02-22T23:20:48.083065Z",
     "start_time": "2025-02-22T23:20:48.081Z"
    }
   },
   "source": [
    "def task_04_func1(s):\n",
    "    if type(s) != str:\n",
    "        raise TypeError('s must be a string')\n",
    "    return s == s[::-1]\n",
    "\n",
    "\n",
    "def task_04_func2(s):\n",
    "    if type(s) != str:\n",
    "        raise TypeError('s must be a string')\n",
    "    for i in range(len(s) // 2):\n",
    "        if s[i] != s[-i - 1]:\n",
    "            return False\n",
    "    return True\n",
    "\n",
    "\n",
    "def task_04_func3(s):\n",
    "    if type(s) != str:\n",
    "        raise TypeError('s must be a string')\n",
    "    return s == ''.join(reversed(str(s)))"
   ],
   "outputs": [],
   "execution_count": 4
  },
  {
   "cell_type": "markdown",
   "metadata": {},
   "source": [
    "__Задание 5 (1 балл):__ Дан текст в виде строки. Напишите функцию, которая возвращает словарь, где ключами являются уникальные слова из этого текста, а значениями - число раз, которое данное слово встретилось в тексте. Считать, что слова разделяются пробелами. Предложите как минимум два различных решения."
   ]
  },
  {
   "cell_type": "code",
   "metadata": {
    "collapsed": true,
    "jupyter": {
     "outputs_hidden": true
    },
    "ExecuteTime": {
     "end_time": "2025-02-22T23:20:48.127071Z",
     "start_time": "2025-02-22T23:20:48.124569Z"
    }
   },
   "source": [
    "import string\n",
    "import collections\n",
    "\n",
    "\n",
    "def task_05_func1(text):\n",
    "    if type(text) != str:\n",
    "        raise TypeError('text must be a string')\n",
    "    res = dict()\n",
    "    word_list = text.translate(str.maketrans(string.punctuation, ' ' * len(string.punctuation))).split()\n",
    "    for word in word_list:\n",
    "        res[word] = res.get(word, 0) + 1\n",
    "    return res\n",
    "\n",
    "\n",
    "def task_05_func2(text):\n",
    "    if type(text) != str:\n",
    "        raise TypeError('text must be a string')\n",
    "    word_list = text.translate(str.maketrans(string.punctuation, ' ' * len(string.punctuation))).split()\n",
    "    return dict(collections.Counter(word_list))"
   ],
   "outputs": [],
   "execution_count": 5
  },
  {
   "cell_type": "markdown",
   "metadata": {},
   "source": [
    "__Задание 6 (1 балл):__ Напишите функцию, которая принимает на вход строку и символ и возвращает:\n",
    "\n",
    "- если символ встретился в строке один раз - кортеж (индекс вхождения, None);\n",
    "- если два и более раз - кортеж (индекс первого вхождения, индекс последнего вхождения);\n",
    "- если ни разу - кортеж (None, None).\n",
    "\n",
    "Запрещается делать более одного прохода по каждому элементу строки."
   ]
  },
  {
   "cell_type": "code",
   "metadata": {
    "collapsed": true,
    "jupyter": {
     "outputs_hidden": true
    },
    "ExecuteTime": {
     "end_time": "2025-02-22T23:20:48.170894Z",
     "start_time": "2025-02-22T23:20:48.168866Z"
    }
   },
   "source": [
    "def task_06_func(input_str, input_char):\n",
    "    if type(input_str) != str:\n",
    "        raise TypeError('input_str must be a string')\n",
    "    if type(input_char) != str or len(input_char) != 1:\n",
    "        raise TypeError('input_char must be a char')\n",
    "    res = [None, None]\n",
    "    for i in range(len(input_str)):\n",
    "        if input_str[i] == input_char:\n",
    "            if res[0] is None:\n",
    "                res[0] = i\n",
    "            else:\n",
    "                res[1] = i\n",
    "    return tuple(res)"
   ],
   "outputs": [],
   "execution_count": 6
  },
  {
   "cell_type": "markdown",
   "metadata": {},
   "source": [
    "__Задание 7 (1 балл):__ Дан список целых чисел. Напишите функцию, которая возвращает копию этого списка, из которой удалены отрицательные числа, а все прочие числа возведены в квадрат. Также возвращаемая последовательность должна быть отсортирована по убыванию. Предложите как минимум три различных решения."
   ]
  },
  {
   "cell_type": "code",
   "metadata": {
    "collapsed": true,
    "jupyter": {
     "outputs_hidden": true
    },
    "ExecuteTime": {
     "end_time": "2025-02-22T23:20:48.215086Z",
     "start_time": "2025-02-22T23:20:48.212626Z"
    }
   },
   "source": [
    "def task_07_func1(lst):\n",
    "    if type(lst) != list:\n",
    "        raise TypeError('lst must be a list')\n",
    "    return sorted([p ** 2 for p in lst if p >= 0], reverse=True)\n",
    "\n",
    "\n",
    "def task_07_func2(lst):\n",
    "    if type(lst) != list:\n",
    "        raise TypeError('lst must be a list')\n",
    "    non_neg = filter(lambda p: p >= 0, lst)\n",
    "    squared = map(lambda x: x ** 2, non_neg)\n",
    "    return sorted(squared, reverse=True)\n",
    "\n",
    "\n",
    "def task_07_func3(lst):\n",
    "    if type(lst) != list:\n",
    "        raise TypeError('lst must be a list')\n",
    "    res = []\n",
    "    for p in lst:\n",
    "        if p >= 0:\n",
    "            res.append(p ** 2)\n",
    "    return sorted(res, reverse=True)"
   ],
   "outputs": [],
   "execution_count": 7
  },
  {
   "cell_type": "markdown",
   "metadata": {},
   "source": [
    "__Задание 8 (1 балл):__ Напишите функцию, которая принимает на вход список кортежей одинаковой длины и индекс `index` элемента в кортеже и возвращает генератор, итерирование по которому позволит получит все кортежи входного списка, отсортированные по убыванию элементов этих кортежей с индексом `index`."
   ]
  },
  {
   "cell_type": "code",
   "metadata": {
    "ExecuteTime": {
     "end_time": "2025-02-22T23:20:48.260168Z",
     "start_time": "2025-02-22T23:20:48.257855Z"
    }
   },
   "source": [
    "def task_08_func(lst, index):\n",
    "    if type(lst) != list:\n",
    "        raise TypeError('lst must be a list')\n",
    "    if type(index) != int:\n",
    "        raise TypeError('index must be a integer')\n",
    "    if index < 0 or index >= len(lst):\n",
    "        raise ValueError('index must be between 0 and len(lst)')\n",
    "    indexes = [i for i in range(len(lst))]\n",
    "    sorted_indexes = sorted(indexes, key=lambda i: lst[i][index], reverse=True)\n",
    "    for p in sorted_indexes:\n",
    "        yield lst[p]"
   ],
   "outputs": [],
   "execution_count": 8
  },
  {
   "cell_type": "markdown",
   "metadata": {},
   "source": [
    "__Задание 9 (1 балл):__ Напишите функцию, которая получает на вход натуральное число `n` и выводит первые `n` строк треугольника Паскаля."
   ]
  },
  {
   "cell_type": "code",
   "metadata": {
    "collapsed": true,
    "jupyter": {
     "outputs_hidden": true
    },
    "ExecuteTime": {
     "end_time": "2025-02-22T23:20:48.303640Z",
     "start_time": "2025-02-22T23:20:48.301690Z"
    }
   },
   "source": [
    "def task_09_func(n):\n",
    "    if type(n) != int:\n",
    "        raise TypeError('n must be a integer')\n",
    "    if n <= 0:\n",
    "        raise ValueError(\"n must be positive\")\n",
    "    last = [1]\n",
    "    for i in range(n):\n",
    "        print(' ' * (n - i - 1) + ' '.join(map(str, last)))\n",
    "        cur = [last[i] + last[i + 1] for i in range(len(last) - 1)]\n",
    "        last = [1] + cur + [1]"
   ],
   "outputs": [],
   "execution_count": 9
  },
  {
   "cell_type": "markdown",
   "metadata": {},
   "source": [
    "__Задание 10 (1.5 балла):__ Напишите функцию, которая принимает на вход абсолютный путь к директории и две строки с расширениями файлов. В результате её выполнения у всех файлов в указанной директории, имеющих первое расширение, расширение должно измениться на второе. В конце работы функция должна возвращать кортеж из двух элементов:\n",
    "\n",
    "1. сколько всего в директории файлов (именно файлов, не директорий);\n",
    "2. у скольки из них расширение было изменено.\n",
    "\n",
    "Допускается только один проход по каждому файлу из указанной директории."
   ]
  },
  {
   "cell_type": "code",
   "metadata": {
    "collapsed": true,
    "jupyter": {
     "outputs_hidden": true
    },
    "ExecuteTime": {
     "end_time": "2025-02-22T23:20:48.349898Z",
     "start_time": "2025-02-22T23:20:48.347517Z"
    }
   },
   "source": [
    "import os\n",
    "\n",
    "\n",
    "def task_10_func(dir_path, prev_extension, next_extension):\n",
    "    total, changed = 0, 0\n",
    "    for name in os.listdir(dir_path):\n",
    "        file_path = os.path.join(dir_path, name)\n",
    "        if os.path.isfile(file_path):\n",
    "            total += 1\n",
    "            if name.endswith(prev_extension):\n",
    "                new_file_path = os.path.join(dir_path, name[:-len(prev_extension)] + next_extension)\n",
    "                os.rename(file_path, new_file_path)\n",
    "                changed += 1\n",
    "\n",
    "    return total, changed"
   ],
   "outputs": [],
   "execution_count": 10
  },
  {
   "cell_type": "markdown",
   "metadata": {},
   "source": [
    "__Задание 11 (0.5 балла):__ Описать функцию, которая принимает на вход два списка и возвращает список уникальных элементов, которые есть в первом входном списке и отсутствуют во втором. Запрещается использовать циклы и списковые включения/генераторы списков."
   ]
  },
  {
   "cell_type": "code",
   "metadata": {
    "collapsed": true,
    "jupyter": {
     "outputs_hidden": true
    },
    "ExecuteTime": {
     "end_time": "2025-02-22T23:20:48.393575Z",
     "start_time": "2025-02-22T23:20:48.391768Z"
    }
   },
   "source": [
    "def task_11_func(first_list, second_list):\n",
    "    if type(first_list) != list:\n",
    "        raise TypeError('first_list must be a list')\n",
    "    if type(second_list) != list:\n",
    "        raise TypeError('second_list must be a list')\n",
    "    return list(set(first_list) - set(second_list))"
   ],
   "outputs": [],
   "execution_count": 11
  },
  {
   "cell_type": "markdown",
   "metadata": {},
   "source": [
    "__Задание 12 (1 балл):__ Напишите функцию, которая получает на вход путь к файлу, в котором в каждой строке записано одно вещественное число, а также путь к выходному файлу. Функция должна прочитать содержимое файла, игнорировать строки с нечётными индексами, а строки с чётными индексами должна увеличить на минимальное из чисел, содержащихся в этом файле. Полученные числа нужно записать в выходной файл с точностью 5 знаков после запятой.\n",
    "\n",
    "Требуется сделать не более двух проходов по входному файлу, расход памяти на протяжении работы должен быть O(1) (то есть никак не зависеть от числа строк во входном файле)."
   ]
  },
  {
   "cell_type": "code",
   "metadata": {
    "collapsed": true,
    "jupyter": {
     "outputs_hidden": true
    },
    "ExecuteTime": {
     "end_time": "2025-02-22T23:20:48.442856Z",
     "start_time": "2025-02-22T23:20:48.440511Z"
    }
   },
   "source": [
    "def task_12_func(input_path, output_path):\n",
    "    if not os.path.isfile(input_path):\n",
    "        raise ValueError(f\"{input_path} is not a file\")\n",
    "    min_value = float('inf')\n",
    "\n",
    "    with open(input_path, 'r') as input_file:\n",
    "        for index, line in enumerate(input_file):\n",
    "            min_value = min(float(line.strip()), min_value)\n",
    "\n",
    "    with open(output_path, 'w') as output_file, open(input_path, 'r') as input_file:\n",
    "        for index, line in enumerate(input_file):\n",
    "            output_file.write(f\"{float(line.strip()) + min_value:.5f}\\n\")"
   ],
   "outputs": [],
   "execution_count": 12
  },
  {
   "cell_type": "markdown",
   "metadata": {},
   "source": [
    "__Задание 13 (1 балл):__ Написать функцию, которая принимает на вход число `n`, которое может быть либо натуральным, либо -1, и возвращает генератор чисел Фиббоначи. Если входной параметр равен натуральному числу, то генератор должен выдавать последовательно числа Фиббоначи до `n`-го. Если `n` равно -1, то генератор должен быть бесконечным."
   ]
  },
  {
   "cell_type": "code",
   "metadata": {
    "ExecuteTime": {
     "end_time": "2025-02-22T23:20:48.487459Z",
     "start_time": "2025-02-22T23:20:48.485295Z"
    }
   },
   "source": [
    "def task_13_func(n):\n",
    "    if type(n) != int:\n",
    "        raise TypeError('n must be a integer')\n",
    "    if n <= -2 or n == 0:\n",
    "        raise ValueError(\"n must be positive or -1\")\n",
    "    f, s = 1, 1\n",
    "\n",
    "    count = 0\n",
    "    while n == -1 or count < n:\n",
    "        yield f\n",
    "        f, s = s, f + s\n",
    "        count += 1"
   ],
   "outputs": [],
   "execution_count": 13
  },
  {
   "cell_type": "markdown",
   "metadata": {},
   "source": [
    "__Задание 14 (1 балл):__ Написать функцию, которая принимает на вход произвольный объект, проверяет его тип, и для целого числа возвращает список всех магических методов объекта, начинающихся с `__a`, для строк - с `__s`. Для всех прочих типов должен возвращаться список немагических методов. В задании запрещается использовать циклы и списковые включения/генераторы списков."
   ]
  },
  {
   "cell_type": "code",
   "metadata": {
    "collapsed": true,
    "jupyter": {
     "outputs_hidden": true
    },
    "ExecuteTime": {
     "end_time": "2025-02-22T23:20:48.531188Z",
     "start_time": "2025-02-22T23:20:48.529050Z"
    }
   },
   "source": [
    "def task_14_func(n):\n",
    "    if type(n) is int:\n",
    "        return list(filter(lambda method: method.startswith('__a'), dir(n)))\n",
    "    if type(n) is str:\n",
    "        return list(filter(lambda method: method.startswith('__s'), dir(n)))\n",
    "    return list(filter(lambda method: not method.startswith('__'), dir(n)))"
   ],
   "outputs": [],
   "execution_count": 14
  },
  {
   "cell_type": "markdown",
   "metadata": {},
   "source": "__Задание 15 (1.5 балла):__ Написать функцию, которая во входной строке заменяет вхождения всех английских заглавных букв на их номер в таблице ASCII, затем производит сплит по минимальной из цифр строки. Предложите как минимум два различных решения, одно из которых не должно использовать циклы. При использовании циклов допускается не более двух проходов по строке."
  },
  {
   "cell_type": "code",
   "metadata": {
    "ExecuteTime": {
     "end_time": "2025-02-22T23:20:48.576192Z",
     "start_time": "2025-02-22T23:20:48.572514Z"
    }
   },
   "source": [
    "def task_15_func1(n):\n",
    "    if type(n) is not str:\n",
    "        raise TypeError('n must be a string')\n",
    "    replaced = ''\n",
    "    for char in n:\n",
    "        replaced += str(ord(char)) if 'A' <= char <= 'Z' else char\n",
    "\n",
    "    digits = list(filter(lambda c: str.isdigit(c), replaced))\n",
    "    min_digit = min(digits) if digits else None\n",
    "    return replaced.split(min_digit) if min_digit is not None else [replaced]\n",
    "\n",
    "\n",
    "def task_15_func2(n):\n",
    "    if type(n) is not str:\n",
    "        raise TypeError('n must be a string')\n",
    "    replaced = re.sub(r'[A-Z]', lambda m: str(ord(m.group(0))), n)\n",
    "\n",
    "    digits = re.findall(r'\\d', replaced)\n",
    "    min_digit = min(digits) if digits else None\n",
    "    return replaced.split(min_digit) if min_digit is not None else [replaced]\n"
   ],
   "outputs": [],
   "execution_count": 15
  },
  {
   "cell_type": "markdown",
   "metadata": {},
   "source": [
    "__Задание 16 (1.5 балла):__ Написать функцию, которая принимает на вход строку и извлекает из неё мобильные телефонные номера с помощью регулярных выражений. Функция должна поддерживать общепринятые варианты написания номера, как со всевозможными разделителями, так и без них (обеспечьте поддержку не менее 10 различных случаев). Возвращаемым значением функции является список всех найденных в строке номеров, если их не было, нужно вернуть пустой список."
   ]
  },
  {
   "cell_type": "code",
   "metadata": {
    "ExecuteTime": {
     "end_time": "2025-02-22T23:20:48.621304Z",
     "start_time": "2025-02-22T23:20:48.619319Z"
    }
   },
   "source": [
    "import re\n",
    "\n",
    "\n",
    "def task_16_func(n):\n",
    "    if type(n) is not str:\n",
    "        raise TypeError('n must be a string')\n",
    "    pat = (r'(?:'\n",
    "           r'(?:\\+?\\d{1,3}-\\d{3}-|\\d{3}-)?\\d{3}-\\d{2}-\\d{2}|'\n",
    "           r'(?:\\+?\\d{1,3}\\s?\\d{3}\\s?|\\d{3}\\s?)?(?:\\d{3}-\\d{2}-\\d{2}|\\d{3}\\s?\\d{2}\\s?\\d{2})|'\n",
    "           r'(?:\\+?\\d{1,3}\\s?\\(\\d{3}\\)\\s?|\\(\\d{3}\\)\\s?)(?:\\d{3}-\\d{2}-\\d{2}|\\d{3}\\s?\\d{2}\\s?\\d{2}))')\n",
    "    return re.findall(pat, n)"
   ],
   "outputs": [],
   "execution_count": 16
  },
  {
   "cell_type": "markdown",
   "metadata": {},
   "source": [
    "__Задание 17 (4 балла):__ Опишем бинарное дерево, представленное в виде вложенных кортежей, в каждом узле дерева хранится вещественное число и ссылка на левое и правое поддерево.\n",
    "\n",
    "Пример: для сбалансированного дерева\n",
    "\n",
    "```\n",
    "        v_0\n",
    "       /   \\\n",
    "   v_11     v_12\n",
    "  /  \\       /  \\\n",
    "v_21 v_22  v_23 v_24\n",
    "```\n",
    "\n",
    "представление в виде кортежей будет выглядеть так:\n",
    "\n",
    "```\n",
    "(v_0,\n",
    "    (v_11,\n",
    "        (v_21, None, None),\n",
    "        (v_22, None, None)\n",
    "    ),\n",
    "    (v_12,\n",
    "        (v_23, None, None),\n",
    "        (v_24, None, None)\n",
    "    )\n",
    ")\n",
    "```\n",
    "\n",
    "Необходимо написать функцию, которая принимает на вход бинарное дерево (не обязательно сбалансированное), закодированное описанным способом в виде кортежа, производит его обход в глубину и для каждой листовой вершины вычисляет сумму всех значений от корня до неё включительно. Функция ничего не возвращает, вместо этого она выводит получаемые суммы в порядке следования листовых вершин (слева направо).\n",
    "\n",
    "Реализуйте два решения: на основе рекурсии и на основе циклов."
   ]
  },
  {
   "cell_type": "code",
   "metadata": {
    "ExecuteTime": {
     "end_time": "2025-02-22T23:20:48.666772Z",
     "start_time": "2025-02-22T23:20:48.664081Z"
    }
   },
   "source": [
    "def task_17_func1(n, csum=0):\n",
    "    if n is None:\n",
    "        return\n",
    "\n",
    "    val, left, right = n\n",
    "    csum += val\n",
    "\n",
    "    if left is None and right is None:\n",
    "        print(csum)\n",
    "    else:\n",
    "        if left is not None:\n",
    "            task_17_func1(left, csum)\n",
    "        if right is not None:\n",
    "            task_17_func1(right, csum)\n",
    "\n",
    "\n",
    "def task_17_func2(n):\n",
    "    if n is None:\n",
    "        return\n",
    "\n",
    "    stack = [(n, 0)]\n",
    "    while len(stack) > 0:\n",
    "        (val, left, right), csum = stack.pop()\n",
    "        csum += val\n",
    "\n",
    "        if left is None and right is None:\n",
    "            print(csum)\n",
    "        else:\n",
    "            if right is not None:\n",
    "                stack.append((right, csum))\n",
    "            if left is not None:\n",
    "                stack.append((left, csum))"
   ],
   "outputs": [],
   "execution_count": 17
  },
  {
   "metadata": {},
   "cell_type": "markdown",
   "source": "### Тестирование\n"
  },
  {
   "metadata": {
    "ExecuteTime": {
     "end_time": "2025-02-22T23:20:48.750003Z",
     "start_time": "2025-02-22T23:20:48.711535Z"
    }
   },
   "cell_type": "code",
   "source": [
    "import unittest\n",
    "\n",
    "\n",
    "class TestTask01(unittest.TestCase):\n",
    "    def test_task_01(self):\n",
    "        self.assertEqual(task_01_func(0), True)\n",
    "        self.assertEqual(task_01_func(1), False)\n",
    "        self.assertEqual(task_01_func(2), False)\n",
    "        self.assertEqual(task_01_func(3), False)\n",
    "        self.assertEqual(task_01_func(4), True)\n",
    "        self.assertEqual(task_01_func(100), False)\n",
    "        self.assertEqual(task_01_func(200), False)\n",
    "        self.assertEqual(task_01_func(300), False)\n",
    "        self.assertEqual(task_01_func(400), True)\n",
    "        self.assertEqual(task_01_func(2025), False)\n",
    "        self.assertEqual(task_01_func(2050), False)\n",
    "        self.assertEqual(task_01_func(-1992), True)\n",
    "        self.assertEqual(task_01_func(-1), False)\n",
    "        self.assertEqual(task_01_func(51510225), False)\n",
    "        self.assertEqual(task_01_func(-4520320252), True)\n",
    "        self.assertRaises(TypeError, task_01_func, None)\n",
    "        self.assertRaises(TypeError, task_01_func, [3])\n",
    "        self.assertRaises(TypeError, task_01_func, \"sds\")\n",
    "        self.assertRaises(TypeError, task_01_func, 15.2)\n",
    "\n",
    "    def test_task_02(self):\n",
    "        self.assertEqual(task_02_func1(10), 2)\n",
    "        self.assertEqual(task_02_func1(1), 1)\n",
    "        self.assertEqual(task_02_func1(2), 1)\n",
    "        self.assertEqual(task_02_func1(101), 3)\n",
    "        self.assertEqual(task_02_func1(110564), 6)\n",
    "        self.assertRaises(ValueError, task_02_func1, 0)\n",
    "        self.assertRaises(ValueError, task_02_func1, -140)\n",
    "        self.assertRaises(TypeError, task_02_func1, None)\n",
    "        self.assertRaises(TypeError, task_02_func1, [3])\n",
    "        self.assertRaises(TypeError, task_02_func1, \"sds\")\n",
    "        self.assertRaises(TypeError, task_02_func1, 15.2)\n",
    "        self.assertEqual(task_02_func2(10), 2)\n",
    "        self.assertEqual(task_02_func2(1), 1)\n",
    "        self.assertEqual(task_02_func2(2), 1)\n",
    "        self.assertEqual(task_02_func2(101), 3)\n",
    "        self.assertEqual(task_02_func2(110564), 6)\n",
    "        self.assertRaises(ValueError, task_02_func2, 0)\n",
    "        self.assertRaises(ValueError, task_02_func2, -140)\n",
    "        self.assertRaises(TypeError, task_02_func2, None)\n",
    "        self.assertRaises(TypeError, task_02_func2, [3])\n",
    "        self.assertRaises(TypeError, task_02_func2, \"sds\")\n",
    "        self.assertRaises(TypeError, task_02_func2, 15.2)\n",
    "\n",
    "    def test_task_03(self):\n",
    "        self.assertEqual(task_03_func1(1), 1)\n",
    "        self.assertEqual(task_03_func1(2), 3)\n",
    "        self.assertEqual(task_03_func1(3), 9)\n",
    "        self.assertEqual(task_03_func1(5), 153)\n",
    "        self.assertEqual(task_03_func1(12), 522956313)\n",
    "        self.assertEqual(task_03_func1(102),\n",
    "                         970966888265034730326978041655866958744790288576975990810215541761254317407794291585841450038049858868364206079489956189734702576038174412556442336528920420940313)\n",
    "        self.assertRaises(ValueError, task_03_func1, 0)\n",
    "        self.assertRaises(ValueError, task_03_func1, -140)\n",
    "        self.assertRaises(TypeError, task_03_func1, None)\n",
    "        self.assertRaises(TypeError, task_03_func1, [3])\n",
    "        self.assertRaises(TypeError, task_03_func1, \"sds\")\n",
    "        self.assertRaises(TypeError, task_03_func1, 15.2)\n",
    "        self.assertRaises(ValueError, task_03_func2, 0)\n",
    "        self.assertRaises(ValueError, task_03_func2, -140)\n",
    "        self.assertRaises(TypeError, task_03_func2, None)\n",
    "        self.assertRaises(TypeError, task_03_func2, [3])\n",
    "        self.assertRaises(TypeError, task_03_func2, \"sds\")\n",
    "        self.assertRaises(TypeError, task_03_func2, 15.2)\n",
    "\n",
    "    def test_task_04(self):\n",
    "        self.assertTrue(task_04_func1(\"\"))\n",
    "        self.assertTrue(task_04_func1(\"d\"))\n",
    "        self.assertTrue(task_04_func1(\"!\"))\n",
    "        self.assertTrue(task_04_func1(\"ss\"))\n",
    "        self.assertTrue(task_04_func1(\"abacaba\"))\n",
    "        self.assertTrue(task_04_func1(\"aaaaa\"))\n",
    "        self.assertTrue(task_04_func1(\"aabaa\"))\n",
    "        self.assertTrue(task_04_func1(\"sddfdds\"))\n",
    "        self.assertFalse(task_04_func1(\"sd\"))\n",
    "        self.assertFalse(task_04_func1(\"sdasdad\"))\n",
    "        self.assertFalse(task_04_func1(\"sddss\"))\n",
    "        self.assertFalse(task_04_func1(\"sssssssssc\"))\n",
    "        self.assertFalse(task_04_func1(\"51\"))\n",
    "        self.assertFalse(task_04_func1(\",,.,\"))\n",
    "        self.assertRaises(TypeError, task_04_func1, 51)\n",
    "        self.assertRaises(TypeError, task_04_func1, None)\n",
    "        self.assertRaises(TypeError, task_04_func1, 12.30)\n",
    "        self.assertRaises(TypeError, task_04_func1, [2])\n",
    "        self.assertTrue(task_04_func2(\"\"))\n",
    "        self.assertTrue(task_04_func2(\"d\"))\n",
    "        self.assertTrue(task_04_func2(\"!\"))\n",
    "        self.assertTrue(task_04_func2(\"ss\"))\n",
    "        self.assertTrue(task_04_func2(\"abacaba\"))\n",
    "        self.assertTrue(task_04_func2(\"aaaaa\"))\n",
    "        self.assertTrue(task_04_func2(\"aabaa\"))\n",
    "        self.assertTrue(task_04_func2(\"sddfdds\"))\n",
    "        self.assertFalse(task_04_func2(\"sd\"))\n",
    "        self.assertFalse(task_04_func2(\"sdasdad\"))\n",
    "        self.assertFalse(task_04_func2(\"sddss\"))\n",
    "        self.assertFalse(task_04_func2(\"sssssssssc\"))\n",
    "        self.assertFalse(task_04_func2(\"51\"))\n",
    "        self.assertFalse(task_04_func2(\",,.,\"))\n",
    "        self.assertRaises(TypeError, task_04_func2, 51)\n",
    "        self.assertRaises(TypeError, task_04_func2, None)\n",
    "        self.assertRaises(TypeError, task_04_func2, 12.30)\n",
    "        self.assertRaises(TypeError, task_04_func2, [2])\n",
    "        self.assertTrue(task_04_func3(\"\"))\n",
    "        self.assertTrue(task_04_func3(\"d\"))\n",
    "        self.assertTrue(task_04_func3(\"!\"))\n",
    "        self.assertTrue(task_04_func3(\"ss\"))\n",
    "        self.assertTrue(task_04_func3(\"abacaba\"))\n",
    "        self.assertTrue(task_04_func3(\"aaaaa\"))\n",
    "        self.assertTrue(task_04_func3(\"aabaa\"))\n",
    "        self.assertTrue(task_04_func3(\"sddfdds\"))\n",
    "        self.assertFalse(task_04_func3(\"sd\"))\n",
    "        self.assertFalse(task_04_func3(\"sdasdad\"))\n",
    "        self.assertFalse(task_04_func3(\"sddss\"))\n",
    "        self.assertFalse(task_04_func3(\"sssssssssc\"))\n",
    "        self.assertFalse(task_04_func3(\"51\"))\n",
    "        self.assertFalse(task_04_func3(\",,.,\"))\n",
    "        self.assertRaises(TypeError, task_04_func3, 51)\n",
    "        self.assertRaises(TypeError, task_04_func3, None)\n",
    "        self.assertRaises(TypeError, task_04_func3, 12.30)\n",
    "        self.assertRaises(TypeError, task_04_func3, [2])\n",
    "\n",
    "    def test_task_05(self):\n",
    "        self.assertEqual(task_05_func1(\"\"), {})\n",
    "        self.assertEqual(task_05_func1(\"a a a\"), {'a': 3})\n",
    "        self.assertEqual(task_05_func1(\"a,a  ,   a\"), {'a': 3})\n",
    "        self.assertEqual(task_05_func1(\"aa sd dsdsd s     saa,./a/.as...sdd./.s.\"),\n",
    "                         {'aa': 1, 'sd': 1, 's': 2, 'dsdsd': 1, 'saa': 1, 'a': 1, 'as': 1, 'sdd': 1})\n",
    "        self.assertRaises(TypeError, task_05_func1, 51)\n",
    "        self.assertRaises(TypeError, task_05_func1, None)\n",
    "        self.assertRaises(TypeError, task_05_func1, 12.30)\n",
    "        self.assertRaises(TypeError, task_05_func1, [2])\n",
    "        self.assertEqual(task_05_func2(\"\"), {})\n",
    "        self.assertEqual(task_05_func2(\"a a a\"), {'a': 3})\n",
    "        self.assertEqual(task_05_func2(\"a,a  ,   a\"), {'a': 3})\n",
    "        self.assertEqual(task_05_func2(\"aa sd dsdsd s     saa,./a/.as...sdd./.s.\"),\n",
    "                         {'aa': 1, 'sd': 1, 's': 2, 'dsdsd': 1, 'saa': 1, 'a': 1, 'as': 1, 'sdd': 1})\n",
    "        self.assertRaises(TypeError, task_05_func2, 51)\n",
    "        self.assertRaises(TypeError, task_05_func2, None)\n",
    "        self.assertRaises(TypeError, task_05_func2, 12.30)\n",
    "        self.assertRaises(TypeError, task_05_func2, [2])\n",
    "\n",
    "    def test_task_06(self):\n",
    "        self.assertRaises(TypeError, task_06_func, 15, 's')\n",
    "        self.assertRaises(TypeError, task_06_func, \"saas\", 'sd')\n",
    "        self.assertRaises(TypeError, task_06_func, \"saas\", 12)\n",
    "        self.assertRaises(TypeError, task_06_func, \"saas\", [12])\n",
    "        self.assertRaises(TypeError, task_06_func, None, 's')\n",
    "        self.assertRaises(TypeError, task_06_func, \"saas\", None)\n",
    "        self.assertRaises(TypeError, task_06_func, [12], 'd')\n",
    "        self.assertRaises(TypeError, task_06_func, 12.4, 's')\n",
    "        self.assertRaises(TypeError, task_06_func, \"saas\", 12.3)\n",
    "        self.assertEqual(task_06_func(\"sdsadaad\", 'a'), (3, 6))\n",
    "        self.assertEqual(task_06_func(\"sdsadbbd\", 'a'), (3, None))\n",
    "        self.assertEqual(task_06_func(\"sdssdsdd\", 'a'), (None, None))\n",
    "        self.assertEqual(task_06_func(\"asdsdsadada\", 'a'), (0, 10))\n",
    "        self.assertEqual(task_06_func(\"sd12./.1sadaa!1,1.2/d\", '.'), (4, 17))\n",
    "\n",
    "    def test_task_07(self):\n",
    "        self.assertEqual(task_07_func1([-1, 3, -5, 2, 6, -12]), [36, 9, 4])\n",
    "        self.assertEqual(task_07_func1([]), [])\n",
    "        self.assertEqual(task_07_func1([0]), [0])\n",
    "        self.assertEqual(task_07_func1([-1]), [])\n",
    "        self.assertEqual(task_07_func1([-1, 12, -1]), [144])\n",
    "        self.assertRaises(TypeError, task_07_func1, 51)\n",
    "        self.assertRaises(TypeError, task_07_func1, \"asd\")\n",
    "        self.assertRaises(TypeError, task_07_func1, 12.3)\n",
    "        self.assertRaises(TypeError, task_07_func1, None)\n",
    "        self.assertEqual(task_07_func2([-1, 3, -5, 2, 6, -12]), [36, 9, 4])\n",
    "        self.assertEqual(task_07_func2([]), [])\n",
    "        self.assertEqual(task_07_func2([0]), [0])\n",
    "        self.assertEqual(task_07_func2([-1]), [])\n",
    "        self.assertEqual(task_07_func2([-1, 12, -1]), [144])\n",
    "        self.assertRaises(TypeError, task_07_func2, 51)\n",
    "        self.assertRaises(TypeError, task_07_func2, \"asd\")\n",
    "        self.assertRaises(TypeError, task_07_func2, 12.3)\n",
    "        self.assertRaises(TypeError, task_07_func2, None)\n",
    "        self.assertEqual(task_07_func3([-1, 3, -5, 2, 6, -12]), [36, 9, 4])\n",
    "        self.assertEqual(task_07_func3([]), [])\n",
    "        self.assertEqual(task_07_func3([0]), [0])\n",
    "        self.assertEqual(task_07_func3([-1]), [])\n",
    "        self.assertEqual(task_07_func3([-1, 12, -1]), [144])\n",
    "        self.assertRaises(TypeError, task_07_func3, 51)\n",
    "        self.assertRaises(TypeError, task_07_func3, \"asd\")\n",
    "        self.assertRaises(TypeError, task_07_func3, 12.3)\n",
    "        self.assertRaises(TypeError, task_07_func3, None)\n",
    "\n",
    "    def test_task_08(self):\n",
    "        tests = [{'inp': [(1, 3, 6),\n",
    "                          (4, 3, 7),\n",
    "                          (2, 5, 2)],\n",
    "                  'out': \"(4, 3, 7)(2, 5, 2)(1, 3, 6)(2, 5, 2)(1, 3, 6)(4, 3, 7)(4, 3, 7)(1, 3, 6)(2, 5, 2)\"},\n",
    "                 {'inp': [(1, 2, 45, 5),\n",
    "                          (5, 6, 2, 12),\n",
    "                          (8, 0, -5, 54),\n",
    "                          (74, 5, 5, 6),\n",
    "                          (2, 75, 1, 1)],\n",
    "                  'out': \"(74, 5, 5, 6)(8, 0, -5, 54)(5, 6, 2, 12)(2, 75, 1, 1)(1, 2, 45, 5)(2, 75, 1, 1)(5, 6, 2, 12)(74, 5, 5, 6)(1, 2, 45, 5)(8, 0, -5, 54)(1, 2, 45, 5)(74, 5, 5, 6)(5, 6, 2, 12)(2, 75, 1, 1)(8, 0, -5, 54)\"}]\n",
    "\n",
    "        for test in tests:\n",
    "            out = ''\n",
    "            for i in range(0, 3):\n",
    "                for p in task_08_func(test['inp'], i):\n",
    "                    out += str(p)\n",
    "            self.assertEqual(out, test['out'])\n",
    "\n",
    "    def test_task_09(self):\n",
    "        self.assertRaises(TypeError, task_09_func, \"asd\")\n",
    "        self.assertRaises(TypeError, task_09_func, 12.3)\n",
    "        self.assertRaises(TypeError, task_09_func, None)\n",
    "        self.assertRaises(TypeError, task_09_func, [12])\n",
    "        print(\"Test task 09\")\n",
    "        task_09_func(1)\n",
    "        task_09_func(5)\n",
    "        task_09_func(10)\n",
    "        print(\"---------------------------\")\n",
    "\n",
    "    def test_task_10(self):\n",
    "        os.mkdir(\"output\")\n",
    "        os.chdir(\"output\")\n",
    "        with open(\"out.aaa\", \"w\") as _, open(\"out.bbb\", \"w\") as _, open(\"oft.aaa\", \"w\") as _:\n",
    "            self.assertEqual(task_10_func(\".\", \"aaa\", \"ccc\"), (3, 2))\n",
    "        os.remove(\"out.ccc\")\n",
    "        os.remove(\"out.bbb\")\n",
    "        os.remove(\"oft.ccc\")\n",
    "        os.chdir(\"..\")\n",
    "        os.removedirs(\"output\")\n",
    "\n",
    "    def test_task_11(self):\n",
    "        self.assertRaises(TypeError, task_11_func, \"asd\", \"asa\")\n",
    "        self.assertRaises(TypeError, task_11_func, 12, [3])\n",
    "        self.assertRaises(TypeError, task_11_func, [1], 12.45)\n",
    "        self.assertRaises(TypeError, task_11_func, None, [])\n",
    "        self.assertEqual(task_11_func([-1, 3, -5, 2, 6, -12], [3, 2, 4]), [-5, -12, 6, -1])\n",
    "        self.assertEqual(task_11_func([1, 3, 2, 4, 5, 4], [3, 2, 4]), [1, 5])\n",
    "\n",
    "    def test_task_12(self):\n",
    "        tests = [{'inp': \"3\\n3\\n2\\n1\\n3\\n5\\n8\\n1\\n2\",\n",
    "                  'out': \"4.00000\\n4.00000\\n3.00000\\n2.00000\\n4.00000\\n6.00000\\n9.00000\\n2.00000\\n3.00000\\n\"},\n",
    "                 {'inp': \"1.02\\n-12.3\\n4.01\",\n",
    "                  'out': \"-11.28000\\n-24.60000\\n-8.29000\\n\"},\n",
    "                 {'inp': \"534\\n42.1\\n52.3\",\n",
    "                  'out': \"576.10000\\n84.20000\\n94.40000\\n\"}, ]\n",
    "\n",
    "        for test in tests:\n",
    "            with open(\"inp.txt\", \"w\") as fin:\n",
    "                fin.write(test['inp'])\n",
    "            task_12_func(\"inp.txt\", \"out.txt\")\n",
    "\n",
    "            out = ''\n",
    "            with open(\"out.txt\", \"r\") as fot:\n",
    "                for index, line in enumerate(fot):\n",
    "                    out += line\n",
    "            self.assertEqual(out, test['out'])\n",
    "            os.remove(\"inp.txt\")\n",
    "            os.remove(\"out.txt\")\n",
    "\n",
    "    def test_task_13(self):\n",
    "        tests = [{'inp': 10,\n",
    "                  'out': \"1 1 2 3 5 8 13 21 34 55 \"},\n",
    "                 {'inp': 1,\n",
    "                  'out': \"1 \"},\n",
    "                 {'inp': 2,\n",
    "                  'out': \"1 1 \"},\n",
    "                 {'inp': 21,\n",
    "                  'out': \"1 1 2 3 5 8 13 21 34 55 89 144 233 377 610 987 1597 2584 4181 6765 10946 \"},\n",
    "                 {'inp': -1,\n",
    "                  'out': \"1 1 2 3 5 8 13 21 34 55 89 144 233 377 610 987 1597 2584 4181 6765 10946 17711 28657 46368 75025 121393 196418 317811 514229 832040 1346269 \"}]\n",
    "\n",
    "        for test in tests:\n",
    "            out = ''\n",
    "            cnt = 0\n",
    "            for p in task_13_func(test['inp']):\n",
    "                cnt += 1\n",
    "                out += str(p) + ' '\n",
    "                if cnt > 30:\n",
    "                    break\n",
    "            self.assertEqual(out, test['out'])\n",
    "\n",
    "    def test_task_14(self):\n",
    "        self.assertEqual(task_14_func(3), ['__abs__', '__add__', '__and__'])\n",
    "        self.assertEqual(task_14_func(3.0),\n",
    "                         ['as_integer_ratio', 'conjugate', 'fromhex', 'hex', 'imag', 'is_integer', 'real'])\n",
    "        self.assertEqual(task_14_func(\"ds\"), ['__setattr__', '__sizeof__', '__str__', '__subclasshook__'])\n",
    "        self.assertEqual(task_14_func(unittest.TestResult),\n",
    "                         ['_clean_tracebacks', '_exc_info_to_string', '_is_relevant_tb_level', '_moduleSetUpFailed',\n",
    "                          '_previousTestClass', '_remove_unittest_tb_frames', '_restoreStdout', '_setupStdout',\n",
    "                          '_testRunEntered', 'addDuration', 'addError', 'addExpectedFailure', 'addFailure', 'addSkip',\n",
    "                          'addSubTest', 'addSuccess', 'addUnexpectedSuccess', 'printErrors', 'startTest',\n",
    "                          'startTestRun', 'stop', 'stopTest', 'stopTestRun', 'wasSuccessful'])\n",
    "\n",
    "    def test_task_15(self):\n",
    "        self.assertEqual(task_15_func1(\"Hello World! ABACABA\"), ['7', 'ello 87orld! 65666567656665'])\n",
    "        self.assertEqual(task_15_func1(\".,.sa.,2a256d2.65S62D6A.D6.2,.SDs.da.asd,28as53da1535ad\"),\n",
    "                         ['.,.sa.,2a256d2.65836268665.686.2,.8368s.da.asd,28as53da', '535ad'])\n",
    "        self.assertEqual(task_15_func1(\"H00e00llo W0orl0d! AB0ACABA\"),\n",
    "                         ['72', '', 'e', '', 'llo 87', 'orl', 'd! 6566', '6567656665'])\n",
    "        self.assertEqual(task_15_func1(\"\"), [''])\n",
    "        self.assertEqual(task_15_func2(\"Hello World! ABACABA\"), ['7', 'ello 87orld! 65666567656665'])\n",
    "        self.assertEqual(task_15_func2(\".,.sa.,2a256d2.65S62D6A.D6.2,.SDs.da.asd,28as53da1535ad\"),\n",
    "                         ['.,.sa.,2a256d2.65836268665.686.2,.8368s.da.asd,28as53da', '535ad'])\n",
    "        self.assertEqual(task_15_func2(\"H00e00llo W0orl0d! AB0ACABA\"),\n",
    "                         ['72', '', 'e', '', 'llo 87', 'orl', 'd! 6566', '6567656665'])\n",
    "        self.assertEqual(task_15_func2(\"\"), [''])\n",
    "        self.assertRaises(TypeError, task_15_func1, 5)\n",
    "        self.assertRaises(TypeError, task_15_func1, [1])\n",
    "        self.assertRaises(TypeError, task_15_func1, None)\n",
    "        self.assertRaises(TypeError, task_15_func2, 5)\n",
    "        self.assertRaises(TypeError, task_15_func2, [1])\n",
    "        self.assertRaises(TypeError, task_15_func2, None)\n",
    "\n",
    "    def test_task_16(self):\n",
    "        test = \"+79452362455,84581245233,245-56-63,7(785)1452365,+751-415-452-32-78,8 012 145 25 36, 8 (755) 745-58-56, +95(412) 41225 36,25 253 145-42-56, +75 856 569 6645,wswd, 52236,,,51,,1,51,51 5 15410,k1,k5,5,65\"\n",
    "        self.assertEqual(task_16_func(test),\n",
    "                         ['+79452362455', '84581245233', '245-56-63', '7(785)1452365', '+751-415-452-32-78',\n",
    "                          '8 012 145 25 36', '8 (755) 745-58-56', '+95(412) 41225 36', '25 253 145-42-56',\n",
    "                          '+75 856 569 6645'])\n",
    "        self.assertRaises(TypeError, task_16_func, 52)\n",
    "        self.assertRaises(TypeError, task_16_func, None)\n",
    "        self.assertRaises(TypeError, task_16_func, [212])\n",
    "\n",
    "    def test_task_17(self):\n",
    "        tree = (\n",
    "            1,\n",
    "            (10, (7, None, None), (24, None, (15, None, None))),\n",
    "            (12, (4, (3, None, None), (5, None, None)), (100, None, None))\n",
    "        )\n",
    "\n",
    "        print(\"Test task 17\")\n",
    "        task_17_func1(tree)\n",
    "        print(\"Correct:\\n10\\n50\\n20\\n22\\n113\")\n",
    "\n",
    "\n",
    "unittest.main(argv=[''], verbosity=2, exit=False)"
   ],
   "outputs": [
    {
     "name": "stderr",
     "output_type": "stream",
     "text": [
      "test_task_01 (__main__.TestTask01.test_task_01) ... ok\n",
      "test_task_02 (__main__.TestTask01.test_task_02) ... ok\n",
      "test_task_03 (__main__.TestTask01.test_task_03) ... ok\n",
      "test_task_04 (__main__.TestTask01.test_task_04) ... ok\n",
      "test_task_05 (__main__.TestTask01.test_task_05) ... ok\n",
      "test_task_06 (__main__.TestTask01.test_task_06) ... ok\n",
      "test_task_07 (__main__.TestTask01.test_task_07) ... ok\n",
      "test_task_08 (__main__.TestTask01.test_task_08) ... ok\n",
      "test_task_09 (__main__.TestTask01.test_task_09) ... ok\n",
      "test_task_10 (__main__.TestTask01.test_task_10) ... ok\n",
      "test_task_11 (__main__.TestTask01.test_task_11) ... ok\n",
      "test_task_12 (__main__.TestTask01.test_task_12) ... ok\n",
      "test_task_13 (__main__.TestTask01.test_task_13) ... ok\n",
      "test_task_14 (__main__.TestTask01.test_task_14) ... ok\n",
      "test_task_15 (__main__.TestTask01.test_task_15) ... ok\n",
      "test_task_16 (__main__.TestTask01.test_task_16) ... ok\n",
      "test_task_17 (__main__.TestTask01.test_task_17) ... ok\n",
      "\n",
      "----------------------------------------------------------------------\n",
      "Ran 17 tests in 0.012s\n",
      "\n",
      "OK\n"
     ]
    },
    {
     "name": "stdout",
     "output_type": "stream",
     "text": [
      "Test task 09\n",
      "1\n",
      "    1\n",
      "   1 1\n",
      "  1 2 1\n",
      " 1 3 3 1\n",
      "1 4 6 4 1\n",
      "         1\n",
      "        1 1\n",
      "       1 2 1\n",
      "      1 3 3 1\n",
      "     1 4 6 4 1\n",
      "    1 5 10 10 5 1\n",
      "   1 6 15 20 15 6 1\n",
      "  1 7 21 35 35 21 7 1\n",
      " 1 8 28 56 70 56 28 8 1\n",
      "1 9 36 84 126 126 84 36 9 1\n",
      "---------------------------\n",
      "Test task 17\n",
      "18\n",
      "50\n",
      "20\n",
      "22\n",
      "113\n",
      "Correct:\n",
      "10\n",
      "50\n",
      "20\n",
      "22\n",
      "113\n"
     ]
    },
    {
     "data": {
      "text/plain": [
       "<unittest.main.TestProgram at 0x765f785b8ef0>"
      ]
     },
     "execution_count": 18,
     "metadata": {},
     "output_type": "execute_result"
    }
   ],
   "execution_count": 18
  }
 ],
 "metadata": {
  "kernelspec": {
   "display_name": "Python 3 (ipykernel)",
   "language": "python",
   "name": "python3"
  },
  "language_info": {
   "codemirror_mode": {
    "name": "ipython",
    "version": 3
   },
   "file_extension": ".py",
   "mimetype": "text/x-python",
   "name": "python",
   "nbconvert_exporter": "python",
   "pygments_lexer": "ipython3",
   "version": "3.12.2"
  }
 },
 "nbformat": 4,
 "nbformat_minor": 4
}
