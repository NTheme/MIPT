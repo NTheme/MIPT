{
 "cells": [
  {
   "cell_type": "code",
   "id": "initial_id",
   "metadata": {
    "collapsed": true,
    "ExecuteTime": {
     "end_time": "2024-11-08T10:05:21.671844Z",
     "start_time": "2024-11-08T10:05:21.667562Z"
    }
   },
   "source": [
    "# ****************************************** #\n",
    "# *  Author  : NTheme - All rights reserved\n",
    "# *  Created : 08 November 2024, 12:59 PM\n",
    "# *  File    : test.py.py\n",
    "# *  Project : MIPT\n",
    "# ****************************************** #\n",
    "\n",
    "import numpy as np\n",
    "\n",
    "img = np.arange(1, 25).reshape(2, 3, 4)\n",
    "\n",
    "w = np.array([1, 2, 3, 4])\n",
    "\n",
    "res = img * w\n",
    "res.sum(axis=2)"
   ],
   "outputs": [
    {
     "data": {
      "text/plain": [
       "array([[ 30,  70, 110],\n",
       "       [150, 190, 230]])"
      ]
     },
     "execution_count": 2,
     "metadata": {},
     "output_type": "execute_result"
    }
   ],
   "execution_count": 2
  }
 ],
 "metadata": {
  "kernelspec": {
   "display_name": "Python 3",
   "language": "python",
   "name": "python3"
  },
  "language_info": {
   "codemirror_mode": {
    "name": "ipython",
    "version": 2
   },
   "file_extension": ".py",
   "mimetype": "text/x-python",
   "name": "python",
   "nbconvert_exporter": "python",
   "pygments_lexer": "ipython2",
   "version": "2.7.6"
  }
 },
 "nbformat": 4,
 "nbformat_minor": 5
}
